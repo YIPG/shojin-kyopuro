{
 "cells": [
  {
   "cell_type": "code",
   "execution_count": 1,
   "metadata": {},
   "outputs": [
    {
     "data": {
      "text/plain": [
       "['# shojin-kyopuro\\n', '精進\\n', '\\n', '精進用のレポジトリです。基本的にpython. pythonさいこう。\\n']"
      ]
     },
     "execution_count": 1,
     "metadata": {},
     "output_type": "execute_result"
    }
   ],
   "source": [
    "with open(\"./README.md\", mode=\"r\") as f:\n",
    "    target = f.readlines()\n",
    "target"
   ]
  },
  {
   "cell_type": "code",
   "execution_count": 12,
   "metadata": {},
   "outputs": [
    {
     "name": "stdout",
     "output_type": "stream",
     "text": [
      "1 0\n",
      "1 1\n",
      "2 2\n",
      "3 3\n",
      "5 4\n",
      "8 5\n",
      "13 6\n",
      "7\n"
     ]
    }
   ],
   "source": [
    "target = 13\n",
    "\n",
    "def fib(n):\n",
    "    a, b = 0, 1\n",
    "    for i in range(n):\n",
    "        a, b = b, a + b\n",
    "    return b\n",
    "\n",
    "flg = True\n",
    "ans, cnt = -1, 0\n",
    "\n",
    "while flg:\n",
    "    print(fib(cnt), cnt)\n",
    "    if fib(cnt) > target:\n",
    "        flg = False\n",
    "    elif fib(cnt) == target:\n",
    "        ans = cnt + 1\n",
    "        flg = False\n",
    "    cnt += 1\n",
    "print(ans)"
   ]
  },
  {
   "cell_type": "code",
   "execution_count": 16,
   "metadata": {},
   "outputs": [
    {
     "name": "stdout",
     "output_type": "stream",
     "text": [
      "False\n"
     ]
    }
   ],
   "source": [
    "print(True & False)"
   ]
  },
  {
   "cell_type": "code",
   "execution_count": 20,
   "metadata": {},
   "outputs": [
    {
     "name": "stdout",
     "output_type": "stream",
     "text": [
      "asdf\n"
     ]
    }
   ],
   "source": [
    "if not True & False:print(\"asdf\")"
   ]
  },
  {
   "cell_type": "code",
   "execution_count": 22,
   "metadata": {},
   "outputs": [
    {
     "ename": "SystemExit",
     "evalue": "1",
     "output_type": "error",
     "traceback": [
      "An exception has occurred, use %tb to see the full traceback.\n",
      "\u001b[0;31mSystemExit\u001b[0m\u001b[0;31m:\u001b[0m 1\n"
     ]
    }
   ],
   "source": [
    "import sys\n",
    "if True:\n",
    "    sys.exit(\"1\")\n",
    "    \n",
    "print(\"abebe\")"
   ]
  },
  {
   "cell_type": "code",
   "execution_count": 35,
   "metadata": {},
   "outputs": [
    {
     "name": "stdout",
     "output_type": "stream",
     "text": [
      "True\n",
      "True\n",
      "False\n",
      "1 2\n"
     ]
    }
   ],
   "source": [
    "argv = [\"1\", \"2\"]\n",
    "print(len(argv) == 2)\n",
    "print(not (len(argv) == 2 & argv[0].isdecimal() & argv[1].isdecimal() ))\n",
    "print(not((len(argv) == 2) & argv[0].isdecimal() & argv[1].isdecimal()))\n",
    "if not ((len(argv) == 2) & argv[0].isdecimal() & argv[1].isdecimal()):\n",
    "        sys.exit(\"1\")\n",
    "\n",
    "else:\n",
    "    m,n = map(int,argv)\n",
    "\n",
    "    print(m,n)"
   ]
  },
  {
   "cell_type": "code",
   "execution_count": 43,
   "metadata": {},
   "outputs": [
    {
     "data": {
      "text/plain": [
       "6"
      ]
     },
     "execution_count": 43,
     "metadata": {},
     "output_type": "execute_result"
    }
   ],
   "source": [
    "import math\n",
    "def combinations_count(n, r):\n",
    "      return math.factorial(n) // (math.factorial(n - r) * math.factorial(r))\n",
    "combinations_count(4,2)"
   ]
  },
  {
   "cell_type": "code",
   "execution_count": 48,
   "metadata": {},
   "outputs": [
    {
     "name": "stdout",
     "output_type": "stream",
     "text": [
      "56789\n"
     ]
    }
   ],
   "source": [
    "print(\"123456789\"[-5:])"
   ]
  },
  {
   "cell_type": "code",
   "execution_count": 1,
   "metadata": {},
   "outputs": [
    {
     "name": "stdin",
     "output_type": "stream",
     "text": [
      " 5 2\n",
      " 4 5 3 1 2\n"
     ]
    },
    {
     "name": "stdout",
     "output_type": "stream",
     "text": [
      "[(-4, 1), (-5, 2)]\n",
      "[(-5, 2), (-4, 1)]\n",
      "2\n",
      "1\n",
      "3\n",
      "5\n"
     ]
    }
   ],
   "source": [
    "# 若い人K人を持つ。年長から差し替え\n",
    "import heapq as hp\n",
    "\n",
    "N,K = map(int,input().split())\n",
    "# 年齢（負）、順位の組\n",
    "X = [(-int(x), i) for i,x in enumerate(input().split(), 1)]\n",
    "\n",
    "# (年齢、順位)\n",
    "young = X[:K]\n",
    "print(young)\n",
    "hp.heapify(young)\n",
    "print(young)\n",
    "answer = [young[0][1]]\n",
    "\n",
    "for x in X[K:]:\n",
    "    hp.heappushpop(young, x)\n",
    "    answer.append(young[0][1])\n",
    "\n",
    "print(*answer, sep='\\n')\n"
   ]
  },
  {
   "cell_type": "code",
   "execution_count": 34,
   "metadata": {},
   "outputs": [
    {
     "name": "stdout",
     "output_type": "stream",
     "text": [
      "_siftdown前ヒープ: [1, 4, 3, 5, 7, 2]\n",
      "_siftdown後おわりのヒープ: [1, 4, 2, 5, 7, 3]\n"
     ]
    }
   ],
   "source": [
    "\n",
    "def _siftdown(heap, startpos, pos):\n",
    "    newitem = heap[pos]\n",
    "    # Follow the path to the root, moving parents down until finding a place\n",
    "    # newitem fits.\n",
    "    print(\"_siftdown前ヒープ: {}\".format(heap))\n",
    "    while pos > startpos:\n",
    "        parentpos = (pos - 1) >> 1\n",
    "        parent = heap[parentpos]\n",
    "        if newitem < parent:\n",
    "            heap[pos] = parent\n",
    "            pos = parentpos\n",
    "            continue\n",
    "        break\n",
    "    heap[pos] = newitem\n",
    "    print(\"_siftdown後おわりのヒープ: {}\".format(heap))\n",
    "    \n",
    "q = [1, 4, 3, 5, 7]\n",
    "q.append(2)\n",
    "_siftdown(q,0,len(q)-1)"
   ]
  },
  {
   "cell_type": "code",
   "execution_count": 36,
   "metadata": {},
   "outputs": [
    {
     "name": "stdout",
     "output_type": "stream",
     "text": [
      "pop前はじめのヒープ: [1, 4, 2, 5, 7, 3, 6]\n",
      "1 6\n",
      "siftup前ヒープ: [6, 4, 2, 5, 7, 3]\n",
      "pos: 0, childpos : 1, rightpos: 2, endpos: 6, newitem: 6\n",
      "siftup内ヒープ: [2, 4, 2, 5, 7, 3]\n",
      "pos: 2, childpos : 5, rightpos: 2, endpos: 6\n",
      "pos: 2, childpos : 5, rightpos: 6, endpos: 6, newitem: 6\n",
      "siftup内ヒープ: [2, 4, 3, 5, 7, 3]\n",
      "pos: 5, childpos : 11, rightpos: 6, endpos: 6\n",
      "_siftdown前ヒープ: [2, 4, 3, 5, 7, 6]\n",
      "_siftdown後おわりのヒープ: [2, 4, 3, 5, 7, 6]\n",
      "siftup後ヒープ: [2, 4, 3, 5, 7, 6]\n",
      "1\n"
     ]
    }
   ],
   "source": [
    "def heappop(heap):\n",
    "    print(\"pop前はじめのヒープ: {}\".format(heap))\n",
    "    \"\"\"Pop the smallest item off the heap, maintaining the heap invariant.\"\"\"\n",
    "    lastelt = heap.pop()    # raises appropriate IndexError if heap is empty\n",
    "    if heap:\n",
    "        returnitem = heap[0]\n",
    "        print(returnitem, lastelt)\n",
    "        heap[0] = lastelt\n",
    "        print(\"siftup前ヒープ: {}\".format(heap))\n",
    "        _siftup(heap, 0)\n",
    "        print(\"siftup後ヒープ: {}\".format(heap))\n",
    "        return returnitem\n",
    "    return lastelt\n",
    "\n",
    "def _siftup(heap, pos):\n",
    "    endpos = len(heap)\n",
    "    startpos = pos\n",
    "    newitem = heap[pos]\n",
    "    # Bubble up the smaller child until hitting a leaf.\n",
    "    childpos = 2*pos + 1    # leftmost child position\n",
    "    while childpos < endpos:\n",
    "        # Set childpos to index of smaller child.\n",
    "        rightpos = childpos + 1\n",
    "        print(\"pos: {}, childpos : {}, rightpos: {}, endpos: {}, newitem: {}\".format(pos,childpos,rightpos, endpos, newitem))\n",
    "        if rightpos < endpos and not heap[childpos] < heap[rightpos]:\n",
    "            childpos = rightpos\n",
    "        # Move the smaller child up.\n",
    "        heap[pos] = heap[childpos]\n",
    "        print(\"siftup内ヒープ: {}\".format(heap))\n",
    "        pos = childpos\n",
    "        childpos = 2*pos + 1\n",
    "        print(\"pos: {}, childpos : {}, rightpos: {}, endpos: {}\".format(pos,childpos,rightpos, endpos))\n",
    "        \n",
    "    # The leaf at pos is empty now.  Put newitem there, and bubble it up\n",
    "    # to its final resting place (by sifting its parents down).\n",
    "    heap[pos] = newitem\n",
    "    _siftdown(heap, startpos, pos)\n",
    "    \n",
    "q = [1, 4, 2, 5, 7, 3, 6]\n",
    "print(heappop(q))"
   ]
  },
  {
   "cell_type": "code",
   "execution_count": 9,
   "metadata": {},
   "outputs": [
    {
     "name": "stdout",
     "output_type": "stream",
     "text": [
      "Given array is\n",
      "12 11 13 5 6 7 \n",
      "arr is:  [11, 13]\n",
      "[11] [13]\n",
      "1 0 [11, 13]\n",
      "arr is:  [12, 11, 13]\n",
      "[12] [11, 13]\n",
      "0 1 [11, 11, 13]\n",
      "[12] [11, 13]\n",
      "1 1 [11, 12, 13]\n",
      "arr is:  [6, 7]\n",
      "[6] [7]\n",
      "1 0 [6, 7]\n",
      "arr is:  [5, 6, 7]\n",
      "[5] [6, 7]\n",
      "1 0 [5, 6, 7]\n",
      "arr is:  [12, 11, 13, 5, 6, 7]\n",
      "[11, 12, 13] [5, 6, 7]\n",
      "0 1 [5, 11, 13, 5, 6, 7]\n",
      "[11, 12, 13] [5, 6, 7]\n",
      "0 2 [5, 6, 13, 5, 6, 7]\n",
      "[11, 12, 13] [5, 6, 7]\n",
      "0 3 [5, 6, 7, 5, 6, 7]\n",
      "Sorted array is: \n",
      "5 6 7 11 12 13 \n"
     ]
    }
   ],
   "source": [
    "# Python program for implementation of MergeSort \n",
    "def mergeSort(arr): \n",
    "\tif len(arr) >1: \n",
    "\t\tmid = len(arr)//2 #Finding the mid of the array \n",
    "\t\tL = arr[:mid] # Dividing the array elements \n",
    "\t\tR = arr[mid:] # into 2 halves \n",
    "\n",
    "\t\tmergeSort(L) # Sorting the first half \n",
    "\t\tmergeSort(R) # Sorting the second half \n",
    "\n",
    "\t\ti = j = k = 0\n",
    "\t\tprint(\"arr is: \",arr)\n",
    "\t\t\n",
    "\t\t# Copy data to temp arrays L[] and R[] \n",
    "\t\twhile i < len(L) and j < len(R): \n",
    "\t\t\tprint(L,R)\n",
    "\t\t\tif L[i] < R[j]: \n",
    "\t\t\t\tarr[k] = L[i] \n",
    "\t\t\t\ti+=1\n",
    "\t\t\telse: \n",
    "\t\t\t\tarr[k] = R[j] \n",
    "\t\t\t\tj+=1\n",
    "\t\t\tk+=1\n",
    "\t\t\tprint(i,j,arr)\n",
    "\t\t\n",
    "\t\t# Checking if any element was left \n",
    "\t\twhile i < len(L): \n",
    "\t\t\tarr[k] = L[i] \n",
    "\t\t\ti+=1\n",
    "\t\t\tk+=1\n",
    "\t\t\n",
    "\t\twhile j < len(R): \n",
    "\t\t\tarr[k] = R[j] \n",
    "\t\t\tj+=1\n",
    "\t\t\tk+=1\n",
    "\n",
    "# Code to print the list \n",
    "def printList(arr): \n",
    "\tfor i in range(len(arr)):\t\t \n",
    "\t\tprint(arr[i],end=\" \") \n",
    "\tprint() \n",
    "\n",
    "# driver code to test the above code \n",
    "if __name__ == '__main__': \n",
    "\tarr = [12, 11, 13, 5, 6, 7] \n",
    "\tprint (\"Given array is\", end=\"\\n\") \n",
    "\tprintList(arr) \n",
    "\tmergeSort(arr) \n",
    "\tprint(\"Sorted array is: \", end=\"\\n\") \n",
    "\tprintList(arr) \n",
    "\n",
    "# This code is contributed by Mayank Khanna \n"
   ]
  },
  {
   "cell_type": "code",
   "execution_count": null,
   "metadata": {},
   "outputs": [],
   "source": []
  }
 ],
 "metadata": {
  "kernelspec": {
   "display_name": "Python 3",
   "language": "python",
   "name": "python3"
  },
  "language_info": {
   "codemirror_mode": {
    "name": "ipython",
    "version": 3
   },
   "file_extension": ".py",
   "mimetype": "text/x-python",
   "name": "python",
   "nbconvert_exporter": "python",
   "pygments_lexer": "ipython3",
   "version": "3.7.1"
  }
 },
 "nbformat": 4,
 "nbformat_minor": 2
}
