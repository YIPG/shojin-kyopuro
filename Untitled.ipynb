{
 "cells": [
  {
   "cell_type": "code",
   "execution_count": 1,
   "metadata": {},
   "outputs": [
    {
     "data": {
      "text/plain": [
       "['# shojin-kyopuro\\n', '精進\\n', '\\n', '精進用のレポジトリです。基本的にpython. pythonさいこう。\\n']"
      ]
     },
     "execution_count": 1,
     "metadata": {},
     "output_type": "execute_result"
    }
   ],
   "source": [
    "with open(\"./README.md\", mode=\"r\") as f:\n",
    "    target = f.readlines()\n",
    "target"
   ]
  },
  {
   "cell_type": "code",
   "execution_count": 12,
   "metadata": {},
   "outputs": [
    {
     "name": "stdout",
     "output_type": "stream",
     "text": [
      "1 0\n",
      "1 1\n",
      "2 2\n",
      "3 3\n",
      "5 4\n",
      "8 5\n",
      "13 6\n",
      "7\n"
     ]
    }
   ],
   "source": [
    "target = 13\n",
    "\n",
    "def fib(n):\n",
    "    a, b = 0, 1\n",
    "    for i in range(n):\n",
    "        a, b = b, a + b\n",
    "    return b\n",
    "\n",
    "flg = True\n",
    "ans, cnt = -1, 0\n",
    "\n",
    "while flg:\n",
    "    print(fib(cnt), cnt)\n",
    "    if fib(cnt) > target:\n",
    "        flg = False\n",
    "    elif fib(cnt) == target:\n",
    "        ans = cnt + 1\n",
    "        flg = False\n",
    "    cnt += 1\n",
    "print(ans)"
   ]
  },
  {
   "cell_type": "code",
   "execution_count": 16,
   "metadata": {},
   "outputs": [
    {
     "name": "stdout",
     "output_type": "stream",
     "text": [
      "False\n"
     ]
    }
   ],
   "source": [
    "print(True & False)"
   ]
  },
  {
   "cell_type": "code",
   "execution_count": 20,
   "metadata": {},
   "outputs": [
    {
     "name": "stdout",
     "output_type": "stream",
     "text": [
      "asdf\n"
     ]
    }
   ],
   "source": [
    "if not True & False:print(\"asdf\")"
   ]
  },
  {
   "cell_type": "code",
   "execution_count": 22,
   "metadata": {},
   "outputs": [
    {
     "ename": "SystemExit",
     "evalue": "1",
     "output_type": "error",
     "traceback": [
      "An exception has occurred, use %tb to see the full traceback.\n",
      "\u001b[0;31mSystemExit\u001b[0m\u001b[0;31m:\u001b[0m 1\n"
     ]
    }
   ],
   "source": [
    "import sys\n",
    "if True:\n",
    "    sys.exit(\"1\")\n",
    "    \n",
    "print(\"abebe\")"
   ]
  },
  {
   "cell_type": "code",
   "execution_count": 35,
   "metadata": {},
   "outputs": [
    {
     "name": "stdout",
     "output_type": "stream",
     "text": [
      "True\n",
      "True\n",
      "False\n",
      "1 2\n"
     ]
    }
   ],
   "source": [
    "argv = [\"1\", \"2\"]\n",
    "print(len(argv) == 2)\n",
    "print(not (len(argv) == 2 & argv[0].isdecimal() & argv[1].isdecimal() ))\n",
    "print(not((len(argv) == 2) & argv[0].isdecimal() & argv[1].isdecimal()))\n",
    "if not ((len(argv) == 2) & argv[0].isdecimal() & argv[1].isdecimal()):\n",
    "        sys.exit(\"1\")\n",
    "\n",
    "else:\n",
    "    m,n = map(int,argv)\n",
    "\n",
    "    print(m,n)"
   ]
  },
  {
   "cell_type": "code",
   "execution_count": 43,
   "metadata": {},
   "outputs": [
    {
     "data": {
      "text/plain": [
       "6"
      ]
     },
     "execution_count": 43,
     "metadata": {},
     "output_type": "execute_result"
    }
   ],
   "source": [
    "import math\n",
    "def combinations_count(n, r):\n",
    "      return math.factorial(n) // (math.factorial(n - r) * math.factorial(r))\n",
    "combinations_count(4,2)"
   ]
  },
  {
   "cell_type": "code",
   "execution_count": 48,
   "metadata": {},
   "outputs": [
    {
     "name": "stdout",
     "output_type": "stream",
     "text": [
      "56789\n"
     ]
    }
   ],
   "source": [
    "print(\"123456789\"[-5:])"
   ]
  },
  {
   "cell_type": "code",
   "execution_count": null,
   "metadata": {},
   "outputs": [],
   "source": []
  }
 ],
 "metadata": {
  "kernelspec": {
   "display_name": "Python 3",
   "language": "python",
   "name": "python3"
  },
  "language_info": {
   "codemirror_mode": {
    "name": "ipython",
    "version": 3
   },
   "file_extension": ".py",
   "mimetype": "text/x-python",
   "name": "python",
   "nbconvert_exporter": "python",
   "pygments_lexer": "ipython3",
   "version": "3.7.1"
  }
 },
 "nbformat": 4,
 "nbformat_minor": 2
}
