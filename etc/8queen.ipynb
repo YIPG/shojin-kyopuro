{
 "cells": [
  {
   "cell_type": "markdown",
   "metadata": {},
   "source": [
    "# LINEのweb試験攻略"
   ]
  },
  {
   "cell_type": "markdown",
   "metadata": {},
   "source": [
    "#### LINEの新卒web試験にて例題として挙げられたものを解いてみる。\n",
    "\n",
    "### 逆ポーランド記法\n",
    "例外処理に気をつけろ。 (*数式、空文字列、文字長*など)\n",
    "\n",
    "### **8クイーン問題**\n",
    "8×8ならば全探索でも\n",
    "$\n",
    "O(n^n) = 8^8 = 16777216\n",
    "$\n",
    "で済むが、Nが増えると地獄. なので全探索書くとテストケースは通っても落ちるよ(我場合)\n",
    "\n",
    "### 単純換字暗号\n",
    "そもそも答えが出せないらしい([参考リンク](https://www.hack.vet/entry/20161203/1480763336)) (え"
   ]
  },
  {
   "cell_type": "code",
   "execution_count": 3,
   "metadata": {},
   "outputs": [
    {
     "data": {
      "image/jpeg": "[encoded data removed]",
      "text/html": [
       "\n",
       "        <iframe\n",
       "            width=\"400\"\n",
       "            height=\"300\"\n",
       "            src=\"https://www.youtube.com/embed/kpG3QSHCzPY\"\n",
       "            frameborder=\"0\"\n",
       "            allowfullscreen\n",
       "        ></iframe>\n",
       "        "
      ],
      "text/plain": [
       "<IPython.lib.display.YouTubeVideo at 0x110e43d30>"
      ]
     },
     "execution_count": 3,
     "metadata": {},
     "output_type": "execute_result"
    }
   ],
   "source": [
    "import IPython.display\n",
    "\n",
    "IPython.display.YouTubeVideo('kpG3QSHCzPY')"
   ]
  },
  {
   "cell_type": "markdown",
   "metadata": {},
   "source": [
    "[このページ](http://www.shido.info/py/queen_py3.html)を参照して実装していきます。盤面はタプルで実装し、この時点で縦横の条件はクリアしています。\n",
    "\n",
    "加えて斜めですが、まず盤面の左から順にクイーンを置いていき、2列目から3列目のコマの置き位置を予想します。\n",
    "\n",
    "| 1 | 2| 3|4|5|6|7|8|\n",
    "|-|-|-|-|-|-|-|-|\n",
    "|. | . | .|. | . | .|. | .|\n",
    "|. | . | .|. | . | .|. | .|\n",
    "|. | . | .|. | . | .|. | .|\n",
    "|. | . | .|. | . | .|. | .|\n",
    "|. | . | ×|. | . | .|. | .|\n",
    "|. | ○ | .|. | . | .|. | .|\n",
    "|. | . | ×|. | . | .|. | .|\n",
    "|○ | . | .|. | . | .|. | .|\n",
    "\n"
   ]
  },
  {
   "cell_type": "code",
   "execution_count": null,
   "metadata": {},
   "outputs": [],
   "source": [
    "M = [list(input()) for i in range(8)]\n",
    " \n",
    "def check(M,y,x):\n",
    "    for i in range(1,8):\n",
    "        yl = [y  ,y  ,y-i,y+i,y-i,y-i,y+i,y+i]\n",
    "        xl = [x-i,x+i,x  ,  x,x-i,x+i,x-i,x+i]\n",
    "    for i2, j2 in zip(yl,xl): \n",
    "        if 0<=i2 <=7 and 0<=j2<=7 and M[i2][j2] == \"Q\":\n",
    "            return 0\n",
    "    return 1\n",
    " \n",
    "def dfs(M,q):\n",
    "    if q == 0:\n",
    "        for m in M:\n",
    "            print(\"\".join(m))\n",
    "        exit()\n",
    " \n",
    "    for y in range(8):\n",
    "        for x in range(8):\n",
    "            if M[y][x] != \"Q\" and check(M,y,x) == 1:\n",
    "                M[y][x] = \"Q\" #Qにして探索\n",
    "                dfs(M,q-1)\n",
    "                M[y][x] = \".\" #駄目なら戻す\n",
    " \n",
    "        \n",
    "for y in range(8):\n",
    "    for x in range(8):\n",
    "        if M[y][x] == \"Q\" and check(M,y,x) == 0:\n",
    "            print(\"No Answer\")\n",
    "            exit()\n",
    " \n",
    "dfs(M,5)\n",
    "print(\"No Answer\")"
   ]
  },
  {
   "cell_type": "code",
   "execution_count": 14,
   "metadata": {},
   "outputs": [
    {
     "data": {
      "text/plain": [
       "[0, 1, 2, 3, 4, 5, 6, 7]"
      ]
     },
     "execution_count": 14,
     "metadata": {},
     "output_type": "execute_result"
    }
   ],
   "source": [
    "ans = [-1]*8\n",
    "for q in qn"
   ]
  },
  {
   "cell_type": "code",
   "execution_count": 7,
   "metadata": {},
   "outputs": [],
   "source": [
    "a = (1,) + a"
   ]
  },
  {
   "cell_type": "code",
   "execution_count": 9,
   "metadata": {},
   "outputs": [],
   "source": [
    "a += (2,)"
   ]
  },
  {
   "cell_type": "code",
   "execution_count": 11,
   "metadata": {},
   "outputs": [],
   "source": [
    "a += (1,)"
   ]
  },
  {
   "cell_type": "code",
   "execution_count": 12,
   "metadata": {},
   "outputs": [
    {
     "data": {
      "text/plain": [
       "(1, 2, 1)"
      ]
     },
     "execution_count": 12,
     "metadata": {},
     "output_type": "execute_result"
    }
   ],
   "source": [
    "a"
   ]
  },
  {
   "cell_type": "code",
   "execution_count": 18,
   "metadata": {},
   "outputs": [
    {
     "data": {
      "text/plain": [
       "[0, 1, 3, 4, 5, 6, 7]"
      ]
     },
     "execution_count": 18,
     "metadata": {},
     "output_type": "execute_result"
    }
   ],
   "source": [
    "asfasfaf = list(range(8))\n",
    "asfasfaf.pop(2)\n",
    "asfasfaf"
   ]
  },
  {
   "cell_type": "code",
   "execution_count": 21,
   "metadata": {},
   "outputs": [
    {
     "name": "stdout",
     "output_type": "stream",
     "text": [
      "a == null\n"
     ]
    }
   ],
   "source": [
    "a = []\n",
    "if not a:\n",
    "    print(\"a == null\")\n",
    "a= [1]\n",
    "if not a:\n",
    "    print(\"a == nullではない\")"
   ]
  },
  {
   "cell_type": "code",
   "execution_count": null,
   "metadata": {},
   "outputs": [],
   "source": []
  }
 ],
 "metadata": {
  "kernelspec": {
   "display_name": "Python 3",
   "language": "python",
   "name": "python3"
  },
  "language_info": {
   "codemirror_mode": {
    "name": "ipython",
    "version": 3
   },
   "file_extension": ".py",
   "mimetype": "text/x-python",
   "name": "python",
   "nbconvert_exporter": "python",
   "pygments_lexer": "ipython3",
   "version": "3.7.1"
  }
 },
 "nbformat": 4,
 "nbformat_minor": 2
}
