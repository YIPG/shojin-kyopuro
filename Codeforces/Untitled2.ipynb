{
 "cells": [
  {
   "cell_type": "markdown",
   "metadata": {},
   "source": [
    "# B"
   ]
  },
  {
   "cell_type": "code",
   "execution_count": 16,
   "metadata": {},
   "outputs": [
    {
     "name": "stdin",
     "output_type": "stream",
     "text": [
      " 39\n"
     ]
    },
    {
     "name": "stdout",
     "output_type": "stream",
     "text": [
      "4\n",
      "5 3\n"
     ]
    }
   ],
   "source": [
    "n=int(input())\n",
    "cnt = 0\n",
    "res = []\n",
    "\n",
    "while n&(n+1):\n",
    "    if cnt%2==0:\n",
    "        b=bin(n)[2:]\n",
    "        l = len(b)\n",
    "        z=b.find(\"0\")\n",
    "        n ^= (1<<(l-z))-1\n",
    "        res.append(l-z)\n",
    "    else:\n",
    "        n+=1\n",
    "    cnt+=1\n",
    "print(cnt)\n",
    "if len(res)!=0:\n",
    "    print(*res)"
   ]
  },
  {
   "cell_type": "code",
   "execution_count": 71,
   "metadata": {},
   "outputs": [
    {
     "name": "stdin",
     "output_type": "stream",
     "text": [
      " 6 10\n"
     ]
    },
    {
     "name": "stdout",
     "output_type": "stream",
     "text": [
      "2\n"
     ]
    }
   ],
   "source": [
    "ii = lambda: int(input())\n",
    "mi = lambda: map(int, input().split())\n",
    "li = lambda: list(mi())\n",
    "\n",
    "a,b=mi()\n",
    "a,b = min(a,b), max(a,b)\n",
    "\n",
    "X = b-a\n",
    "\n",
    "def gcd(a, b):\n",
    "    if b == 0:\n",
    "        return a\n",
    "    else:\n",
    "        return gcd(b, a % b)\n",
    "    \n",
    "def lcm(a, b):\n",
    "    return a*b//gcd(a,b)\n",
    "\n",
    "def prime_factor(x):\n",
    "    pf = []\n",
    "    for i in range(1,int(x**0.5)+1):\n",
    "        if x%i==0:\n",
    "            pf.append(i)\n",
    "            pf.append(x//i)\n",
    "    pf = sorted(list(set(pf)))\n",
    "    return pf\n",
    "\n",
    "if a==b:\n",
    "    print(0)\n",
    "else:\n",
    "#     print(\"a is {}, b is {}\".format(a,b))\n",
    "    D = prime_factor(X)\n",
    "    minimum = 10**100\n",
    "#     print(\"prime factors are {}\".format(D))\n",
    "    for d in D:\n",
    "        k=-a%d\n",
    "        L = lcm(a+k,b+k)\n",
    "        if minimum > L:\n",
    "            minimum = L\n",
    "            ans=k\n",
    "    print(ans)\n",
    "        \n",
    "#         print(\"k is \",k)\n",
    "#         print(\"a+k is {}, b+k is {}\".format(a+k, b+k))\n",
    "#         print(\"lcm is \",lcm(a+k,b+k))\n",
    "#         k = -A%d\n",
    "#         L = lcm(A+k, B+k)\n",
    "#         if mi > L or (mi == L and ans > k):\n",
    "#             mi = L\n",
    "#             ans = k\n",
    "#     print(ans)"
   ]
  },
  {
   "cell_type": "code",
   "execution_count": 61,
   "metadata": {},
   "outputs": [
    {
     "data": {
      "text/plain": [
       "45"
      ]
     },
     "execution_count": 61,
     "metadata": {},
     "output_type": "execute_result"
    }
   ],
   "source": [
    "lcm(5,9)"
   ]
  },
  {
   "cell_type": "code",
   "execution_count": 52,
   "metadata": {},
   "outputs": [
    {
     "name": "stdout",
     "output_type": "stream",
     "text": [
      "[1, 2, 4, 5, 10, 20]\n"
     ]
    }
   ],
   "source": [
    "def primeFactor(N):\n",
    "    i = 2\n",
    "    ret = {}\n",
    "    n = N\n",
    "    if n < 0:\n",
    "        ret[-1] = 1\n",
    "        n = -n\n",
    "    if n == 0:\n",
    "        ret[0] = 1\n",
    "    d = 2\n",
    "    sq = int(n ** (1/2))\n",
    "    while i <= sq:\n",
    "        k = 0\n",
    "        while n % i == 0:\n",
    "            n //= i\n",
    "            k += 1\n",
    "            ret[i] = k\n",
    "        if k > 0:\n",
    "            sq = int(n**(1/2))\n",
    "        if i == 2:\n",
    "            i = 3\n",
    "        elif i == 3:\n",
    "            i = 5\n",
    "        elif d == 2:\n",
    "            i += 2\n",
    "            d = 4\n",
    "        else:\n",
    "            i += 4\n",
    "            d = 2\n",
    "        \n",
    "    if n > 1:\n",
    "        ret[n] = 1\n",
    "    return ret\n",
    "\n",
    "def divisors(N):\n",
    "    pf = primeFactor(N)\n",
    "    ret = [1]\n",
    "    for p in pf:\n",
    "        ret_prev = ret\n",
    "        ret = []\n",
    "        for i in range(pf[p]+1):\n",
    "            for r in ret_prev:\n",
    "                ret.append(r * (p ** i))\n",
    "    return sorted(ret)\n",
    "\n",
    "print(divisors(20))"
   ]
  },
  {
   "cell_type": "code",
   "execution_count": 11,
   "metadata": {},
   "outputs": [
    {
     "data": {
      "text/plain": [
       "32"
      ]
     },
     "execution_count": 11,
     "metadata": {},
     "output_type": "execute_result"
    }
   ],
   "source": [
    "if A == B:\n",
    "    print(0)\n",
    "else:\n",
    "    mi = 10**100\n",
    "    ans = -1\n",
    "    D = divisors(abs(B-A))\n",
    "    for d in D:\n",
    "        k = -A%d\n",
    "        L = lcm(A+k, B+k)\n",
    "        if mi > L or (mi == L and ans > k):\n",
    "            mi = L\n",
    "            ans = k\n",
    "    print(ans)"
   ]
  },
  {
   "cell_type": "code",
   "execution_count": null,
   "metadata": {},
   "outputs": [],
   "source": []
  }
 ],
 "metadata": {
  "kernelspec": {
   "display_name": "Python 3",
   "language": "python",
   "name": "python3"
  },
  "language_info": {
   "codemirror_mode": {
    "name": "ipython",
    "version": 3
   },
   "file_extension": ".py",
   "mimetype": "text/x-python",
   "name": "python",
   "nbconvert_exporter": "python",
   "pygments_lexer": "ipython3",
   "version": "3.7.1"
  }
 },
 "nbformat": 4,
 "nbformat_minor": 2
}
