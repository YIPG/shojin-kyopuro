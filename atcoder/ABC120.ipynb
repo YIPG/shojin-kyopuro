{
 "cells": [
  {
   "cell_type": "markdown",
   "metadata": {},
   "source": [
    "# 下のシェル実行したらスタート"
   ]
  },
  {
   "cell_type": "code",
   "execution_count": 6,
   "metadata": {},
   "outputs": [
    {
     "data": {
      "text/plain": [
       "datetime.datetime(2019, 2, 7, 13, 36, 30, 320751)"
      ]
     },
     "execution_count": 6,
     "metadata": {},
     "output_type": "execute_result"
    }
   ],
   "source": [
    "from datetime import datetime\n",
    "start = datetime.now()\n",
    "start"
   ]
  },
  {
   "cell_type": "markdown",
   "metadata": {},
   "source": [
    "# A"
   ]
  },
  {
   "cell_type": "code",
   "execution_count": 3,
   "metadata": {},
   "outputs": [
    {
     "name": "stdin",
     "output_type": "stream",
     "text": [
      " 2 11 4\n"
     ]
    },
    {
     "name": "stdout",
     "output_type": "stream",
     "text": [
      "4\n"
     ]
    }
   ],
   "source": [
    "b"
   ]
  },
  {
   "cell_type": "markdown",
   "metadata": {},
   "source": [
    "# B"
   ]
  },
  {
   "cell_type": "code",
   "execution_count": 10,
   "metadata": {},
   "outputs": [
    {
     "name": "stdin",
     "output_type": "stream",
     "text": [
      " 100 50 4\n"
     ]
    },
    {
     "name": "stdout",
     "output_type": "stream",
     "text": [
      "[1, 2, 5, 10, 25, 50]\n",
      "5\n"
     ]
    },
    {
     "name": "stderr",
     "output_type": "stream",
     "text": [
      "/anaconda3/lib/python3.7/site-packages/ipykernel_launcher.py:3: DeprecationWarning: fractions.gcd() is deprecated. Use math.gcd() instead.\n",
      "  This is separate from the ipykernel package so we can avoid doing imports until\n"
     ]
    }
   ],
   "source": [
    "import fractions\n",
    "A,B,K =map(int,input().split())\n",
    "tmp = fractions.gcd(A,B)\n",
    "l =[]\n",
    "for i in range(tmp):\n",
    "    if tmp % (i+1) == 0:\n",
    "        l.append(i+1)\n",
    "print(l[-K])"
   ]
  },
  {
   "cell_type": "markdown",
   "metadata": {},
   "source": [
    "# C"
   ]
  },
  {
   "cell_type": "code",
   "execution_count": 15,
   "metadata": {},
   "outputs": [
    {
     "name": "stdin",
     "output_type": "stream",
     "text": [
      " 0\n"
     ]
    },
    {
     "name": "stdout",
     "output_type": "stream",
     "text": [
      "0\n"
     ]
    }
   ],
   "source": [
    "s = input()\n",
    "ans = s.count(\"0\")\n",
    "print(min(ans, len(s)-ans)*2)"
   ]
  },
  {
   "cell_type": "markdown",
   "metadata": {},
   "source": [
    "# D(不正解)"
   ]
  },
  {
   "cell_type": "code",
   "execution_count": 50,
   "metadata": {},
   "outputs": [
    {
     "name": "stdin",
     "output_type": "stream",
     "text": [
      " 4 5\n",
      " 1 2\n",
      " 3 4\n",
      " 1 3\n",
      " 2 3\n",
      " 1 4\n"
     ]
    },
    {
     "name": "stdout",
     "output_type": "stream",
     "text": [
      "両方ない\n",
      "両方ない\n",
      "両方ある\n",
      "[1, 4] [1, 3]\n",
      "[2, 3] [1, 3]\n",
      "[[1, 4], [2, 3]] [1, 4] [2, 3]\n",
      "片方しか入ってない\n",
      "1 がl1にあった\n",
      "両方ある\n",
      "[2, 3, 1, 4, 3] [3, 4]\n",
      "片方しか入ってない\n",
      "3 がl1にあった\n",
      "両方ある\n",
      "[2, 3, 1, 4, 3, 4] [1, 2]\n",
      "片方しか入ってない\n",
      "1 がl1にあった\n",
      "-9\n",
      "-4\n",
      "4\n",
      "5\n",
      "6\n"
     ]
    }
   ],
   "source": [
    "N,M = map(int,input().split())\n",
    "tmp = N*(N-1)//2\n",
    "l = []\n",
    "cnt = []\n",
    "ab = [list(map(int, input().split())) for i in range(M)]\n",
    "# print(ans)\n",
    "herasu = 0\n",
    "ans = [tmp]\n",
    "for i in ab[::-1]:\n",
    "    \n",
    "    if (i[0] in cnt) and (i[1] in cnt):\n",
    "#         print(\"両方ある\")\n",
    "        flag = False\n",
    "        for index, l1 in enumerate(l):\n",
    "            print(l1, i)\n",
    "            if (i[0] in l1) and (i[1] in l1):\n",
    "                flag = True\n",
    "            elif i[0] in l1:\n",
    "                tmp0 = l1\n",
    "            elif i[1] in l1:\n",
    "                tmp1 = l1\n",
    "        if flag == False:\n",
    "            herasu += len(tmp0)*len(tmp1)\n",
    "#             print(l,tmp0,tmp1)\n",
    "            l.remove(tmp0)\n",
    "            l.remove(tmp1)\n",
    "            l.append(tmp1+tmp0)\n",
    "        \n",
    "        \n",
    "        \n",
    "    if (i[0] not in cnt) and (i[1] not in cnt):\n",
    "#         print(\"両方ない\")\n",
    "        cnt += [i[0],i[1]]\n",
    "        l.append(i)\n",
    "        herasu += 1\n",
    "        \n",
    "    else:\n",
    "#         print(\"片方しか入ってない\")\n",
    "        for l1 in l:\n",
    "#             print(l1)\n",
    "            if i[0] in l1:\n",
    "#                 print(i[0], \"がl1にあった\")\n",
    "                herasu += len(l1)\n",
    "                l1.append(i[1])\n",
    "                break\n",
    "            if i[1] in l1:\n",
    "#                 print(i[1], \"がl1にあった\")\n",
    "                \n",
    "                herasu += len(l1)\n",
    "                l1.append(i[0])\n",
    "                break\n",
    "    \n",
    "    ans.append(tmp-herasu)\n",
    "    \n",
    "for i in ans[::-1][1:]:\n",
    "    print(i if i>=0 else 0)\n"
   ]
  },
  {
   "cell_type": "markdown",
   "metadata": {},
   "source": [
    "# D(解き直し)"
   ]
  },
  {
   "cell_type": "code",
   "execution_count": null,
   "metadata": {},
   "outputs": [],
   "source": [
    "class UnionFind:\n",
    "    def __init__(self,size):\n",
    "        self.par = [i for i in range(size)]\n",
    "        self.rank = [0 for _ in range(size)]\n",
    "        self.size = [1 for _ in range(size)]\n",
    "        \n",
    "    # xの根を返す\n",
    "    def find(self,x):\n",
    "        if self.par[x] == x:\n",
    "            return x\n",
    "        else:\n",
    "            return self.find(self.par[x])\n",
    "            \n",
    "    # xとyを同じグループに\n",
    "    def union(self,x,y):\n",
    "        x = self.find(x)\n",
    "        y = self.find(y)\n",
    "        if self.rank[x] > self.rank[y]:\n",
    "            self.par[y] = x\n",
    "            self.size[x] += self.size[y]\n",
    "        else:\n",
    "            self.par[x] = y\n",
    "            self.size[y] += self.size[x]\n",
    "            if self.rank[x] == self.rank[y]:\n",
    "                self.rank[y] += 1\n",
    "        \n",
    "    # xとyが同じグループか判定\n",
    "    def same(self,x,y):\n",
    "        return self.find(x) == self.find(y)\n",
    "    \n",
    "N,M = map(int,input().split())\n",
    "s = N*(N-1)//2\n",
    "ans = []\n",
    "ab = [list(map(lambda x: int(x) - 1, input().split())) for i in range(M)]\n",
    "\n",
    "tree = UnionFind(N)\n",
    "\n",
    "for index, bridge in enumerate(ab[::-1]):\n",
    "    if tree.same(bridge[0],bridge[1]):\n",
    "        ans.append(s)\n",
    "    else:\n",
    "        d = tree.size[tree.find(bridge[0])] * tree.size[tree.find(bridge[1])]\n",
    "        tree.union(bridge[0],bridge[1])\n",
    "        ans.append(s)\n",
    "        s -= d\n",
    "        \n",
    "print(\"\\n\".join(map(str, ans[::-1])))"
   ]
  },
  {
   "cell_type": "markdown",
   "metadata": {},
   "source": [
    "## 反省会\n",
    "Dのグラフをどう表現すればよいのかわからず、`[[1,2],[2,3]]`のようにネストしたリストで表現した。\n",
    "ベストプラクティスが絶対にあるはず。  \n",
    "\n",
    "場合分けは3種類で良いはず。\n",
    "- 新しい辺. +1\n",
    "- １頂点だけ共有する辺. +共有された頂点の数\n",
    "- 2頂点を共有する辺 +0 or +共有された頂点*共有された頂点\n",
    "\n",
    "あー。。。"
   ]
  },
  {
   "cell_type": "markdown",
   "metadata": {},
   "source": [
    "# とき終わったら下のシェルを実行して修了"
   ]
  },
  {
   "cell_type": "code",
   "execution_count": 14,
   "metadata": {},
   "outputs": [
    {
     "name": "stdout",
     "output_type": "stream",
     "text": [
      "かかった時間は4分でした\n"
     ]
    }
   ],
   "source": [
    "end = datetime.now()\n",
    "print(\"かかった時間は{}分でした\".format((end-start).seconds // 60))"
   ]
  }
 ],
 "metadata": {
  "kernelspec": {
   "display_name": "Python 3",
   "language": "python",
   "name": "python3"
  },
  "language_info": {
   "codemirror_mode": {
    "name": "ipython",
    "version": 3
   },
   "file_extension": ".py",
   "mimetype": "text/x-python",
   "name": "python",
   "nbconvert_exporter": "python",
   "pygments_lexer": "ipython3",
   "version": "3.7.1"
  }
 },
 "nbformat": 4,
 "nbformat_minor": 2
}
