{
 "cells": [
  {
   "cell_type": "markdown",
   "metadata": {},
   "source": [
    "# C"
   ]
  },
  {
   "cell_type": "markdown",
   "metadata": {},
   "source": [
    "中央値が必ず一番小さい。（中央値からずらしてみると自明）"
   ]
  },
  {
   "cell_type": "code",
   "execution_count": 18,
   "metadata": {},
   "outputs": [
    {
     "name": "stdin",
     "output_type": "stream",
     "text": [
      " 6\n",
      " 6 5 4 3 2 1\n"
     ]
    },
    {
     "name": "stdout",
     "output_type": "stream",
     "text": [
      "18\n"
     ]
    }
   ],
   "source": [
    "n = int(input())\n",
    "an = list(map(int,input().split()))\n",
    "for i in range(n):\n",
    "    an[i] -= (i+1)\n",
    "ans = 0\n",
    "an.sort()\n",
    "median = an[n//2]\n",
    "for a in an:\n",
    "    ans += abs(median-a)\n",
    "print(ans)"
   ]
  },
  {
   "cell_type": "markdown",
   "metadata": {},
   "source": [
    "# D"
   ]
  },
  {
   "cell_type": "code",
   "execution_count": 22,
   "metadata": {},
   "outputs": [
    {
     "name": "stdin",
     "output_type": "stream",
     "text": [
      " 10\n",
      " 10 71 84 33 6 47 23 25 52 64\n"
     ]
    },
    {
     "name": "stdout",
     "output_type": "stream",
     "text": [
      "[10, 81, 165, 198, 204, 251, 274, 299, 351, 415]\n"
     ]
    }
   ],
   "source": [
    "n = int(input())\n",
    "an = list(map(int,input().split()))\n",
    "SUM = [0]*(n+1)\n",
    "for i in range(n):\n",
    "    SUM[i+1] = SUM[i]+an[i]\n",
    "print(SUM)\n",
    "buf = [10**9]*8\n",
    "mean = sum(an)//4\n",
    "tmp = 0\n",
    "for s in SUM:\n",
    "    if s < mean:\n",
    "        continue\n",
    "    else;"
   ]
  },
  {
   "cell_type": "markdown",
   "metadata": {},
   "source": [
    "直感はnC3通り。ただこれだとO(N^3)で間に合わない。\n",
    "\n",
    "平均を基準に、**平均をこえるやつ**と**平均をこえないやつ**で8通り試すのがいいかな。"
   ]
  },
  {
   "cell_type": "markdown",
   "metadata": {},
   "source": [
    "# D"
   ]
  },
  {
   "cell_type": "code",
   "execution_count": 25,
   "metadata": {},
   "outputs": [
    {
     "name": "stdin",
     "output_type": "stream",
     "text": [
      " 10\n",
      " 10 71 84 33 6 47 23 25 52 64\n"
     ]
    },
    {
     "name": "stdout",
     "output_type": "stream",
     "text": [
      "36\n"
     ]
    }
   ],
   "source": [
    "from bisect import bisect_left, bisect_right\n",
    "from itertools import accumulate\n",
    "\n",
    "N = int(input())\n",
    "A = list(map(int, input().split()))\n",
    "A_sum = list(accumulate(A))\n",
    "\n",
    "ans = A_sum[N-1]\n",
    "for m in range(2,N-1):\n",
    "    sum_left = A_sum[m-1]\n",
    "    i=bisect_left(A_sum,sum_left/2)\n",
    "    sum1=A_sum[i]\n",
    "    if i!= 0:\n",
    "        if A_sum[i]+A_sum[i-1] > sum_left:\n",
    "            sum1=A_sum[i-1]\n",
    "    sum2 = sum_left - sum1\n",
    "    \n",
    "    sum_right=A_sum[N-1]-sum_left\n",
    "    i=bisect_left(A_sum,sum_left+sum_right/2)\n",
    "    sum3=A_sum[i]-sum_left\n",
    "    if i!=m:\n",
    "        if A_sum[i]+A_sum[i-1]-2*sum_left>sum_right:\n",
    "            sum3=A_sum[i-1]-sum_left\n",
    "    sum4=sum_right-sum3\n",
    "    max_sum=max(sum1,sum2,sum3,sum4)\n",
    "    min_sum=min(sum1,sum2,sum3,sum4)\n",
    "    dif=max_sum-min_sum\n",
    "    if dif<ans:\n",
    "        ans=dif\n",
    "        \n",
    "print(ans)"
   ]
  },
  {
   "cell_type": "code",
   "execution_count": 23,
   "metadata": {},
   "outputs": [
    {
     "data": {
      "text/plain": [
       "3"
      ]
     },
     "execution_count": 23,
     "metadata": {},
     "output_type": "execute_result"
    }
   ],
   "source": [
    "from bisect import bisect_left, bisect_right\n",
    "bisect_left([0,10,81,165], 84)"
   ]
  },
  {
   "cell_type": "code",
   "execution_count": null,
   "metadata": {},
   "outputs": [],
   "source": []
  }
 ],
 "metadata": {
  "kernelspec": {
   "display_name": "Python 3",
   "language": "python",
   "name": "python3"
  },
  "language_info": {
   "codemirror_mode": {
    "name": "ipython",
    "version": 3
   },
   "file_extension": ".py",
   "mimetype": "text/x-python",
   "name": "python",
   "nbconvert_exporter": "python",
   "pygments_lexer": "ipython3",
   "version": "3.6.8"
  }
 },
 "nbformat": 4,
 "nbformat_minor": 2
}
