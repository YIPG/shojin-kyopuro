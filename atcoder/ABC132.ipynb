{
 "cells": [
  {
   "cell_type": "markdown",
   "metadata": {},
   "source": [
    "# A"
   ]
  },
  {
   "cell_type": "code",
   "execution_count": 4,
   "metadata": {},
   "outputs": [
    {
     "name": "stdin",
     "output_type": "stream",
     "text": [
      " FFEE\n"
     ]
    },
    {
     "name": "stdout",
     "output_type": "stream",
     "text": [
      "Yes\n"
     ]
    }
   ],
   "source": [
    "s = list(input())\n",
    "from collections import Counter\n",
    "c = Counter(s)\n",
    "if len(c.keys())==2 and c.most_common()[0][1]==2:\n",
    "    print(\"Yes\")\n",
    "else:\n",
    "    print(\"No\")"
   ]
  },
  {
   "cell_type": "markdown",
   "metadata": {},
   "source": [
    "# B"
   ]
  },
  {
   "cell_type": "code",
   "execution_count": 6,
   "metadata": {},
   "outputs": [
    {
     "name": "stdin",
     "output_type": "stream",
     "text": [
      " 9\n",
      " 9 6 3 2 5 8 7 4 1\n"
     ]
    },
    {
     "name": "stdout",
     "output_type": "stream",
     "text": [
      "5\n"
     ]
    }
   ],
   "source": [
    "n = int(input())\n",
    "pn = list(map(int,input().split()))\n",
    "ans = 0\n",
    "for i in range(1,n-1):\n",
    "    if pn[i-1]<pn[i]<pn[i+1] or pn[i-1]>pn[i]>pn[i+1]:\n",
    "        ans+=1\n",
    "print(ans)"
   ]
  },
  {
   "cell_type": "markdown",
   "metadata": {},
   "source": [
    "# C"
   ]
  },
  {
   "cell_type": "code",
   "execution_count": 9,
   "metadata": {},
   "outputs": [
    {
     "name": "stdin",
     "output_type": "stream",
     "text": [
      " 14\n",
      " 99592 10342 29105 78532 83018 11639 92015 77204 30914 21912 34519 80835 100000 1\n"
     ]
    },
    {
     "name": "stdout",
     "output_type": "stream",
     "text": [
      "42685\n"
     ]
    }
   ],
   "source": [
    "n = int(input())\n",
    "dn = list(map(int,input().split()))\n",
    "dn.sort()\n",
    "u = dn[n//2]\n",
    "l = dn[n//2-1]\n",
    "print(u-l)"
   ]
  },
  {
   "cell_type": "markdown",
   "metadata": {},
   "source": [
    "# D"
   ]
  },
  {
   "cell_type": "code",
   "execution_count": 16,
   "metadata": {},
   "outputs": [
    {
     "name": "stdin",
     "output_type": "stream",
     "text": [
      " 2000 3\n"
     ]
    },
    {
     "name": "stdout",
     "output_type": "stream",
     "text": [
      "1998\n",
      "3990006\n",
      "327341989\n"
     ]
    }
   ],
   "source": [
    "n, k = map(int,input().split())\n",
    "\n",
    "def cmb(n, r, mod):\n",
    "    if ( r<0 or r>n ):\n",
    "        return 0\n",
    "    r = min(r, n-r)\n",
    "    return g1[n] * g2[r] * g2[n-r] % mod\n",
    "\n",
    "mod = 10**9+7 #出力の制限\n",
    "N = 10**4\n",
    "g1 = [1, 1] # 元テーブル\n",
    "g2 = [1, 1] #逆元テーブル\n",
    "inverse = [0, 1] #逆元テーブル計算用テーブル\n",
    "\n",
    "for i in range( 2, N + 1 ):\n",
    "    g1.append( ( g1[-1] * i ) % mod )\n",
    "    inverse.append( ( -inverse[mod % i] * (mod//i) ) % mod )\n",
    "    g2.append( (g2[-1] * inverse[-1]) % mod )\n",
    "\n",
    "\n",
    "for i in range(k):\n",
    "    print(cmb(n-k+1,i+1,mod)*cmb(k-1,i,mod)%mod)\n",
    "    "
   ]
  },
  {
   "cell_type": "markdown",
   "metadata": {},
   "source": [
    "# E"
   ]
  },
  {
   "cell_type": "code",
   "execution_count": null,
   "metadata": {},
   "outputs": [],
   "source": [
    "import sys\n",
    "sys.setrecursionlimit(10**9)\n",
    "\n",
    "N, M = map(int,input().split())\n",
    "\n",
    "from collections import defaultdict\n",
    "\n",
    "G = defaultdict(list)\n",
    "# グラフの表し方\n",
    "for i in range(M):\n",
    "    u,v = map(int,input().split())\n",
    "    G[u].append(v)\n",
    "\n",
    "s, t = map(int,input().split())\n",
    "\n",
    "dist = []\n",
    "\n",
    "ans = 10**9\n",
    "d = 0\n",
    "def dfs(start):\n",
    "    global d\n",
    "    global ans\n",
    "    d += 1\n",
    "    if tmp == start and \n",
    "    for v in G[start]:\n",
    "        if v == t and d%3==0:\n",
    "            ans = min(ans,d//3)\n",
    "            return\n",
    "        dfs(v)\n",
    "    return\n",
    "dfs(s)\n",
    "if ans == 10**9:\n",
    "    print(\"-1\")\n",
    "else:\n",
    "    print(ans)\n"
   ]
  },
  {
   "cell_type": "code",
   "execution_count": 8,
   "metadata": {},
   "outputs": [
    {
     "name": "stdin",
     "output_type": "stream",
     "text": [
      " 3 3\n",
      " 1 2\n",
      " 2 3\n",
      " 3 1\n",
      " 1 2\n"
     ]
    },
    {
     "name": "stdout",
     "output_type": "stream",
     "text": [
      "[(0, 1), (1, 2), (2, 0)]\n"
     ]
    }
   ],
   "source": [
    "from collections import deque\n",
    "import sys\n",
    "readline = sys.stdin.readline\n",
    "N, M = map(int, readline().split())\n",
    "G = [[] for i in range(N)]\n",
    "for i in range(M):\n",
    "    u, v = map(int, readline().split())\n",
    "    G[u-1].append(v-1)\n",
    "S, T = map(int, readline().split())\n",
    "S -= 1; T -= 1\n",
    "\n",
    "INF = 10**9\n",
    "U = [[INF]*N for i in range(3)]\n",
    "U[0][S]=0\n",
    "que=deque([S,0])\n",
    "while que:\n",
    "    v,t = que.popleft()\n",
    "    u = (t+1) % 3\n",
    "    d = U[t][v]\n",
    "    "
   ]
  },
  {
   "cell_type": "markdown",
   "metadata": {},
   "source": [
    "# F"
   ]
  },
  {
   "cell_type": "code",
   "execution_count": null,
   "metadata": {},
   "outputs": [],
   "source": []
  },
  {
   "cell_type": "code",
   "execution_count": 14,
   "metadata": {},
   "outputs": [
    {
     "data": {
      "text/plain": [
       "(3, 0)"
      ]
     },
     "execution_count": 14,
     "metadata": {},
     "output_type": "execute_result"
    }
   ],
   "source": []
  },
  {
   "cell_type": "code",
   "execution_count": null,
   "metadata": {},
   "outputs": [],
   "source": []
  }
 ],
 "metadata": {
  "kernelspec": {
   "display_name": "Python 3",
   "language": "python",
   "name": "python3"
  },
  "language_info": {
   "codemirror_mode": {
    "name": "ipython",
    "version": 3
   },
   "file_extension": ".py",
   "mimetype": "text/x-python",
   "name": "python",
   "nbconvert_exporter": "python",
   "pygments_lexer": "ipython3",
   "version": "3.7.1"
  }
 },
 "nbformat": 4,
 "nbformat_minor": 2
}
