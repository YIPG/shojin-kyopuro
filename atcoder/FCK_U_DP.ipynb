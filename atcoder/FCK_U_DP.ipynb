{
 "cells": [
  {
   "cell_type": "code",
   "execution_count": 4,
   "metadata": {},
   "outputs": [
    {
     "name": "stdin",
     "output_type": "stream",
     "text": [
      " 8 1 2 4 -3 -4\n"
     ]
    },
    {
     "name": "stdout",
     "output_type": "stream",
     "text": [
      "15\n"
     ]
    }
   ],
   "source": [
    "dp = [0]\n",
    "numl = list(map(int,input().split()))\n",
    "for i in range(len(numl)-1):\n",
    "    dp.append(max(numl[i]+dp[i], dp[i]))\n",
    "print(dp[-1])"
   ]
  },
  {
   "cell_type": "markdown",
   "metadata": {},
   "source": [
    "# ナップザック問題"
   ]
  },
  {
   "cell_type": "code",
   "execution_count": 8,
   "metadata": {},
   "outputs": [],
   "source": [
    "# N,W = map(int,input().split())\n",
    "# vw = [list(map(int,input().split())) for _ in range(N)]\n",
    "\n",
    "def knapsack(N,W,weight,value):\n",
    "#   初期化\n",
    "    inf = float(\"inf\")\n",
    "    dp = [[-inf for i in range(W+1)] for j in range(N+1)]\n",
    "    for i in range(W+1): dp[0][i]=0\n",
    "    \n",
    "#   DP\n",
    "    for i in range(N):\n",
    "        for w in range(W+1):\n",
    "            if weight[i]<=w:\n",
    "                dp[i+1][w] = max(dp[i][w-weight[i]]+value[i],dp[i][w])\n",
    "            else:\n",
    "                dp[i+1][w] = dp[i][w]\n",
    "    "
   ]
  },
  {
   "cell_type": "code",
   "execution_count": null,
   "metadata": {},
   "outputs": [],
   "source": []
  },
  {
   "cell_type": "code",
   "execution_count": 6,
   "metadata": {},
   "outputs": [
    {
     "data": {
      "text/plain": [
       "[[], [], [], []]"
      ]
     },
     "execution_count": 6,
     "metadata": {},
     "output_type": "execute_result"
    }
   ],
   "source": [
    "a = [[] for i in range(4)]\n",
    "a"
   ]
  },
  {
   "cell_type": "code",
   "execution_count": null,
   "metadata": {},
   "outputs": [],
   "source": []
  }
 ],
 "metadata": {
  "kernelspec": {
   "display_name": "Python 3",
   "language": "python",
   "name": "python3"
  },
  "language_info": {
   "codemirror_mode": {
    "name": "ipython",
    "version": 3
   },
   "file_extension": ".py",
   "mimetype": "text/x-python",
   "name": "python",
   "nbconvert_exporter": "python",
   "pygments_lexer": "ipython3",
   "version": "3.7.3"
  }
 },
 "nbformat": 4,
 "nbformat_minor": 2
}
