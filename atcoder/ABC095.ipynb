{
 "cells": [
  {
   "cell_type": "markdown",
   "metadata": {},
   "source": [
    "# D"
   ]
  },
  {
   "cell_type": "code",
   "execution_count": null,
   "metadata": {},
   "outputs": [],
   "source": [
    "N, C = map(int, input().split())\n",
    "x = [0]\n",
    "v = [0]\n",
    "for _ in range(N):\n",
    "    a, b = map(int, input().split())\n",
    "    x.append(a)\n",
    "    v.append(b)\n",
    "opt_l = [0]\n",
    "acc_v = 0\n",
    "for i in range(1, N + 1):\n",
    "    opt_l.append(max(opt_l[-1], v[i] + acc_v - x[i]))\n",
    "    acc_v += v[i]\n",
    "opt_r = [0]\n",
    "acc_v = 0\n",
    "for i in range(1, N + 1):\n",
    "    opt_r.append(max(opt_r[-1], v[-i] + acc_v - (C - x[-i])))\n",
    "    acc_v += v[-i]\n",
    "ans = 0\n",
    "acc_v = 0\n",
    "for i in range(N + 1):\n",
    "    ans = max(\n",
    "        ans,\n",
    "        acc_v + v[i] - x[i],\n",
    "        acc_v + v[i] - 2 * x[i] + opt_r[N - i]\n",
    "    )\n",
    "    acc_v += v[i]\n",
    "acc_v = 0\n",
    "for i in range(N + 1):\n",
    "    ans = max(\n",
    "        ans,\n",
    "        acc_v + v[-i] - (C - x[-i]),\n",
    "        acc_v + v[-i] - 2 * (C - x[-i]) + opt_l[N - i]\n",
    "    )\n",
    "    acc_v += v[-i]\n",
    "print(ans)"
   ]
  }
 ],
 "metadata": {
  "kernelspec": {
   "display_name": "Python 3",
   "language": "python",
   "name": "python3"
  },
  "language_info": {
   "codemirror_mode": {
    "name": "ipython",
    "version": 3
   },
   "file_extension": ".py",
   "mimetype": "text/x-python",
   "name": "python",
   "nbconvert_exporter": "python",
   "pygments_lexer": "ipython3",
   "version": "3.7.1"
  }
 },
 "nbformat": 4,
 "nbformat_minor": 2
}
