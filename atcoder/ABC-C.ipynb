{
 "cells": [
  {
   "cell_type": "markdown",
   "metadata": {},
   "source": [
    "# 109C"
   ]
  },
  {
   "cell_type": "code",
   "execution_count": 16,
   "metadata": {},
   "outputs": [
    {
     "name": "stdin",
     "output_type": "stream",
     "text": [
      " 1 1\n",
      " 1000\n"
     ]
    },
    {
     "name": "stdout",
     "output_type": "stream",
     "text": [
      "999\n"
     ]
    }
   ],
   "source": [
    "from functools import reduce\n",
    "import fractions\n",
    "\n",
    "N,X = map(int,input().split())\n",
    "xn = list(map(int,input().split()))\n",
    "\n",
    "distance = [abs(X-xn[i]) for i in range(N)]\n",
    "def gcd_list(numbers):\n",
    "    return reduce(fractions.gcd, numbers)\n",
    "print(gcd_list(distance))"
   ]
  },
  {
   "cell_type": "markdown",
   "metadata": {},
   "source": [
    "# 109D"
   ]
  },
  {
   "cell_type": "code",
   "execution_count": 17,
   "metadata": {},
   "outputs": [
    {
     "name": "stdin",
     "output_type": "stream",
     "text": [
      " 2 3\n",
      " 1 2 3\n",
      " 0 1 1\n"
     ]
    },
    {
     "name": "stdout",
     "output_type": "stream",
     "text": [
      "3\n",
      "1 1 1 2\n",
      "1 2 1 3\n",
      "2 2 2 3\n"
     ]
    }
   ],
   "source": [
    "H,W=map(int,input().split())\n",
    " \n",
    "M=[[c%2==1 for c in map(int,input().split())] for i in range(H)]\n",
    " \n",
    "LIST=[]\n",
    " \n",
    "for i in range(H):\n",
    "    for j in range(W):\n",
    "        if M[i][j]:\n",
    "            if j < W-1:\n",
    "                LIST.append((i+1,j+1,i+1,j+2))\n",
    "                M[i][j+1] ^= True\n",
    "            elif i < H-1:\n",
    "                LIST.append((i+1,j+1,i+2,j+1))\n",
    "                M[i+1][j] ^= True\n",
    "                \n",
    "print(len(LIST))\n",
    " \n",
    "for c in LIST:\n",
    "    print(*c)"
   ]
  },
  {
   "cell_type": "code",
   "execution_count": null,
   "metadata": {},
   "outputs": [],
   "source": []
  }
 ],
 "metadata": {
  "kernelspec": {
   "display_name": "Python 3",
   "language": "python",
   "name": "python3"
  },
  "language_info": {
   "codemirror_mode": {
    "name": "ipython",
    "version": 3
   },
   "file_extension": ".py",
   "mimetype": "text/x-python",
   "name": "python",
   "nbconvert_exporter": "python",
   "pygments_lexer": "ipython3",
   "version": "3.7.1"
  }
 },
 "nbformat": 4,
 "nbformat_minor": 2
}
