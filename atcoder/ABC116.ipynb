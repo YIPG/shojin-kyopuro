{
 "cells": [
  {
   "cell_type": "markdown",
   "metadata": {},
   "source": [
    "# 下のシェル実行したらスタート"
   ]
  },
  {
   "cell_type": "code",
   "execution_count": 3,
   "metadata": {},
   "outputs": [
    {
     "data": {
      "text/plain": [
       "datetime.datetime(2019, 2, 7, 17, 20, 10, 957227)"
      ]
     },
     "execution_count": 3,
     "metadata": {},
     "output_type": "execute_result"
    }
   ],
   "source": [
    "from datetime import datetime\n",
    "start = datetime.now()\n",
    "start"
   ]
  },
  {
   "cell_type": "markdown",
   "metadata": {},
   "source": [
    "## A"
   ]
  },
  {
   "cell_type": "code",
   "execution_count": 2,
   "metadata": {},
   "outputs": [
    {
     "name": "stdin",
     "output_type": "stream",
     "text": [
      " 3 4 5\n"
     ]
    },
    {
     "name": "stdout",
     "output_type": "stream",
     "text": [
      "6\n"
     ]
    }
   ],
   "source": [
    "a,b,c = map(int, input().split())\n",
    "print(a*b//2)"
   ]
  },
  {
   "cell_type": "markdown",
   "metadata": {},
   "source": [
    "## B"
   ]
  },
  {
   "cell_type": "code",
   "execution_count": 10,
   "metadata": {},
   "outputs": [
    {
     "name": "stdin",
     "output_type": "stream",
     "text": [
      " 7\n"
     ]
    },
    {
     "name": "stdout",
     "output_type": "stream",
     "text": [
      "18\n"
     ]
    }
   ],
   "source": [
    "s = int(input())\n",
    "lst = []\n",
    "\n",
    "while s not in lst:\n",
    "    lst.append(s)\n",
    "    s = s/2 if s%2==0 else 3*s + 1\n",
    "    \n",
    "print(len(lst) + 1)"
   ]
  },
  {
   "cell_type": "markdown",
   "metadata": {},
   "source": [
    "## D"
   ]
  },
  {
   "cell_type": "code",
   "execution_count": 17,
   "metadata": {},
   "outputs": [
    {
     "name": "stdin",
     "output_type": "stream",
     "text": [
      " 6 5\n",
      " 5 1000000000\n",
      " 2 990000000\n",
      " 3 980000000\n",
      " 6 970000000\n",
      " 6 960000000\n",
      " 4 950000000\n"
     ]
    },
    {
     "name": "stdout",
     "output_type": "stream",
     "text": [
      "4900000016\n"
     ]
    }
   ],
   "source": [
    "import itertools\n",
    "\n",
    "n,k = map(int,input().split())\n",
    "\n",
    "td = []\n",
    "for i in range(n):\n",
    "    td_tmp = list(map(int,input().split()))\n",
    "    td.append(td_tmp)\n",
    "\n",
    "# 貪欲で\n",
    "\n",
    "td_comb = list(itertools.combinations(td, k))\n",
    "\n",
    "ans = 0\n",
    "\n",
    "for i in td_comb:\n",
    "    tmp_ans = 0\n",
    "    cnt = 0\n",
    "    t_lst = []\n",
    "    for j in i:\n",
    "        tmp_ans += j[1]\n",
    "        if j[0] not in t_lst:\n",
    "            cnt += 1\n",
    "            t_lst.append(j[0])\n",
    "    tmp_ans += cnt**2\n",
    "    ans = tmp_ans if tmp_ans>ans else ans\n",
    "\n",
    "print(ans)"
   ]
  },
  {
   "cell_type": "code",
   "execution_count": 21,
   "metadata": {},
   "outputs": [
    {
     "name": "stdin",
     "output_type": "stream",
     "text": [
      " 6 5\n",
      " 5 100\n",
      " 2 99\n",
      " 3 98\n",
      " 6 97\n",
      " 6 96\n",
      " 4 95\n"
     ]
    }
   ],
   "source": [
    "# 貪欲じゃ通らないので\n",
    "from operator import itemgetter\n",
    "\n",
    "n,k = map(int,input().split())\n",
    "\n",
    "td = [(0,0)]*n\n",
    "for i in range(n):\n",
    "    t,d = map(int,input().split())\n",
    "    td[i] = (t,d)\n",
    "td.sort(key=lambda x:x[1], reverse=True)\n",
    "\n",
    "up = td[:k]\n",
    "down = td[k:]\n",
    "\n",
    "# kiso=美味しさ, s=寿司の種類\n",
    "kiso, s = 0\n",
    "\n",
    "# 寿司の種類マッピング\n",
    "S = [0]*(N+1)\n",
    "\n",
    "for i in range(k):\n",
    "    t,d = td[i]\n",
    "    kiso += d\n",
    "    if S[t] == 0:\n",
    "        S[t] = 1\n",
    "        s += 1\n",
    "    else:\n",
    "        S[t] += 1\n",
    "ans = kiso + s**2\n",
    "\n",
    "up.sort()\n",
    "r = 0\n",
    "\n",
    "for i in range(k):\n",
    "    t,d = up[i]\n",
    "    if S[t] => 2:\n",
    "        while r < n-k:\n",
    "            if S[down[1][r]]"
   ]
  },
  {
   "cell_type": "code",
   "execution_count": 34,
   "metadata": {},
   "outputs": [
    {
     "name": "stdout",
     "output_type": "stream",
     "text": [
      "[(4, 6), (4, 5), (4, 5), (4, 5), (4, 5), (3, 1), (2, 1), (1, 1)]\n",
      "5\n"
     ]
    }
   ],
   "source": [
    "N, K = map( int, input().split())\n",
    "T = [(0,0)]*N\n",
    "for i in range(N):\n",
    "    t, d = map( int, input().split())\n",
    "    T[i] = (d,t)\n",
    "T.sort( key= None, reverse = True)\n",
    "C = T[:K]\n",
    "AC = T[K:]\n",
    "kiso = 0\n",
    "s = 0\n",
    "S = [0]*(N+1)\n",
    "for i in range(K):\n",
    "    d, t = T[i]\n",
    "    kiso += d\n",
    "    if S[t] == 0:\n",
    "        S[t] = 1\n",
    "        s += 1\n",
    "    else:\n",
    "        S[t] += 1\n",
    "ans = kiso + s**2\n",
    "C.sort()\n",
    "r = 0\n",
    " \n",
    "for i in range(K):\n",
    "    d, t = C[i]\n",
    "    if S[t] >= 2:\n",
    "        while r < N-K:\n",
    "            if S[ AC[r][1]] == 0:\n",
    "                S[t] -= 1\n",
    "                S[ AC[r][1]] += 1\n",
    "                s += 1\n",
    "                kiso -= d\n",
    "                kiso += AC[r][0]\n",
    "                r += 1\n",
    "                break\n",
    "            r += 1\n",
    "    ans = max( ans, kiso + s**2)\n",
    "print( ans)"
   ]
  },
  {
   "cell_type": "markdown",
   "metadata": {},
   "source": [
    "# とき終わったら下のシェルを実行して修了"
   ]
  },
  {
   "cell_type": "code",
   "execution_count": 14,
   "metadata": {},
   "outputs": [
    {
     "name": "stdout",
     "output_type": "stream",
     "text": [
      "かかった時間は4分でした\n"
     ]
    }
   ],
   "source": [
    "end = datetime.now()\n",
    "print(\"かかった時間は{}分でした\".format((end-start).seconds // 60))"
   ]
  },
  {
   "cell_type": "code",
   "execution_count": 15,
   "metadata": {},
   "outputs": [
    {
     "name": "stdout",
     "output_type": "stream",
     "text": [
      "[([1, 9], [1, 7], [2, 6]), ([1, 9], [1, 7], [2, 5]), ([1, 9], [1, 7], [3, 1]), ([1, 9], [2, 6], [2, 5]), ([1, 9], [2, 6], [3, 1]), ([1, 9], [2, 5], [3, 1]), ([1, 7], [2, 6], [2, 5]), ([1, 7], [2, 6], [3, 1]), ([1, 7], [2, 5], [3, 1]), ([2, 6], [2, 5], [3, 1])]\n"
     ]
    }
   ],
   "source": [
    "print(list(td_comb))"
   ]
  },
  {
   "cell_type": "code",
   "execution_count": 11,
   "metadata": {},
   "outputs": [],
   "source": [
    "import itertools\n",
    "a = [1,3,5]"
   ]
  },
  {
   "cell_type": "code",
   "execution_count": 13,
   "metadata": {},
   "outputs": [
    {
     "data": {
      "text/plain": [
       "[(1, 3), (1, 5), (3, 5)]"
      ]
     },
     "execution_count": 13,
     "metadata": {},
     "output_type": "execute_result"
    }
   ],
   "source": [
    "list(itertools.combinations(a, 2))"
   ]
  },
  {
   "cell_type": "code",
   "execution_count": null,
   "metadata": {},
   "outputs": [],
   "source": []
  }
 ],
 "metadata": {
  "kernelspec": {
   "display_name": "Python 3",
   "language": "python",
   "name": "python3"
  },
  "language_info": {
   "codemirror_mode": {
    "name": "ipython",
    "version": 3
   },
   "file_extension": ".py",
   "mimetype": "text/x-python",
   "name": "python",
   "nbconvert_exporter": "python",
   "pygments_lexer": "ipython3",
   "version": "3.7.1"
  }
 },
 "nbformat": 4,
 "nbformat_minor": 2
}
