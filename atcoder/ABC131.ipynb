{
 "cells": [
  {
   "cell_type": "markdown",
   "metadata": {},
   "source": [
    "# ABC131"
   ]
  },
  {
   "cell_type": "markdown",
   "metadata": {},
   "source": [
    "# C"
   ]
  },
  {
   "cell_type": "code",
   "execution_count": 20,
   "metadata": {},
   "outputs": [
    {
     "name": "stdin",
     "output_type": "stream",
     "text": [
      " 4 9 2 3\n"
     ]
    },
    {
     "name": "stdout",
     "output_type": "stream",
     "text": [
      "2\n"
     ]
    },
    {
     "name": "stderr",
     "output_type": "stream",
     "text": [
      "/usr/local/lib/python3.6/dist-packages/ipykernel_launcher.py:4: DeprecationWarning: fractions.gcd() is deprecated. Use math.gcd() instead.\n",
      "  after removing the cwd from sys.path.\n"
     ]
    }
   ],
   "source": [
    "import fractions\n",
    "a,b,c,d = map(int,input().split())\n",
    "def ans(b):\n",
    "    return b-b//c - b//d + (b//(c*d//fractions.gcd(c,d)))\n",
    "print(ans(b)-ans(a-1))"
   ]
  },
  {
   "cell_type": "markdown",
   "metadata": {},
   "source": [
    "# D"
   ]
  },
  {
   "cell_type": "code",
   "execution_count": 4,
   "metadata": {},
   "outputs": [
    {
     "name": "stdin",
     "output_type": "stream",
     "text": [
      " 3\n",
      " 334 1000\n",
      " 334 1000\n",
      " 334 1000\n"
     ]
    },
    {
     "name": "stdout",
     "output_type": "stream",
     "text": [
      "334 1000\n",
      "668 1000\n",
      "1002 1000\n",
      "No\n"
     ]
    }
   ],
   "source": [
    "from operator import itemgetter\n",
    "N = int(input())\n",
    "AB = [(0,0)]*N\n",
    "\n",
    "for i in range(N):\n",
    "    a, b = map(int,input().split())\n",
    "    AB[i] = (a,b)\n",
    "\n",
    "AB.sort(key=itemgetter(1,0))\n",
    "\n",
    "t = 0\n",
    "flag = True\n",
    "\n",
    "for a,b in AB:\n",
    "    t += a\n",
    "    if b < t:\n",
    "        flag=False\n",
    "print(\"Yes\") if flag else print(\"No\")"
   ]
  },
  {
   "cell_type": "markdown",
   "metadata": {},
   "source": [
    "##### "
   ]
  }
 ],
 "metadata": {
  "kernelspec": {
   "display_name": "Python 3",
   "language": "python",
   "name": "python3"
  },
  "language_info": {
   "codemirror_mode": {
    "name": "ipython",
    "version": 3
   },
   "file_extension": ".py",
   "mimetype": "text/x-python",
   "name": "python",
   "nbconvert_exporter": "python",
   "pygments_lexer": "ipython3",
   "version": "3.7.1"
  }
 },
 "nbformat": 4,
 "nbformat_minor": 2
}
