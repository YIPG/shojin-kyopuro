{
 "cells": [
  {
   "cell_type": "markdown",
   "metadata": {},
   "source": [
    "# D"
   ]
  },
  {
   "cell_type": "code",
   "execution_count": 1,
   "metadata": {},
   "outputs": [
    {
     "name": "stdin",
     "output_type": "stream",
     "text": [
      " 3 2\n",
      " 4 1 5\n"
     ]
    },
    {
     "name": "stdout",
     "output_type": "stream",
     "text": [
      "[0, 1, 0]\n"
     ]
    }
   ],
   "source": [
    "n,m = map(int,input().split())\n",
    "an = list(map(int,input().split()))\n",
    "res = [0] * n\n",
    "res[0] = an[0] % m\n",
    "for i in range(len(an)-1):\n",
    "    res[i+1] = (res[i] + an[i+1]) % m\n",
    "print(res)"
   ]
  },
  {
   "cell_type": "code",
   "execution_count": 5,
   "metadata": {},
   "outputs": [
    {
     "name": "stdin",
     "output_type": "stream",
     "text": [
      " 3 2\n",
      " 4 1 5\n"
     ]
    },
    {
     "name": "stdout",
     "output_type": "stream",
     "text": [
      "C is {0: 2}, ans is 1\n",
      "C is {0: 2, 1: 1}, ans is 1\n",
      "C is {0: 3, 1: 1}, ans is 3\n",
      "3\n"
     ]
    }
   ],
   "source": [
    "N, M = map(int, input().split())\n",
    "*A, = map(int, input().split())\n",
    "C = {0: 1}\n",
    "ans = 0\n",
    "s = 0\n",
    "for a in A:\n",
    "    s = (s + a) % M\n",
    "    ans += C.get(s, 0)\n",
    "    C[s] = C.get(s, 0) + 1\n",
    "    print(\"C is {}, ans is {}\".format(C,ans))\n",
    "print(ans)"
   ]
  },
  {
   "cell_type": "code",
   "execution_count": null,
   "metadata": {},
   "outputs": [],
   "source": []
  }
 ],
 "metadata": {
  "kernelspec": {
   "display_name": "Python 3",
   "language": "python",
   "name": "python3"
  },
  "language_info": {
   "codemirror_mode": {
    "name": "ipython",
    "version": 3
   },
   "file_extension": ".py",
   "mimetype": "text/x-python",
   "name": "python",
   "nbconvert_exporter": "python",
   "pygments_lexer": "ipython3",
   "version": "3.7.1"
  }
 },
 "nbformat": 4,
 "nbformat_minor": 2
}
