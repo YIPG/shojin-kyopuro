{
 "cells": [
  {
   "cell_type": "markdown",
   "metadata": {},
   "source": [
    "# C"
   ]
  },
  {
   "cell_type": "code",
   "execution_count": 13,
   "metadata": {},
   "outputs": [
    {
     "name": "stdin",
     "output_type": "stream",
     "text": [
      " 299\n",
      " 931414121\n"
     ]
    },
    {
     "name": "stdout",
     "output_type": "stream",
     "text": [
      "2\n"
     ]
    }
   ],
   "source": [
    "s = input()\n",
    "k = int(input())\n",
    "tmp = 1\n",
    "t = len(s)\n",
    "for i in range(len(s)):\n",
    "    if s.find(\"1\")!=0:\n",
    "        tmp=s[0]\n",
    "        t = i\n",
    "        break\n",
    "    s = s[1:]\n",
    "if k > t:\n",
    "    print(tmp)\n",
    "else:\n",
    "    print(\"1\")"
   ]
  },
  {
   "cell_type": "markdown",
   "metadata": {},
   "source": [
    "# D"
   ]
  },
  {
   "cell_type": "code",
   "execution_count": null,
   "metadata": {},
   "outputs": [],
   "source": [
    "n,m,q = map(int,input().split())\n",
    "LR = [(0,0)]*m\n",
    "for i in range(m):\n",
    "    l,r = map(int,input().split())\n",
    "    LR[i] = (l,r)\n",
    "\n",
    "LR.sort(key=lambda x:x[1])\n",
    "dp=[0]*(n+1)\n",
    "index = 0\n",
    "for i in range(n):\n",
    "    r = LR[index][1]\n",
    "    if r"
   ]
  },
  {
   "cell_type": "markdown",
   "metadata": {},
   "source": [
    "# D"
   ]
  },
  {
   "cell_type": "code",
   "execution_count": 16,
   "metadata": {},
   "outputs": [
    {
     "name": "stdin",
     "output_type": "stream",
     "text": [
      " 10 3 2\n",
      " 1 5\n",
      " 2 8\n",
      " 7 10\n",
      " 1 7\n"
     ]
    },
    {
     "name": "stdout",
     "output_type": "stream",
     "text": [
      "1\n"
     ]
    },
    {
     "name": "stdin",
     "output_type": "stream",
     "text": [
      " 3 10\n"
     ]
    },
    {
     "name": "stdout",
     "output_type": "stream",
     "text": [
      "1\n"
     ]
    }
   ],
   "source": [
    "from itertools import accumulate\n",
    "\n",
    "n, m, q = map(int, input().split())\n",
    "rails = [[0] * n for _ in range(n)]\n",
    "for _ in range(m):\n",
    "    l, r = map(int, input().split())\n",
    "    rails[l - 1][r - 1] += 1\n",
    "rails = [list(accumulate(s)) for s in rails]\n",
    "rails = [list(reversed(list(accumulate(reversed(s))))) for s in zip(*rails)]\n",
    "\n",
    "buf = []\n",
    "for _ in range(q):\n",
    "    p, q = map(int, input().split())\n",
    "    buf.append(rails[q-1][p-1])\n",
    "print('\\n'.join(map(str,buf)))\n"
   ]
  },
  {
   "cell_type": "markdown",
   "metadata": {},
   "source": [
    "二次元累積和。\n",
    "類題は[ABC005D](https://atcoder.jp/contests/abc005/tasks/abc005_4)など。"
   ]
  },
  {
   "cell_type": "code",
   "execution_count": null,
   "metadata": {},
   "outputs": [],
   "source": []
  }
 ],
 "metadata": {
  "kernelspec": {
   "display_name": "Python 3",
   "language": "python",
   "name": "python3"
  },
  "language_info": {
   "codemirror_mode": {
    "name": "ipython",
    "version": 3
   },
   "file_extension": ".py",
   "mimetype": "text/x-python",
   "name": "python",
   "nbconvert_exporter": "python",
   "pygments_lexer": "ipython3",
   "version": "3.7.1"
  }
 },
 "nbformat": 4,
 "nbformat_minor": 2
}
