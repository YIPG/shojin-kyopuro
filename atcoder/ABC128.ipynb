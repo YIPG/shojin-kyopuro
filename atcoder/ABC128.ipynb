{
 "cells": [
  {
   "cell_type": "markdown",
   "metadata": {},
   "source": [
    "# C"
   ]
  },
  {
   "cell_type": "code",
   "execution_count": 16,
   "metadata": {},
   "outputs": [
    {
     "name": "stdin",
     "output_type": "stream",
     "text": [
      " 5 2\n",
      " 3 1 2 5\n",
      " 2 2 3\n",
      " 1 0\n"
     ]
    },
    {
     "name": "stdout",
     "output_type": "stream",
     "text": [
      "8\n"
     ]
    }
   ],
   "source": [
    "n,m = map(int,input().split())\n",
    "ks = []\n",
    "for i in range(m):\n",
    "    ks.append(list(map(int,input().split())))\n",
    "p = list(map(int,input().split()))\n",
    "\n",
    "ans = 0\n",
    "\n",
    "def tekito(swit):\n",
    "    for i in range(m):\n",
    "        judge_kun = 0\n",
    "        for s in ks[i][1:]:\n",
    "            judge_kun += swit[s-1]\n",
    "        if judge_kun % 2 == (1-p[i]):\n",
    "            return False\n",
    "    return True\n",
    "\n",
    "import itertools\n",
    "for swit in itertools.product([0, 1], repeat=n):\n",
    "    if tekito(swit):\n",
    "        ans+=1\n",
    "\n",
    "\n",
    "print(ans)"
   ]
  },
  {
   "cell_type": "markdown",
   "metadata": {},
   "source": [
    "# D"
   ]
  },
  {
   "cell_type": "code",
   "execution_count": 17,
   "metadata": {},
   "outputs": [
    {
     "name": "stdin",
     "output_type": "stream",
     "text": [
      " 6 4\n",
      " -10 8 2 1 2 6\n"
     ]
    },
    {
     "name": "stdout",
     "output_type": "stream",
     "text": [
      "14\n"
     ]
    }
   ],
   "source": [
    "n,k = map(int,input().split())\n",
    "v = list(map(int,input().split()))\n",
    "\n",
    "ans = 0\n",
    "\n",
    "for l in range(n):\n",
    "    for r in range(n-l+1):\n",
    "        if l + r > k:\n",
    "            break\n",
    "        nv = v[:l] + v[n-r:]\n",
    "        nv.sort()\n",
    "        for i in range(k-l-r):\n",
    "            if not nv or nv[0] >= 0:\n",
    "                break\n",
    "            del nv[0]\n",
    "        ans = max(ans,sum(nv))\n",
    "print(ans)"
   ]
  },
  {
   "cell_type": "markdown",
   "metadata": {},
   "source": [
    "# E"
   ]
  },
  {
   "cell_type": "code",
   "execution_count": null,
   "metadata": {},
   "outputs": [],
   "source": []
  }
 ],
 "metadata": {
  "kernelspec": {
   "display_name": "Python 3",
   "language": "python",
   "name": "python3"
  },
  "language_info": {
   "codemirror_mode": {
    "name": "ipython",
    "version": 3
   },
   "file_extension": ".py",
   "mimetype": "text/x-python",
   "name": "python",
   "nbconvert_exporter": "python",
   "pygments_lexer": "ipython3",
   "version": "3.7.1"
  }
 },
 "nbformat": 4,
 "nbformat_minor": 2
}
