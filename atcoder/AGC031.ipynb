{
 "cells": [
  {
   "cell_type": "markdown",
   "metadata": {},
   "source": [
    "# 下のシェル実行したらスタート"
   ]
  },
  {
   "cell_type": "code",
   "execution_count": 6,
   "metadata": {},
   "outputs": [
    {
     "data": {
      "text/plain": [
       "datetime.datetime(2019, 2, 7, 13, 36, 30, 320751)"
      ]
     },
     "execution_count": 6,
     "metadata": {},
     "output_type": "execute_result"
    }
   ],
   "source": [
    "from datetime import datetime\n",
    "start = datetime.now()\n",
    "start"
   ]
  },
  {
   "cell_type": "markdown",
   "metadata": {},
   "source": [
    "# A"
   ]
  },
  {
   "cell_type": "code",
   "execution_count": 10,
   "metadata": {},
   "outputs": [
    {
     "name": "stdin",
     "output_type": "stream",
     "text": [
      " 3\n",
      " baa\n"
     ]
    },
    {
     "name": "stdout",
     "output_type": "stream",
     "text": [
      "5\n"
     ]
    }
   ],
   "source": [
    "from collections import Counter\n",
    "\n",
    "n=int(input())\n",
    "s=input()\n",
    "cnts = list(Counter(s).values())\n",
    "ans = 1\n",
    "for i in cnts:\n",
    "    ans*=i+1\n",
    "print(ans-1 if (ans-1)<(10**9+7) else (ans-1)%(10**9+7))"
   ]
  },
  {
   "cell_type": "markdown",
   "metadata": {},
   "source": [
    "# B"
   ]
  },
  {
   "cell_type": "code",
   "execution_count": 11,
   "metadata": {},
   "outputs": [
    {
     "name": "stdout",
     "output_type": "stream",
     "text": [
      "[-1]\n"
     ]
    }
   ],
   "source": [
    "import sys\n",
    "from collections import defaultdict\n",
    "\n",
    "n = int(input())\n",
    "stones = [-1]\n",
    "for line in sys.stdin:\n",
    "    c = int(line)\n",
    "    if stones[-1] == c:\n",
    "        continue\n",
    "    stones.append(c)\n",
    "    \n",
    "dp = 1\n",
    "prev = defaultdict(int())\n",
    "MOD = 10**9+7\n",
    "for s in stones[1:]:\n",
    "    dp=(dp+prev[s])%MOD\n",
    "    prev[s] = dp\n",
    "print(dp)"
   ]
  },
  {
   "cell_type": "markdown",
   "metadata": {},
   "source": [
    "# とき終わったら下のシェルを実行して修了"
   ]
  },
  {
   "cell_type": "code",
   "execution_count": 14,
   "metadata": {},
   "outputs": [
    {
     "name": "stdout",
     "output_type": "stream",
     "text": [
      "かかった時間は4分でした\n"
     ]
    }
   ],
   "source": [
    "end = datetime.now()\n",
    "print(\"かかった時間は{}分でした\".format((end-start).seconds // 60))"
   ]
  },
  {
   "cell_type": "code",
   "execution_count": null,
   "metadata": {},
   "outputs": [],
   "source": []
  }
 ],
 "metadata": {
  "kernelspec": {
   "display_name": "Python 3",
   "language": "python",
   "name": "python3"
  },
  "language_info": {
   "codemirror_mode": {
    "name": "ipython",
    "version": 3
   },
   "file_extension": ".py",
   "mimetype": "text/x-python",
   "name": "python",
   "nbconvert_exporter": "python",
   "pygments_lexer": "ipython3",
   "version": "3.7.1"
  }
 },
 "nbformat": 4,
 "nbformat_minor": 2
}
