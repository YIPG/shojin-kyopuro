{
 "cells": [
  {
   "cell_type": "markdown",
   "metadata": {},
   "source": [
    "# A"
   ]
  },
  {
   "cell_type": "code",
   "execution_count": 1,
   "metadata": {},
   "outputs": [
    {
     "name": "stdin",
     "output_type": "stream",
     "text": [
      " 4 2 9\n"
     ]
    },
    {
     "name": "stdout",
     "output_type": "stream",
     "text": [
      "8\n"
     ]
    }
   ],
   "source": [
    "n,a,b = map(int,input().split())\n",
    "print(min(n*a,b))"
   ]
  },
  {
   "cell_type": "markdown",
   "metadata": {},
   "source": [
    "# B"
   ]
  },
  {
   "cell_type": "code",
   "execution_count": 6,
   "metadata": {},
   "outputs": [
    {
     "name": "stdin",
     "output_type": "stream",
     "text": [
      " \n"
     ]
    },
    {
     "ename": "ValueError",
     "evalue": "not enough values to unpack (expected 2, got 0)",
     "output_type": "error",
     "traceback": [
      "\u001b[0;31m---------------------------------------------------------------------------\u001b[0m",
      "\u001b[0;31mValueError\u001b[0m                                Traceback (most recent call last)",
      "\u001b[0;32m<ipython-input-6-1f3f1bff24ab>\u001b[0m in \u001b[0;36m<module>\u001b[0;34m\u001b[0m\n\u001b[0;32m----> 1\u001b[0;31m \u001b[0mn\u001b[0m\u001b[0;34m,\u001b[0m\u001b[0md\u001b[0m \u001b[0;34m=\u001b[0m \u001b[0mmap\u001b[0m\u001b[0;34m(\u001b[0m\u001b[0mint\u001b[0m\u001b[0;34m,\u001b[0m\u001b[0minput\u001b[0m\u001b[0;34m(\u001b[0m\u001b[0;34m)\u001b[0m\u001b[0;34m.\u001b[0m\u001b[0msplit\u001b[0m\u001b[0;34m(\u001b[0m\u001b[0;34m)\u001b[0m\u001b[0;34m)\u001b[0m\u001b[0;34m\u001b[0m\u001b[0;34m\u001b[0m\u001b[0m\n\u001b[0m\u001b[1;32m      2\u001b[0m \u001b[0mX\u001b[0m \u001b[0;34m=\u001b[0m \u001b[0;34m[\u001b[0m\u001b[0mlist\u001b[0m\u001b[0;34m(\u001b[0m\u001b[0mmap\u001b[0m\u001b[0;34m(\u001b[0m\u001b[0mint\u001b[0m\u001b[0;34m,\u001b[0m\u001b[0minput\u001b[0m\u001b[0;34m(\u001b[0m\u001b[0;34m)\u001b[0m\u001b[0;34m.\u001b[0m\u001b[0msplit\u001b[0m\u001b[0;34m(\u001b[0m\u001b[0;34m)\u001b[0m\u001b[0;34m)\u001b[0m\u001b[0;34m)\u001b[0m \u001b[0;32mfor\u001b[0m \u001b[0m_\u001b[0m \u001b[0;32min\u001b[0m \u001b[0mrange\u001b[0m\u001b[0;34m(\u001b[0m\u001b[0mn\u001b[0m\u001b[0;34m)\u001b[0m\u001b[0;34m]\u001b[0m\u001b[0;34m\u001b[0m\u001b[0;34m\u001b[0m\u001b[0m\n\u001b[1;32m      3\u001b[0m \u001b[0mans\u001b[0m \u001b[0;34m=\u001b[0m \u001b[0;36m0\u001b[0m\u001b[0;34m\u001b[0m\u001b[0;34m\u001b[0m\u001b[0m\n\u001b[1;32m      4\u001b[0m \u001b[0;34m\u001b[0m\u001b[0m\n\u001b[1;32m      5\u001b[0m \u001b[0;32mdef\u001b[0m \u001b[0mis_integer_num\u001b[0m\u001b[0;34m(\u001b[0m\u001b[0mn\u001b[0m\u001b[0;34m)\u001b[0m\u001b[0;34m:\u001b[0m\u001b[0;34m\u001b[0m\u001b[0;34m\u001b[0m\u001b[0m\n",
      "\u001b[0;31mValueError\u001b[0m: not enough values to unpack (expected 2, got 0)"
     ]
    }
   ],
   "source": [
    "n,d = map(int,input().split())\n",
    "X = [list(map(int,input().split())) for _ in range(n)]\n",
    "ans = 0\n",
    "\n",
    "def is_integer_num(n):\n",
    "    if isinstance(n, int):\n",
    "        return True\n",
    "    if isinstance(n, float):\n",
    "        return n.is_integer()\n",
    "    return False\n",
    "\n",
    "for i in range(n-1):\n",
    "    for j in range(i+1,n):\n",
    "        t = 0\n",
    "        for x in range(d):\n",
    "            t += (X[i][x]-X[j][x])**2\n",
    "        t **= 0.5\n",
    "        if is_integer_num(t):\n",
    "            ans += 1\n",
    "print(ans)"
   ]
  },
  {
   "cell_type": "markdown",
   "metadata": {},
   "source": [
    "# C"
   ]
  },
  {
   "cell_type": "code",
   "execution_count": 26,
   "metadata": {},
   "outputs": [
    {
     "name": "stdin",
     "output_type": "stream",
     "text": [
      " 2018 2500\n"
     ]
    },
    {
     "name": "stdout",
     "output_type": "stream",
     "text": [
      "0\n"
     ]
    }
   ],
   "source": [
    "l, r = map(int,input().split())\n",
    "MOD = 2019\n",
    "ans = 10**9\n",
    "lm, rm = l%MOD, r%MOD\n",
    "if lm ==0 or rm==0 or l//MOD!=r//MOD:\n",
    "    ans = 0\n",
    "else:\n",
    "    for i in range(lm,rm):\n",
    "        for j in range(i+1,rm+1):\n",
    "            ans = min(ans,(i*j)%MOD)\n",
    "print(ans)"
   ]
  },
  {
   "cell_type": "code",
   "execution_count": 25,
   "metadata": {},
   "outputs": [
    {
     "data": {
      "text/plain": [
       "(2018, 481)"
      ]
     },
     "execution_count": 25,
     "metadata": {},
     "output_type": "execute_result"
    }
   ],
   "source": [
    "lm,rm"
   ]
  },
  {
   "cell_type": "markdown",
   "metadata": {},
   "source": [
    "# D"
   ]
  },
  {
   "cell_type": "code",
   "execution_count": 29,
   "metadata": {},
   "outputs": [
    {
     "name": "stdin",
     "output_type": "stream",
     "text": [
      " 3\n",
      " 2 2 4\n"
     ]
    },
    {
     "name": "stdout",
     "output_type": "stream",
     "text": [
      "4 0 4\n"
     ]
    }
   ],
   "source": [
    "n = int(input())\n",
    "A = list(map(int,input().split()))\n",
    "x = 0\n",
    "for i in range(n):\n",
    "    if i%2==0:\n",
    "        x+=A[i]\n",
    "    else:\n",
    "        x-=A[i]\n",
    "B = [x//2]\n",
    "for i in range(n-1):\n",
    "    B.append(A[i]-B[-1])\n",
    "ans = [2*b for b in B]\n",
    "print(\" \".join(map(str,ans)))"
   ]
  },
  {
   "cell_type": "code",
   "execution_count": 15,
   "metadata": {},
   "outputs": [
    {
     "data": {
      "text/plain": [
       "[0, 1, 2, 3, 4]"
      ]
     },
     "execution_count": 15,
     "metadata": {},
     "output_type": "execute_result"
    }
   ],
   "source": [
    "list(range(5))"
   ]
  },
  {
   "cell_type": "markdown",
   "metadata": {},
   "source": [
    "# E"
   ]
  },
  {
   "cell_type": "code",
   "execution_count": null,
   "metadata": {},
   "outputs": [],
   "source": [
    "from collections import deque\n",
    "n,k = map(int,input().split())\n",
    "MOD = 10**9 + 7\n",
    "G = [set() for _ in range(n)]\n",
    "for i in range(n):\n",
    "    a,b = map(lambda x:int(x)-1,input().split())\n",
    "    G[a].append(b)\n",
    "    G[b].append(a)\n",
    "q = deque()\n",
    "q.append(0)\n",
    "U=[0]*n\n",
    "P=[0]*n\n",
    "R=[]\n",
    "ans = k\n",
    "while q:\n",
    "    node = q.popleft()\n",
    "    R.append(node)\n",
    "    for g in G[node]:\n",
    "        if U[g]:\n",
    "            continue\n",
    "        U[g] = 1\n",
    "        q.append(g)\n",
    "        P[g] = node\n",
    "    s=0\n",
    "    if P[node] != -1:\n",
    "        s = 2\n",
    "    else:\n",
    "        s = 1\n",
    "    for i in range(len(G[node])):\n",
    "        ans = ans * (k-s-i) % MOD\n",
    "print(ans)"
   ]
  },
  {
   "cell_type": "code",
   "execution_count": 51,
   "metadata": {},
   "outputs": [
    {
     "name": "stdout",
     "output_type": "stream",
     "text": [
      "(4, 3, 2, 1)\n"
     ]
    }
   ],
   "source": [
    "from itertools import permutations\n",
    "nums=[1,2,3,4]\n",
    "nums.sort()\n",
    "P = list(permutations(nums))\n",
    "ans_i = -1\n",
    "for i, p in enumerate(P):\n",
    "    if p == nums:\n",
    "        ans_i=i+1\n",
    "        print(i)\n",
    "        break\n",
    "nums = P[ans_i%len(P)]\n",
    "print(nums)"
   ]
  },
  {
   "cell_type": "code",
   "execution_count": 54,
   "metadata": {},
   "outputs": [
    {
     "data": {
      "text/plain": [
       "4"
      ]
     },
     "execution_count": 54,
     "metadata": {},
     "output_type": "execute_result"
    }
   ],
   "source": [
    "from bisect import bisect_left, bisect_right\n",
    "bisect_right([1,2,3,4,5],4)"
   ]
  },
  {
   "cell_type": "code",
   "execution_count": 59,
   "metadata": {},
   "outputs": [
    {
     "name": "stdin",
     "output_type": "stream",
     "text": [
      " 3\n"
     ]
    },
    {
     "name": "stdout",
     "output_type": "stream",
     "text": [
      "['aaa', 'aab', 'aac', 'aba', 'abb', 'abc', 'aca', 'acb', 'acc', 'baa', 'bab', 'bac', 'bba', 'bbb', 'bbc', 'bca', 'bcb', 'bcc', 'caa', 'cab', 'cac', 'cba', 'cbb', 'cbc', 'cca', 'ccb', 'ccc']\n"
     ]
    }
   ],
   "source": [
    "n = int(input())\n",
    "ans=[]\n",
    "def dfs(s=\"\"):\n",
    "    if len(s)==n:\n",
    "        ans.append(s)\n",
    "        return\n",
    "    for char in \"abc\":\n",
    "        dfs(s+char)\n",
    "dfs()\n",
    "for a in ans:\n",
    "    print(a)"
   ]
  },
  {
   "cell_type": "code",
   "execution_count": 56,
   "metadata": {},
   "outputs": [
    {
     "name": "stdout",
     "output_type": "stream",
     "text": [
      "a\n",
      "b\n",
      "c\n"
     ]
    }
   ],
   "source": [
    "for a in \"abc\":\n",
    "    print(a)"
   ]
  },
  {
   "cell_type": "code",
   "execution_count": 84,
   "metadata": {},
   "outputs": [
    {
     "name": "stdout",
     "output_type": "stream",
     "text": [
      "[[], [1], [2], [3], [4], [5], [1, 2], [1, 3], [1, 4], [1, 5], [2, 3], [2, 4], [2, 5], [3, 4], [3, 5], [4, 5], [1, 2, 3], [1, 2, 4], [1, 2, 5], [1, 3, 4], [1, 3, 5], [1, 4, 5], [2, 3, 4], [2, 3, 5], [2, 4, 5], [3, 4, 5], [1, 2, 3, 4], [1, 2, 3, 5], [1, 2, 4, 5], [1, 3, 4, 5], [2, 3, 4, 5]]\n"
     ]
    }
   ],
   "source": [
    "nums=[1,2,3,4,5]\n",
    "ans = []\n",
    "def get_subsets_num(l, num, op):\n",
    "    if num==0:\n",
    "        ans.append(op)\n",
    "        return\n",
    "    for i in range(len(l)-num+1):\n",
    "        get_subsets_num(l[i+1:], num-1, op+[l[i]])\n",
    "for i in range(len(nums)):  \n",
    "    get_subsets_num(nums,i,[])\n",
    "print(ans)"
   ]
  },
  {
   "cell_type": "code",
   "execution_count": null,
   "metadata": {},
   "outputs": [],
   "source": []
  }
 ],
 "metadata": {
  "kernelspec": {
   "display_name": "Python 3",
   "language": "python",
   "name": "python3"
  },
  "language_info": {
   "codemirror_mode": {
    "name": "ipython",
    "version": 3
   },
   "file_extension": ".py",
   "mimetype": "text/x-python",
   "name": "python",
   "nbconvert_exporter": "python",
   "pygments_lexer": "ipython3",
   "version": "3.7.1"
  }
 },
 "nbformat": 4,
 "nbformat_minor": 2
}
