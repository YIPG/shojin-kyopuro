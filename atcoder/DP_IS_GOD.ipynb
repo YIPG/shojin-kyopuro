{
 "cells": [
  {
   "cell_type": "markdown",
   "metadata": {},
   "source": [
    "# A"
   ]
  },
  {
   "cell_type": "code",
   "execution_count": 7,
   "metadata": {},
   "outputs": [
    {
     "name": "stdin",
     "output_type": "stream",
     "text": [
      " 6\n",
      " 30 10 60 10 60 50\n"
     ]
    },
    {
     "name": "stdout",
     "output_type": "stream",
     "text": [
      "40\n",
      "[0, 20, 30, 20, 30, 40, inf, inf]\n"
     ]
    }
   ],
   "source": [
    "N=int(input())\n",
    "hn = list(map(int,input().split()))\n",
    "# 初期値\n",
    "inf=float(\"inf\")\n",
    "dp=[inf]*(N+2)\n",
    "dp[0], dp[1] = 0, abs(hn[1]-hn[0])\n",
    "\n",
    "# DP\n",
    "for i in range(2,N):\n",
    "    dp[i] = min(dp[i-2]+abs(hn[i]-hn[i-2]), dp[i-1]+abs(hn[i]-hn[i-1]))\n",
    "print(dp[N-1])"
   ]
  },
  {
   "cell_type": "markdown",
   "metadata": {},
   "source": [
    "# B(TLE)"
   ]
  },
  {
   "cell_type": "code",
   "execution_count": 9,
   "metadata": {},
   "outputs": [
    {
     "name": "stdin",
     "output_type": "stream",
     "text": [
      " 10 4\n",
      " 40 10 20 70 80 10 20 70 80 60\n"
     ]
    },
    {
     "name": "stdout",
     "output_type": "stream",
     "text": [
      "[0, 30, 20, 30, 40, 30, 20, 30, 40, 40, inf, inf]\n"
     ]
    }
   ],
   "source": [
    "N,K=map(int,input().split())\n",
    "hn = list(map(int,input().split()))\n",
    "#初期値\n",
    "inf=float(\"inf\")\n",
    "dp=[inf]*(N+2)\n",
    "dp[0], dp[1] = 0, abs(hn[1]-hn[0])\n",
    "\n",
    "# DP\n",
    "for i in range(2,N):\n",
    "    kouho = []\n",
    "    for j in range(1,K+1): kouho.append(dp[i-j]+abs(hn[i]-hn[i-j]))\n",
    "    dp[i] = min(kouho)\n",
    "print(dp[N-1])"
   ]
  },
  {
   "cell_type": "markdown",
   "metadata": {},
   "source": [
    "# B"
   ]
  },
  {
   "cell_type": "code",
   "execution_count": 11,
   "metadata": {},
   "outputs": [
    {
     "name": "stdin",
     "output_type": "stream",
     "text": [
      " 5 3\n",
      " 10 30 40 50 20\n"
     ]
    },
    {
     "name": "stdout",
     "output_type": "stream",
     "text": [
      "[ 0 20 30 40 30]\n"
     ]
    }
   ],
   "source": [
    "import numpy as np\n",
    "N,K = map(int,input().split())\n",
    "H = np.array(list(map(int,input().split())))\n",
    " \n",
    "dp = np.zeros(N, dtype=int)\n",
    "for i in range(1,N):\n",
    "    start = max(i-K,0)\n",
    "    dp[i] = np.min(dp[start:i] + np.abs(H[i] - H[start:i]))\n",
    "print(dp[-1])"
   ]
  },
  {
   "cell_type": "markdown",
   "metadata": {},
   "source": [
    "# C"
   ]
  },
  {
   "cell_type": "code",
   "execution_count": 18,
   "metadata": {},
   "outputs": [
    {
     "name": "stdin",
     "output_type": "stream",
     "text": [
      " 3\n",
      " 10 40 70\n",
      " 20 50 80\n",
      " 30 60 90\n"
     ]
    },
    {
     "name": "stdout",
     "output_type": "stream",
     "text": [
      "[150, 180, 210]\n"
     ]
    }
   ],
   "source": [
    "N = int(input())\n",
    "abc=[list(map(int,input().split())) for _ in range(N)]\n",
    "dp = [[0]*3 for _ in range(N+1)]\n",
    "\n",
    "for i in range(N):\n",
    "    dp[i+1][0] = max(dp[i][1], dp[i][2]) + abc[i][0]\n",
    "    dp[i+1][1] = max(dp[i][0], dp[i][2]) + abc[i][1]\n",
    "    dp[i+1][2] = max(dp[i][0], dp[i][1]) + abc[i][2]\n",
    "\n",
    "print(max(dp[-1]))"
   ]
  },
  {
   "cell_type": "markdown",
   "metadata": {},
   "source": [
    "# D"
   ]
  },
  {
   "cell_type": "code",
   "execution_count": 25,
   "metadata": {},
   "outputs": [
    {
     "name": "stdin",
     "output_type": "stream",
     "text": [
      " 6 15\n",
      " 6 5\n",
      " 5 6\n",
      " 6 4\n",
      " 6 6\n",
      " 3 5\n",
      " 7 2\n"
     ]
    },
    {
     "name": "stdout",
     "output_type": "stream",
     "text": [
      "17\n"
     ]
    }
   ],
   "source": [
    "N,W = map(int,input().split())\n",
    "wv = [list(map(int,input().split())) for _ in range(N)]\n",
    "\n",
    "dp = [[0]*(W+1) for _ in range(N+1)]\n",
    "for i in range(1,N+1):\n",
    "    for j in range(1,W+1):\n",
    "        if j < wv[i-1][0]:\n",
    "            dp[i][j] = dp[i-1][j]\n",
    "        else:\n",
    "            dp[i][j] = max(dp[i-1][j],  wv[i-1][1] + dp[i-1][j - wv[i-1][0]])\n",
    "        \n",
    "print(dp[-1][-1])"
   ]
  },
  {
   "cell_type": "markdown",
   "metadata": {},
   "source": [
    "# E"
   ]
  },
  {
   "cell_type": "markdown",
   "metadata": {},
   "source": [
    "## 何もわからん"
   ]
  },
  {
   "cell_type": "markdown",
   "metadata": {},
   "source": [
    "# F"
   ]
  },
  {
   "cell_type": "code",
   "execution_count": 32,
   "metadata": {},
   "outputs": [
    {
     "name": "stdout",
     "output_type": "stream",
     "text": [
      "aaadara\n"
     ]
    }
   ],
   "source": [
    "# s = input()\n",
    "# t= input()\n",
    "s = \"abracadabra\"\n",
    "t = \"avadakedavra\"\n",
    "\n",
    "dp=[[0]*(len(t)+1) for i in range(len(s)+1)]\n",
    "for i in range(1,len(s)+1):\n",
    "    for j in range(1,len(t)+1):\n",
    "        if s[i-1] == t[j-1]:\n",
    "            dp[i][j] = dp[i-1][j-1] + 1\n",
    "        else:\n",
    "            dp[i][j] = max(dp[i][j-1], dp[i-1][j])\n",
    "            \n",
    "i, j, dp_len = len(s),len(t), dp[-1][-1]\n",
    "ans = \"\"\n",
    "\n",
    "while i>0 and j>0:\n",
    "#     print(\"現在精査している文字は{}と{}です。もとのsは{}で、tは{}です。sの長さは{}, tの長さは{}です\".format(s[i-1],t[j-1],s[:i-1], t[:j-1], i,j))\n",
    "    if s[i-1] == t[j-1]:\n",
    "        ans += s[i-1]\n",
    "        i -= 1\n",
    "        j -= 1\n",
    "#         print(\"一致\")\n",
    "    elif dp[i][j-1] > dp[i-1][j]:\n",
    "        j -= 1\n",
    "    else:\n",
    "        i -= 1\n",
    "        \n",
    "print(ans[::-1])"
   ]
  },
  {
   "cell_type": "code",
   "execution_count": 24,
   "metadata": {},
   "outputs": [
    {
     "data": {
      "text/plain": [
       "[[0, 0, 0, 0, 0, 0, 0, 0, 0, 0, 0, 0, 0],\n",
       " [0, 1, 1, 1, 1, 1, 1, 1, 1, 1, 1, 1, 1],\n",
       " [0, 1, 1, 1, 1, 1, 1, 1, 1, 1, 1, 1, 1],\n",
       " [0, 1, 1, 1, 1, 1, 1, 1, 1, 1, 1, 2, 2],\n",
       " [0, 1, 1, 2, 2, 2, 2, 2, 2, 2, 2, 2, 3],\n",
       " [0, 1, 1, 2, 2, 2, 2, 2, 2, 2, 2, 2, 3],\n",
       " [0, 1, 1, 2, 2, 3, 3, 3, 3, 3, 3, 3, 3],\n",
       " [0, 1, 1, 2, 3, 3, 3, 3, 4, 4, 4, 4, 4],\n",
       " [0, 1, 1, 2, 3, 4, 4, 4, 4, 5, 5, 5, 5],\n",
       " [0, 1, 1, 2, 3, 4, 4, 4, 4, 5, 5, 5, 5],\n",
       " [0, 1, 1, 2, 3, 4, 4, 4, 4, 5, 5, 6, 6],\n",
       " [0, 1, 1, 2, 3, 4, 4, 4, 4, 5, 5, 6, 7]]"
      ]
     },
     "execution_count": 24,
     "metadata": {},
     "output_type": "execute_result"
    }
   ],
   "source": [
    "S = \"abracadabra\"\n",
    "T = \"avadakedavra\"\n",
    "dp = [[0] * (len(T) + 1) for i in range(len(S) + 1)]\n",
    " \n",
    "for i in range(1, len(S) + 1):\n",
    "    for j in range(1, len(T) + 1):\n",
    "        if S[i - 1] == T[j - 1]:\n",
    "            dp[i][j] = dp[i - 1][j - 1] + 1\n",
    "        else:\n",
    "            dp[i][j] = max(dp[i - 1][j], dp[i][j - 1])\n",
    "            \n",
    "S = input()\n",
    "T = input()\n",
    "\n",
    "# dp[i][j] := Sのi文字目, Tのj文字目まで見た場合のLCS\n",
    "dp = [[0] * (len(T) + 1) for i in range(len(S) + 1)]\n",
    "\n",
    "for i in range(1, len(S) + 1):\n",
    "    for j in range(1, len(T) + 1):\n",
    "        if S[i - 1] == T[j - 1]:\n",
    "            dp[i][j] = dp[i - 1][j - 1] + 1\n",
    "        else:\n",
    "            dp[i][j] = max(dp[i - 1][j], dp[i][j - 1])\n",
    "\n",
    "ans = ''\n",
    "i, j = len(S), len(T)\n",
    "while i > 0 and j > 0:\n",
    "    if S[i - 1] == T[j - 1]:\n",
    "        ans += S[i - 1]\n",
    "        i, j = i - 1, j - 1\n",
    "    elif dp[i][j - 1] > dp[i - 1][j]:\n",
    "        j -= 1\n",
    "    else:\n",
    "        i -= 1\n",
    "\n",
    "print(ans[::-1])\n"
   ]
  },
  {
   "cell_type": "markdown",
   "metadata": {},
   "source": [
    "# G"
   ]
  },
  {
   "cell_type": "code",
   "execution_count": null,
   "metadata": {},
   "outputs": [],
   "source": [
    "N,M = map(int,input().split())\n",
    "xy=[list(map(int,input().split())) for i in range(M)]\n",
    "\n",
    "dp = [0]*M\n",
    "for i in range(M):\n",
    "    dp[]"
   ]
  },
  {
   "cell_type": "markdown",
   "metadata": {},
   "source": [
    "# トポロジカルソート"
   ]
  },
  {
   "cell_type": "code",
   "execution_count": 37,
   "metadata": {},
   "outputs": [
    {
     "name": "stdin",
     "output_type": "stream",
     "text": [
      " 6 3\n",
      " 2 3\n",
      " 4 5\n",
      " 5 6\n"
     ]
    },
    {
     "name": "stdout",
     "output_type": "stream",
     "text": [
      "deque([0, 1, 2, 4]) defaultdict(<class 'list'>, {2: [3], 4: [5], 5: [6]}) defaultdict(<class 'int'>, {3: 1, 5: 1, 6: 1, 0: 0, 1: 0, 2: 0, 4: 0})\n",
      "[0, 1, 2, 4, 3, 5, 6]\n"
     ]
    }
   ],
   "source": [
    "from collections import defaultdict, deque\n",
    "\n",
    "v,n = map(int,input().split())\n",
    "es = [list(map(int,input().split())) for i in range(n)]\n",
    "\n",
    "visited = defaultdict(list)\n",
    "stacked = defaultdict(int)\n",
    "for v1,v2 in es:\n",
    "    visited[v1].append(v2)\n",
    "    stacked[v2] += 1\n",
    "    \n",
    "q = deque(v1 for v1 in range(v) if stacked[v1] == 0)\n",
    "print(q,visited,stacked)\n",
    "res = []\n",
    "while q:\n",
    "    v1 = q.popleft()\n",
    "    res.append(v1)\n",
    "    for v2 in visited[v1]:\n",
    "        stacked[v2] -= 1\n",
    "        if stacked[v2] == 0:\n",
    "            q.append(v2)\n",
    "            \n",
    "print(res)"
   ]
  },
  {
   "cell_type": "code",
   "execution_count": 40,
   "metadata": {},
   "outputs": [
    {
     "name": "stdin",
     "output_type": "stream",
     "text": [
      " 6 3\n",
      " 2 3\n",
      " 4 5\n",
      " 5 6\n"
     ]
    },
    {
     "name": "stdout",
     "output_type": "stream",
     "text": [
      "[[], [2], [], [4], [5], []] [3, 4, 5, 1, 2, 0]\n"
     ]
    }
   ],
   "source": [
    "import sys\n",
    "sys.setrecursionlimit(10 ** 9)\n",
    " \n",
    "N, M = map(int, input().split())\n",
    "G = [[] for i in range(N)]\n",
    "for i in range(M):\n",
    "    x, y = map(int, input().split())\n",
    "    x, y = x - 1, y - 1\n",
    "    G[x].append(y)\n",
    " \n",
    " \n",
    "def topological_sort(g):\n",
    "    topological_list = []\n",
    "    visited = set()\n",
    " \n",
    "    def dfs(n):\n",
    "        for e in g[n]:\n",
    "            if e not in visited:\n",
    "                dfs(e)\n",
    "        topological_list.append(n)\n",
    "        visited.add(n)\n",
    " \n",
    "    for i in range(len(g)):\n",
    "        if i not in visited:\n",
    "            dfs(i)\n",
    " \n",
    "    return topological_list[::-1]\n",
    "T = topological_sort(G)\n",
    "print(G,T)"
   ]
  },
  {
   "cell_type": "code",
   "execution_count": 42,
   "metadata": {},
   "outputs": [
    {
     "name": "stdin",
     "output_type": "stream",
     "text": [
      " 4 5\n",
      " 1 2\n",
      " 1 3\n",
      " 3 2\n",
      " 2 4\n",
      " 3 4\n"
     ]
    },
    {
     "name": "stdout",
     "output_type": "stream",
     "text": [
      "[0, 2, 1, 3]\n"
     ]
    }
   ],
   "source": [
    "from collections import deque\n",
    "N, M = map(int, input().split())\n",
    "X = [[] for i in range(N)] # iからの行き先\n",
    "Y = [0 for i in range(N)] # iに来る辺の数\n",
    "dp = [0 for i in range(N)] # iで終わる最長経路の長さ\n",
    "\n",
    "for i in range(M):\n",
    "    x, y = map(int, input().split())\n",
    "    x -= 1\n",
    "    y -= 1\n",
    "    X[x].append(y)\n",
    "    Y[y] += 1\n",
    "\n",
    "Q = deque([])\n",
    "for i in range(N):\n",
    "    if Y[i] == 0:\n",
    "        Q.append(i)\n",
    "        \n",
    "while len(Q) > 0:\n",
    "    i = Q.popleft() # iは終着点\n",
    "    for x in X[i]: # xはiとつながっている頂点\n",
    "        dp[x] = dp[i]+1\n",
    "        Y[x] -= 1\n",
    "        if Y[x] == 0:\n",
    "            Q.append(x)\n",
    "print(dp)"
   ]
  },
  {
   "cell_type": "code",
   "execution_count": null,
   "metadata": {},
   "outputs": [],
   "source": []
  },
  {
   "cell_type": "markdown",
   "metadata": {},
   "source": [
    "### "
   ]
  }
 ],
 "metadata": {
  "kernelspec": {
   "display_name": "Python 3",
   "language": "python",
   "name": "python3"
  },
  "language_info": {
   "codemirror_mode": {
    "name": "ipython",
    "version": 3
   },
   "file_extension": ".py",
   "mimetype": "text/x-python",
   "name": "python",
   "nbconvert_exporter": "python",
   "pygments_lexer": "ipython3",
   "version": "3.7.1"
  }
 },
 "nbformat": 4,
 "nbformat_minor": 2
}
