{
 "cells": [
  {
   "cell_type": "code",
   "execution_count": null,
   "metadata": {},
   "outputs": [],
   "source": [
    "n = int(input())\n",
    "s = input()\n",
    "if s.count('R')*2 > n:\n",
    "    print(\"Yes\")\n",
    "else:\n",
    "    print(\"No\")"
   ]
  },
  {
   "cell_type": "code",
   "execution_count": null,
   "metadata": {},
   "outputs": [],
   "source": [
    "from collections import defaultdict\n",
    "n,q = map(int,input().split())\n",
    "s = input()\n",
    "ans_l = [1]*n\n",
    "memo = defaultdict(list)\n",
    "\n",
    "for i,c in enumerate(s):\n",
    "    memo[c] .append(i)\n",
    "\n",
    "for _ in range(q):\n",
    "    td= input().split()\n",
    "    t,d = td[0],td[1]\n",
    "    for i in memo[t]:\n",
    "        if i > 0 and d == \"L\":\n",
    "            ans_l[i-1] += ans_l[i]\n",
    "        elif i < n-1 and d == \"R\":\n",
    "            ans_l[i+1] += ans_l[i]\n",
    "        ans_l[i] = 0\n",
    "        \n",
    "print(sum(ans_l))"
   ]
  },
  {
   "cell_type": "code",
   "execution_count": 18,
   "metadata": {},
   "outputs": [
    {
     "name": "stdout",
     "output_type": "stream",
     "text": [
      "5\n"
     ]
    }
   ],
   "source": [
    "from collections import defaultdict\n",
    "n,q = map(int,input().split())\n",
    "s = input()\n",
    "ans_l = [1]*n\n",
    "memo = defaultdict(list)\n",
    "\n",
    "for i,c in enumerate(s):\n",
    "    memo[c] .append(i)\n",
    "    \n"
   ]
  },
  {
   "cell_type": "code",
   "execution_count": null,
   "metadata": {},
   "outputs": [],
   "source": [
    "n,x = map(int,input().split())\n",
    "sn = list(map(int,input().split()))\n",
    "\n",
    "tmp = x\n",
    "def modo(a,b):\n",
    "    if a<b:\n",
    "        return a\n",
    "    return a%b"
   ]
  }
 ],
 "metadata": {
  "kernelspec": {
   "display_name": "Python 3",
   "language": "python",
   "name": "python3"
  },
  "language_info": {
   "codemirror_mode": {
    "name": "ipython",
    "version": 3
   },
   "file_extension": ".py",
   "mimetype": "text/x-python",
   "name": "python",
   "nbconvert_exporter": "python",
   "pygments_lexer": "ipython3",
   "version": "3.7.3"
  }
 },
 "nbformat": 4,
 "nbformat_minor": 2
}
