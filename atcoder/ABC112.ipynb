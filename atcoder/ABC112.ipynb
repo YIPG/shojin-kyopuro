{
 "cells": [
  {
   "cell_type": "markdown",
   "metadata": {},
   "source": [
    "# 下のシェル実行したらスタート"
   ]
  },
  {
   "cell_type": "code",
   "execution_count": 6,
   "metadata": {},
   "outputs": [
    {
     "data": {
      "text/plain": [
       "datetime.datetime(2019, 2, 7, 13, 36, 30, 320751)"
      ]
     },
     "execution_count": 6,
     "metadata": {},
     "output_type": "execute_result"
    }
   ],
   "source": [
    "from datetime import datetime\n",
    "start = datetime.now()\n",
    "start"
   ]
  },
  {
   "cell_type": "markdown",
   "metadata": {},
   "source": [
    "## C"
   ]
  },
  {
   "cell_type": "code",
   "execution_count": 5,
   "metadata": {},
   "outputs": [
    {
     "name": "stdin",
     "output_type": "stream",
     "text": [
      " 4\n",
      " 2 3 5\n",
      " 2 1 5\n",
      " 1 2 5\n",
      " 3 2 5\n"
     ]
    },
    {
     "name": "stdout",
     "output_type": "stream",
     "text": [
      "2 2 6\n"
     ]
    }
   ],
   "source": [
    "N = int(input())\n",
    "xyh = [(0,0,0)]*N\n",
    "for i in range(N):\n",
    "    x,y,h = map(int, input().split())\n",
    "    xyh[i] = (x,y,h)\n",
    "                 \n",
    "for Cx in range(101):\n",
    "    for Cy in range(101):\n",
    "        for i in xyh:\n",
    "            if i[2] != 0:\n",
    "                H = i[2] + abs(i[1]-Cy) + abs(Cx- i[0])\n",
    "                break\n",
    "        for i in xyh:\n",
    "            if i[2] != max(H-(abs(i[1]-Cy) + abs(Cx- i[0])), 0):\n",
    "                break\n",
    "        else:\n",
    "            print(Cx,Cy,H)\n",
    "            break"
   ]
  },
  {
   "cell_type": "markdown",
   "metadata": {},
   "source": [
    "# D"
   ]
  },
  {
   "cell_type": "code",
   "execution_count": 3,
   "metadata": {},
   "outputs": [
    {
     "name": "stdin",
     "output_type": "stream",
     "text": [
      " 10 123\n"
     ]
    },
    {
     "name": "stdout",
     "output_type": "stream",
     "text": [
      "3\n"
     ]
    }
   ],
   "source": [
    "N,M = map(int,input().split())\n",
    "# 問題はM//N>xを満たすようなMの約数xの中で最大のものと読み替えられる。\n",
    "bdr = M//N\n",
    "ans = 1\n",
    "\n",
    "for i in range(1,int(M**0.5+1)):\n",
    "    if M%i==0:\n",
    "        yakusu = M//i\n",
    "        if yakusu<=bdr:\n",
    "            ans = yakusu\n",
    "            break\n",
    "        elif i <= bdr:\n",
    "            ans = i\n",
    "print(ans)"
   ]
  },
  {
   "cell_type": "markdown",
   "metadata": {},
   "source": [
    "# とき終わったら下のシェルを実行して修了"
   ]
  },
  {
   "cell_type": "code",
   "execution_count": 14,
   "metadata": {},
   "outputs": [
    {
     "name": "stdout",
     "output_type": "stream",
     "text": [
      "かかった時間は4分でした\n"
     ]
    }
   ],
   "source": [
    "end = datetime.now()\n",
    "print(\"かかった時間は{}分でした\".format((end-start).seconds // 60))"
   ]
  },
  {
   "cell_type": "code",
   "execution_count": null,
   "metadata": {},
   "outputs": [],
   "source": []
  }
 ],
 "metadata": {
  "kernelspec": {
   "display_name": "Python 3",
   "language": "python",
   "name": "python3"
  },
  "language_info": {
   "codemirror_mode": {
    "name": "ipython",
    "version": 3
   },
   "file_extension": ".py",
   "mimetype": "text/x-python",
   "name": "python",
   "nbconvert_exporter": "python",
   "pygments_lexer": "ipython3",
   "version": "3.7.1"
  }
 },
 "nbformat": 4,
 "nbformat_minor": 2
}
