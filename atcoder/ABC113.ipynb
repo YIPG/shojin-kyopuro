{
 "cells": [
  {
   "cell_type": "markdown",
   "metadata": {},
   "source": [
    "# 下のシェル実行したらスタート"
   ]
  },
  {
   "cell_type": "code",
   "execution_count": 1,
   "metadata": {},
   "outputs": [
    {
     "data": {
      "text/plain": [
       "datetime.datetime(2019, 2, 8, 12, 21, 9, 934654)"
      ]
     },
     "execution_count": 1,
     "metadata": {},
     "output_type": "execute_result"
    }
   ],
   "source": [
    "from datetime import datetime\n",
    "start = datetime.now()\n",
    "start"
   ]
  },
  {
   "cell_type": "markdown",
   "metadata": {},
   "source": [
    "## C"
   ]
  },
  {
   "cell_type": "code",
   "execution_count": 6,
   "metadata": {},
   "outputs": [
    {
     "name": "stdin",
     "output_type": "stream",
     "text": [
      " 2 3\n",
      " 1 32\n",
      " 2 63\n",
      " 1 12\n"
     ]
    },
    {
     "name": "stdout",
     "output_type": "stream",
     "text": [
      "000001000002\n",
      "000002000001\n",
      "000001000001\n"
     ]
    }
   ],
   "source": [
    "N,M = map(int, input().split())\n",
    "py = [(0,0,0)]*M\n",
    "for i in range(M):\n",
    "    p,y = map(int,input().split())\n",
    "    py[i] = (p,y,i)\n",
    "\n",
    "py.sort(key=lambda x:(x[0], x[1]))\n",
    "\n",
    "ans = [(0,0)]*M\n",
    "\n",
    "year = 1\n",
    "tmp_city = 0\n",
    "\n",
    "for index, i in enumerate(py):\n",
    "    city_str = \"{}\".format(i[0]).zfill(6)\n",
    "    if tmp_city != i[0]:\n",
    "        year = 1\n",
    "    year_str = \"{}\".format(year).zfill(6)\n",
    "    tmp_city = i[0]\n",
    "    year += 1\n",
    "    \n",
    "    ans_str = city_str + year_str\n",
    "    \n",
    "    ans[index] = (ans_str,i[2])\n",
    "\n",
    "ans.sort(key=lambda x:x[1])\n",
    "for i in ans:\n",
    "    print(i[0])"
   ]
  },
  {
   "cell_type": "markdown",
   "metadata": {},
   "source": [
    "# D"
   ]
  },
  {
   "cell_type": "code",
   "execution_count": null,
   "metadata": {},
   "outputs": [],
   "source": []
  },
  {
   "cell_type": "markdown",
   "metadata": {},
   "source": [
    "# とき終わったら下のシェルを実行して修了"
   ]
  },
  {
   "cell_type": "code",
   "execution_count": 7,
   "metadata": {},
   "outputs": [
    {
     "name": "stdout",
     "output_type": "stream",
     "text": [
      "かかった時間は29分でした\n"
     ]
    }
   ],
   "source": [
    "end = datetime.now()\n",
    "print(\"かかった時間は{}分でした\".format((end-start).seconds // 60))"
   ]
  }
 ],
 "metadata": {
  "kernelspec": {
   "display_name": "Python 3",
   "language": "python",
   "name": "python3"
  },
  "language_info": {
   "codemirror_mode": {
    "name": "ipython",
    "version": 3
   },
   "file_extension": ".py",
   "mimetype": "text/x-python",
   "name": "python",
   "nbconvert_exporter": "python",
   "pygments_lexer": "ipython3",
   "version": "3.7.3"
  }
 },
 "nbformat": 4,
 "nbformat_minor": 2
}
