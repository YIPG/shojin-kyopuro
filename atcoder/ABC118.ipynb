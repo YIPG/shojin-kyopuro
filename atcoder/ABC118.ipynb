{
 "cells": [
  {
   "cell_type": "markdown",
   "metadata": {},
   "source": [
    "# 下のシェル実行したらスタート"
   ]
  },
  {
   "cell_type": "code",
   "execution_count": 6,
   "metadata": {},
   "outputs": [
    {
     "data": {
      "text/plain": [
       "datetime.datetime(2019, 2, 7, 13, 36, 30, 320751)"
      ]
     },
     "execution_count": 6,
     "metadata": {},
     "output_type": "execute_result"
    }
   ],
   "source": [
    "from datetime import datetime\n",
    "start = datetime.now()\n",
    "start"
   ]
  },
  {
   "cell_type": "markdown",
   "metadata": {},
   "source": [
    "# A"
   ]
  },
  {
   "cell_type": "code",
   "execution_count": 2,
   "metadata": {},
   "outputs": [
    {
     "name": "stdout",
     "output_type": "stream",
     "text": [
      "4 12\n",
      "16\n"
     ]
    }
   ],
   "source": [
    "A,B = map(int, input().split())\n",
    "if B%A==0:\n",
    "    print(A+B)\n",
    "else:\n",
    "    print(B-A)"
   ]
  },
  {
   "cell_type": "markdown",
   "metadata": {},
   "source": [
    "# B"
   ]
  },
  {
   "cell_type": "code",
   "execution_count": 12,
   "metadata": {
    "scrolled": true
   },
   "outputs": [
    {
     "name": "stdout",
     "output_type": "stream",
     "text": [
      "3 4\n",
      "2 1 3\n",
      "3 1 2 3\n",
      "2 3 2\n",
      "1\n"
     ]
    }
   ],
   "source": [
    "from collections import Counter\n",
    "N,M = map(int,input().split())\n",
    "ans = 0\n",
    "an = []\n",
    "for i in range(N):\n",
    "    tmp = list(map(int, input().split()))\n",
    "    an += tmp[1:]\n",
    "for i in Counter(an).values():\n",
    "    if i==N:\n",
    "        ans+=1\n",
    "print(ans)"
   ]
  },
  {
   "cell_type": "markdown",
   "metadata": {},
   "source": [
    "# C"
   ]
  },
  {
   "cell_type": "code",
   "execution_count": 16,
   "metadata": {
    "scrolled": true
   },
   "outputs": [
    {
     "name": "stdout",
     "output_type": "stream",
     "text": [
      "4\n",
      "2 4 6 10\n",
      "2\n"
     ]
    }
   ],
   "source": [
    "from fractions import gcd\n",
    "from functools import reduce\n",
    "\n",
    "N = int(input())\n",
    "an = list(map(int,input().split()))\n",
    "\n",
    "print(reduce(gcd, an))"
   ]
  },
  {
   "cell_type": "markdown",
   "metadata": {},
   "source": [
    "# D"
   ]
  },
  {
   "cell_type": "code",
   "execution_count": 19,
   "metadata": {},
   "outputs": [
    {
     "name": "stdout",
     "output_type": "stream",
     "text": [
      "20 4\n",
      "3 7 8 4\n",
      "777773\n"
     ]
    }
   ],
   "source": [
    "N,M = map(int, input().split())\n",
    "am = list(map(int, input().split()))\n",
    "c = [0,2,5,5,4,5,6,3,7,6]\n",
    "f = [-1]*10010\n",
    "f[0]=0\n",
    "for i in range(1,N+1):\n",
    "    for x in am:\n",
    "        if i-c[x] >= 0:\n",
    "            f[i] = max(f[i], f[i-c[x]]*10 +x)\n",
    "            \n",
    "print(f[N])"
   ]
  },
  {
   "cell_type": "markdown",
   "metadata": {},
   "source": [
    "# とき終わったら下のシェルを実行して修了"
   ]
  },
  {
   "cell_type": "code",
   "execution_count": 14,
   "metadata": {},
   "outputs": [
    {
     "name": "stdout",
     "output_type": "stream",
     "text": [
      "かかった時間は4分でした\n"
     ]
    }
   ],
   "source": [
    "end = datetime.now()\n",
    "print(\"かかった時間は{}分でした\".format((end-start).seconds // 60))"
   ]
  },
  {
   "cell_type": "code",
   "execution_count": null,
   "metadata": {},
   "outputs": [],
   "source": []
  }
 ],
 "metadata": {
  "kernelspec": {
   "display_name": "Python 3",
   "language": "python",
   "name": "python3"
  },
  "language_info": {
   "codemirror_mode": {
    "name": "ipython",
    "version": 3
   },
   "file_extension": ".py",
   "mimetype": "text/x-python",
   "name": "python",
   "nbconvert_exporter": "python",
   "pygments_lexer": "ipython3",
   "version": "3.7.1"
  }
 },
 "nbformat": 4,
 "nbformat_minor": 2
}
