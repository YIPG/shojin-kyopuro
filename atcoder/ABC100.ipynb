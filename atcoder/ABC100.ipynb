{
 "cells": [
  {
   "cell_type": "markdown",
   "metadata": {},
   "source": [
    "# C"
   ]
  },
  {
   "cell_type": "code",
   "execution_count": 3,
   "metadata": {},
   "outputs": [
    {
     "name": "stdin",
     "output_type": "stream",
     "text": [
      " 10\n",
      " 2184 2126 1721 1800 1024 2528 3360 1945 1280 1776\n"
     ]
    },
    {
     "name": "stdout",
     "output_type": "stream",
     "text": [
      "39\n"
     ]
    }
   ],
   "source": [
    "n = int(input())\n",
    "an = list(map(int,input().split()))\n",
    "\n",
    "ans = 0\n",
    "for a in an:\n",
    "    while True:\n",
    "        if a % 2 == 0:\n",
    "            ans += 1\n",
    "            a //= 2\n",
    "        else:\n",
    "            break\n",
    "print(ans)"
   ]
  },
  {
   "cell_type": "markdown",
   "metadata": {},
   "source": [
    "# D"
   ]
  },
  {
   "cell_type": "code",
   "execution_count": 4,
   "metadata": {},
   "outputs": [
    {
     "name": "stdin",
     "output_type": "stream",
     "text": [
      " 5 3\n",
      " 3 1 4\n",
      " 1 5 9\n",
      " 2 6 5\n",
      " 3 5 8\n",
      " 9 7 9 \n"
     ]
    },
    {
     "name": "stdout",
     "output_type": "stream",
     "text": [
      "56\n"
     ]
    }
   ],
   "source": [
    "n,m = map(int,input().split())\n",
    "xyz = [list(map(int,input().split())) for i in range(n)]\n",
    "\n",
    "ans = 0\n",
    "for x in [-1,1]:\n",
    "    for y in [-1,1]:\n",
    "        for z in [-1,1]:\n",
    "            s = []\n",
    "            for a,b,c in xyz:\n",
    "                s.append(a*x+b*y+c*z)\n",
    "            s.sort(reverse=True)\n",
    "            ans = max(ans,sum(s[:m]))\n",
    "print(ans)"
   ]
  },
  {
   "cell_type": "code",
   "execution_count": null,
   "metadata": {},
   "outputs": [],
   "source": []
  }
 ],
 "metadata": {
  "kernelspec": {
   "display_name": "Python 3",
   "language": "python",
   "name": "python3"
  },
  "language_info": {
   "codemirror_mode": {
    "name": "ipython",
    "version": 3
   },
   "file_extension": ".py",
   "mimetype": "text/x-python",
   "name": "python",
   "nbconvert_exporter": "python",
   "pygments_lexer": "ipython3",
   "version": "3.6.8"
  }
 },
 "nbformat": 4,
 "nbformat_minor": 2
}
