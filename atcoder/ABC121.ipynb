{
 "cells": [
  {
   "cell_type": "markdown",
   "metadata": {},
   "source": [
    "# 下のシェル実行したらスタート"
   ]
  },
  {
   "cell_type": "code",
   "execution_count": 6,
   "metadata": {},
   "outputs": [
    {
     "data": {
      "text/plain": [
       "datetime.datetime(2019, 2, 7, 13, 36, 30, 320751)"
      ]
     },
     "execution_count": 6,
     "metadata": {},
     "output_type": "execute_result"
    }
   ],
   "source": [
    "from datetime import datetime\n",
    "start = datetime.now()\n",
    "start"
   ]
  },
  {
   "cell_type": "markdown",
   "metadata": {},
   "source": [
    "# C"
   ]
  },
  {
   "cell_type": "code",
   "execution_count": 1,
   "metadata": {},
   "outputs": [
    {
     "name": "stdin",
     "output_type": "stream",
     "text": [
      " 2 5\n",
      " 4 9\n",
      " 2 4\n"
     ]
    },
    {
     "name": "stdout",
     "output_type": "stream",
     "text": [
      "12\n"
     ]
    }
   ],
   "source": [
    "N,M =map(int,input().split())\n",
    "abn = [list(map(int,input().split())) for i in range(N)]\n",
    "\n",
    "abn.sort(key=lambda x:x[0])\n",
    "ans=0\n",
    "for ab in abn:\n",
    "    if M < 0:\n",
    "        break\n",
    "    else:\n",
    "        if M>ab[1]:\n",
    "            M-=ab[1]\n",
    "            ans+=ab[0]*ab[1]\n",
    "        else:\n",
    "            ans+=ab[0]*M\n",
    "            break\n",
    "print(ans)"
   ]
  },
  {
   "cell_type": "markdown",
   "metadata": {},
   "source": [
    "# D"
   ]
  },
  {
   "cell_type": "code",
   "execution_count": 1,
   "metadata": {},
   "outputs": [
    {
     "name": "stdin",
     "output_type": "stream",
     "text": [
      " 2 4\n"
     ]
    },
    {
     "name": "stdout",
     "output_type": "stream",
     "text": [
      "5\n"
     ]
    }
   ],
   "source": [
    "def f(n):\n",
    "    if n%4==0: return n\n",
    "    if n%4==1: return 1\n",
    "    if n%4==2: return n+1\n",
    "    else: return 0\n",
    "a,b=map(int,input().split())\n",
    "print(f(a-1)^f(b))"
   ]
  },
  {
   "cell_type": "markdown",
   "metadata": {},
   "source": [
    "# とき終わったら下のシェルを実行して修了"
   ]
  },
  {
   "cell_type": "code",
   "execution_count": 14,
   "metadata": {},
   "outputs": [
    {
     "name": "stdout",
     "output_type": "stream",
     "text": [
      "かかった時間は4分でした\n"
     ]
    }
   ],
   "source": [
    "end = datetime.now()\n",
    "print(\"かかった時間は{}分でした\".format((end-start).seconds // 60))"
   ]
  },
  {
   "cell_type": "code",
   "execution_count": 22,
   "metadata": {},
   "outputs": [
    {
     "name": "stdout",
     "output_type": "stream",
     "text": [
      "あああああ\n",
      "ああああい\n",
      "ああああう\n",
      "ああああん\n",
      "ああああー\n",
      "あああいい\n",
      "あああいう\n",
      "あああいん\n",
      "あああいー\n",
      "あああうう\n",
      "あああうん\n",
      "あああうー\n",
      "あああんん\n",
      "あああんー\n",
      "ああいいい\n",
      "ああいいう\n",
      "ああいいん\n",
      "ああいいー\n",
      "ああいうう\n",
      "ああいうん\n",
      "ああいうー\n",
      "ああいんん\n",
      "ああいんー\n",
      "ああううう\n",
      "ああううん\n",
      "ああううー\n",
      "ああうんん\n",
      "ああうんー\n",
      "ああんんん\n",
      "ああんんー\n",
      "あいいいい\n",
      "あいいいう\n",
      "あいいいん\n",
      "あいいいー\n",
      "あいいうう\n",
      "あいいうん\n",
      "あいいうー\n",
      "あいいんん\n",
      "あいいんー\n",
      "あいううう\n",
      "あいううん\n",
      "あいううー\n",
      "あいうんん\n",
      "あいうんー\n",
      "あいんんん\n",
      "あいんんー\n",
      "あうううう\n",
      "あうううん\n",
      "あうううー\n",
      "あううんん\n",
      "あううんー\n",
      "あうんんん\n",
      "あうんんー\n",
      "あんんんん\n",
      "あんんんー\n",
      "いいいいい\n",
      "いいいいう\n",
      "いいいいん\n",
      "いいいいー\n",
      "いいいうう\n",
      "いいいうん\n",
      "いいいうー\n",
      "いいいんん\n",
      "いいいんー\n",
      "いいううう\n",
      "いいううん\n",
      "いいううー\n",
      "いいうんん\n",
      "いいうんー\n",
      "いいんんん\n",
      "いいんんー\n",
      "いうううう\n",
      "いうううん\n",
      "いうううー\n",
      "いううんん\n",
      "いううんー\n",
      "いうんんん\n",
      "いうんんー\n",
      "いんんんん\n",
      "いんんんー\n",
      "ううううう\n",
      "ううううん\n",
      "ううううー\n",
      "うううんん\n",
      "うううんー\n",
      "ううんんん\n",
      "ううんんー\n",
      "うんんんん\n",
      "うんんんー\n"
     ]
    }
   ],
   "source": [
    "import itertools\n",
    "\n",
    "word_l = [\"あ\",\"い\",\"う\",\"ん\",\"ー\"]\n",
    "def check(word):\n",
    "    if (word[0] == \"ん\") | (word[0] == \"ー\"):\n",
    "        return False\n",
    "    for i in range(4):\n",
    "        if word[i]==word[i+1]==\"ー\":\n",
    "            return False\n",
    "    return True\n",
    "        \n",
    "if __name__ == \"__main__\":\n",
    "    ans_l = list(itertools.combinations_with_replacement(word_l, 5))\n",
    "    for ans in ans_l:\n",
    "        if check(ans):\n",
    "            print(\"\".join(ans))"
   ]
  },
  {
   "cell_type": "code",
   "execution_count": 20,
   "metadata": {},
   "outputs": [],
   "source": [
    "def check(word):\n",
    "    if (word[0] == \"ん\") | (word[0] == \"ー\"):\n",
    "        return False\n",
    "    for i in range(4):\n",
    "        if word[i]==word[i+1]==\"ー\":\n",
    "            return False\n",
    "    return True"
   ]
  },
  {
   "cell_type": "code",
   "execution_count": 21,
   "metadata": {},
   "outputs": [
    {
     "data": {
      "text/plain": [
       "True"
      ]
     },
     "execution_count": 21,
     "metadata": {},
     "output_type": "execute_result"
    }
   ],
   "source": [
    "check(\"こーんっこ\")"
   ]
  },
  {
   "cell_type": "code",
   "execution_count": 36,
   "metadata": {},
   "outputs": [
    {
     "name": "stdout",
     "output_type": "stream",
     "text": [
      "[['あかい', 'あおい', 'きいろい'], ['はな']]\n",
      "あかいはな\n",
      "あおいはな\n",
      "きいろいはな\n"
     ]
    }
   ],
   "source": [
    "import re\n",
    "import itertools\n",
    "\n",
    "# braced = input()\n",
    "braced=  \"{あかい,あおい,きいろい}はな\"\n",
    "\n",
    "braced = re.split(\"[{}]\",braced)\n",
    "braced = [x.split(\",\") for x in braced if x]\n",
    "for ans in itertools.product(braced[0],braced[1]):\n",
    "\n",
    "    print(\"\".join(ans))"
   ]
  },
  {
   "cell_type": "code",
   "execution_count": 75,
   "metadata": {},
   "outputs": [
    {
     "name": "stdout",
     "output_type": "stream",
     "text": [
      "Brandon\n",
      "Edward\n",
      "Hannah\n",
      "Dan\n"
     ]
    }
   ],
   "source": [
    "import urllib.request\n",
    "import json\n",
    "\n",
    "class Friends:\n",
    "    def __init__(self, id):\n",
    "        self.base_url = \"http://fg-69c8cbcd.herokuapp.com/user/\"\n",
    "        self.id = str(id)\n",
    "        self.result = []\n",
    "        self.flag = 0\n",
    "        \n",
    "    def fetch_by_id(self, id):\n",
    "        req = urllib.request.Request(self.base_url + id)\n",
    "        with urllib.request.urlopen(req) as res:\n",
    "            tmp = json.load(res)\n",
    "            self.result.append(tmp)\n",
    "        \n",
    "    def fetch_me(self):\n",
    "        self.fetch_by_id(self.id)\n",
    "        \n",
    "    def fetch_friends(self):\n",
    "        cnt = len(self.result)\n",
    "        for ppl in self.result[self.flag:]:\n",
    "            for id in ppl[\"friends\"]:\n",
    "                self.fetch_by_id(str(id))\n",
    "        self.flag = cnt\n",
    "        \n",
    "    def print_name(self):\n",
    "        for ppl in self.result[1:]:\n",
    "            print(ppl[\"name\"])\n",
    "            \n",
    "fr = Friends(1)\n",
    "fr.fetch_me()\n",
    "fr.fetch_friends()\n",
    "fr.fetch_friends()\n",
    "fr.print_name()"
   ]
  },
  {
   "cell_type": "code",
   "execution_count": 69,
   "metadata": {},
   "outputs": [
    {
     "data": {
      "text/plain": [
       "[2, 5]"
      ]
     },
     "execution_count": 69,
     "metadata": {},
     "output_type": "execute_result"
    }
   ],
   "source": [
    "a = {\"friends\": [2,5]}\n",
    "a[\"friends\"]"
   ]
  },
  {
   "cell_type": "code",
   "execution_count": null,
   "metadata": {},
   "outputs": [],
   "source": []
  }
 ],
 "metadata": {
  "kernelspec": {
   "display_name": "Python 3",
   "language": "python",
   "name": "python3"
  },
  "language_info": {
   "codemirror_mode": {
    "name": "ipython",
    "version": 3
   },
   "file_extension": ".py",
   "mimetype": "text/x-python",
   "name": "python",
   "nbconvert_exporter": "python",
   "pygments_lexer": "ipython3",
   "version": "3.7.1"
  }
 },
 "nbformat": 4,
 "nbformat_minor": 2
}
