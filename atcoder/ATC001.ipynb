{
 "cells": [
  {
   "cell_type": "markdown",
   "metadata": {},
   "source": [
    "# DFS(Depth First Serach)"
   ]
  },
  {
   "cell_type": "code",
   "execution_count": null,
   "metadata": {},
   "outputs": [],
   "source": [
    "from collections import deque\n",
    "H, W = map(int,input().split())\n",
    "c = []\n",
    "for i in range(H):\n",
    "    cn = input()\n",
    "    if \"s\" in cn: s = [i,cn.index(\"s\")]\n",
    "    if \"g\" in cn: g = [i,cn.index(\"g\")] \n",
    "    c.append(cn)\n",
    "    \n",
    "def dfs(city, start, goal):\n",
    "    que = deque()\n",
    "    que.append(start)\n",
    "    visited = [[0 for i in range(W)] for j in range(H)]\n",
    "    visited[start[0]][start[1]] = 1\n",
    "    while que:\n",
    "        u = que.popleft()\n",
    "        if u == goal:\n",
    "            return 1\n",
    "        else:\n",
    "            nbd = [[1,0],[0,1],[-1,0],[-1,0]]\n",
    "            for near in nbd:\n",
    "                if 0<=near[0]+u[0]<H and 0<= near[1]+u[1]< W:\n",
    "                    if c[near[0]+u[0]][near[1]+u[1]] != \"#\" and visited[near[0]+u[0]][near[1]+u[1]] == 0:\n",
    "                        que.append([u[0]+near[0],u[1]+near[1]])\n",
    "                        visited[u[0]+near[0]][u[1]+near[1]] = 1\n",
    "    return 0\n",
    "\n",
    "if dfs(c,s,g): print(\"Yes\")\n",
    "else: print(\"No\")"
   ]
  },
  {
   "cell_type": "markdown",
   "metadata": {},
   "source": [
    "# Union-find"
   ]
  },
  {
   "cell_type": "code",
   "execution_count": null,
   "metadata": {},
   "outputs": [],
   "source": [
    "N, Q = map(int, input().split())\n"
   ]
  }
 ],
 "metadata": {
  "kernelspec": {
   "display_name": "Python 3",
   "language": "python",
   "name": "python3"
  },
  "language_info": {
   "codemirror_mode": {
    "name": "ipython",
    "version": 3
   },
   "file_extension": ".py",
   "mimetype": "text/x-python",
   "name": "python",
   "nbconvert_exporter": "python",
   "pygments_lexer": "ipython3",
   "version": "3.7.1"
  }
 },
 "nbformat": 4,
 "nbformat_minor": 2
}
