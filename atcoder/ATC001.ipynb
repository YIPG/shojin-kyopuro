{
 "cells": [
  {
   "cell_type": "markdown",
   "metadata": {},
   "source": [
    "# DFS(Depth First Serach)"
   ]
  },
  {
   "cell_type": "code",
   "execution_count": null,
   "metadata": {},
   "outputs": [],
   "source": [
    "from collections import deque\n",
    "[h,w]=[int(i) for i in input().split()]\n",
    "c=[]\n",
    "d=[[0 for i in range(w)] for j in range(h)]\n",
    "p=[[0,1],[0,-1],[-1,0],[1,0]]\n",
    "for i in range(h):\n",
    "    f=input()\n",
    "    c.append(f)\n",
    "    if f.find(\"s\")!=-1:\n",
    "        start=[i,f.find(\"s\")]\n",
    "    if f.find(\"g\")!=-1:\n",
    "        goal=[i,f.find(\"g\")]\n",
    "def y( start, goal ):\n",
    "    s=deque()\n",
    "    d[start[0]][start[1]]=1\n",
    "    s.append(start)\n",
    "    while len(s):\n",
    "        n = s.popleft()\n",
    "        if c[n[0]][n[1]] == \"g\":\n",
    "            return \"Yes\" \n",
    "        else:\n",
    "            for i in p:\n",
    "                if 0<=n[0]+i[0]<h and 0<=n[1]+i[1]<w and d[n[0]+i[0]][n[1]+i[1]]==0 and c[n[0]+i[0]][n[1]+i[1]]!=\"#\":\n",
    "                    d[n[0]+i[0]][n[1]+i[1]]=1\n",
    "                    s.append([n[0]+i[0],n[1]+i[1]])\n",
    "    return \"No\"\n",
    "print(y( start, goal ))"
   ]
  },
  {
   "cell_type": "markdown",
   "metadata": {},
   "source": [
    "# Union-find"
   ]
  },
  {
   "cell_type": "code",
   "execution_count": null,
   "metadata": {},
   "outputs": [],
   "source": [
    "class UnionFind:\n",
    "    def __init__(self,size):\n",
    "        self.par = [i for i in range(size)]\n",
    "        self.rank = [0 for _ in range(size)]\n",
    "        \n",
    "    def find(self,x):\n",
    "        if self.par[x]==x:\n",
    "            return x\n",
    "        else:\n",
    "            self.par[x]=self.find(self.par[x])\n",
    "            return self.par[x]\n",
    "    \n",
    "    def union(self,x,y):\n",
    "        x = self.find(x)\n",
    "        y = self.find(y)\n",
    "        if self.rank[x]>self.rank[y]:\n",
    "            self.par[y]=x\n",
    "        else:\n",
    "            self.par[x]=y\n",
    "            if self.rank[x]==self.rank[y]:\n",
    "                self.rank[y]+=1\n",
    "    \n",
    "    def same(self,x,y):\n",
    "        x = self.find(x)\n",
    "        y = self.find(y)\n",
    "        return x==y\n",
    "    \n",
    "def main():\n",
    "    N,Q = list(map(int,input().split()))\n",
    "    tree=UnionFind(N)\n",
    "    for i in range(Q):\n",
    "        P,A,B = map(int,input().split())\n",
    "        if P == 0:\n",
    "            tree.union(A,B)\n",
    "        else:\n",
    "            if tree.same(A,B):\n",
    "                print(\"Yes\")\n",
    "            else:\n",
    "                print(\"No\")\n",
    "\n",
    "if __name__ == \"__main__\":\n",
    "    main()"
   ]
  }
 ],
 "metadata": {
  "kernelspec": {
   "display_name": "Python 3",
   "language": "python",
   "name": "python3"
  },
  "language_info": {
   "codemirror_mode": {
    "name": "ipython",
    "version": 3
   },
   "file_extension": ".py",
   "mimetype": "text/x-python",
   "name": "python",
   "nbconvert_exporter": "python",
   "pygments_lexer": "ipython3",
   "version": "3.7.1"
  }
 },
 "nbformat": 4,
 "nbformat_minor": 2
}
