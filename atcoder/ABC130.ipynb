{
 "cells": [
  {
   "cell_type": "markdown",
   "metadata": {},
   "source": [
    "# C"
   ]
  },
  {
   "cell_type": "code",
   "execution_count": 2,
   "metadata": {},
   "outputs": [
    {
     "name": "stdin",
     "output_type": "stream",
     "text": [
      " 2 2 1 1 \n"
     ]
    },
    {
     "name": "stdout",
     "output_type": "stream",
     "text": [
      "2.0 1\n"
     ]
    }
   ],
   "source": [
    "w,h,x,y = map(int,input().split())\n",
    "ans = w*h/2\n",
    "mod = 1 if 2*x==w and 2*y==h else 0\n",
    "print('{} {}'.format(ans,mod))"
   ]
  },
  {
   "cell_type": "markdown",
   "metadata": {},
   "source": [
    "# D"
   ]
  },
  {
   "cell_type": "code",
   "execution_count": 24,
   "metadata": {},
   "outputs": [
    {
     "name": "stdin",
     "output_type": "stream",
     "text": [
      " 4 10\n",
      " 6 1 2 7\n"
     ]
    },
    {
     "name": "stdout",
     "output_type": "stream",
     "text": [
      "2\n"
     ]
    }
   ],
   "source": [
    "from bisect import bisect_left\n",
    "\n",
    "n,k = map(int,input().split())\n",
    "an = list(map(int,input().split()))\n",
    "\n",
    "com_sum =[0]*(n+1)\n",
    "\n",
    "for i in range(n):\n",
    "    com_sum[i+1] = com_sum[i]+an[i]\n",
    "\n",
    "ans = 0\n",
    "for i in range(n):\n",
    "    ans += n + 1 - bisect_left(com_sum,k+com_sum[i])\n",
    "print(ans)"
   ]
  },
  {
   "cell_type": "code",
   "execution_count": 28,
   "metadata": {},
   "outputs": [
    {
     "name": "stdin",
     "output_type": "stream",
     "text": [
      " 4 10\n",
      " 6 1 2 7\n"
     ]
    },
    {
     "name": "stdout",
     "output_type": "stream",
     "text": [
      "2\n"
     ]
    }
   ],
   "source": [
    "n,k = map(int,input().split())\n",
    "an = list(map(int,input().split()))\n",
    "\n",
    "l,t,ans = 0,0,0\n",
    "for i in range(n):\n",
    "    t+=an[i]\n",
    "    while t >= k:\n",
    "        t-=an[l]\n",
    "        l+=1\n",
    "    ans += l\n",
    "print(ans)"
   ]
  },
  {
   "cell_type": "markdown",
   "metadata": {},
   "source": [
    "# E"
   ]
  },
  {
   "cell_type": "code",
   "execution_count": 49,
   "metadata": {},
   "outputs": [
    {
     "name": "stdin",
     "output_type": "stream",
     "text": [
      " 2 2\n",
      " 1 1\n",
      " 1 1\n"
     ]
    },
    {
     "name": "stdout",
     "output_type": "stream",
     "text": [
      "1 0 0\n",
      "S is [1, 1]. T is [1, 1]\n",
      "加えた\n",
      "1 0 1\n",
      "S is [1, 1]. T is [1]\n",
      "1 1 0\n",
      "S is [1]. T is [1, 1]\n",
      "1 1 1\n",
      "S is [1]. T is [1]\n",
      "加えた\n",
      "3\n"
     ]
    }
   ],
   "source": [
    "N, M = map(int, input().split())\n",
    "S = list(map(int, input().split()))\n",
    "T = list(map(int, input().split()))\n",
    "MOD = 10 ** 9 + 7\n",
    "a = [[0 for j in range(M + 1)] for i in range(N + 1)]\n",
    "for i in range(N+1):\n",
    "    for j in range(M+1):\n",
    "        if i == 0 or j == 0:\n",
    "            a[i][j] = 1\n",
    "        else:\n",
    "            a[i][j] = a[i-1][j] + a[i][j-1] - (a[i-1][j-1] if S[i-1] != T[j-1] else 0)\n",
    "            a[i][j] %= MOD\n",
    "print(a[N][M])"
   ]
  },
  {
   "cell_type": "code",
   "execution_count": 41,
   "metadata": {},
   "outputs": [
    {
     "data": {
      "text/plain": [
       "'ab'"
      ]
     },
     "execution_count": 41,
     "metadata": {},
     "output_type": "execute_result"
    }
   ],
   "source": [
    "\"abc\"[0:2]"
   ]
  },
  {
   "cell_type": "code",
   "execution_count": null,
   "metadata": {},
   "outputs": [],
   "source": []
  }
 ],
 "metadata": {
  "kernelspec": {
   "display_name": "Python 3",
   "language": "python",
   "name": "python3"
  },
  "language_info": {
   "codemirror_mode": {
    "name": "ipython",
    "version": 3
   },
   "file_extension": ".py",
   "mimetype": "text/x-python",
   "name": "python",
   "nbconvert_exporter": "python",
   "pygments_lexer": "ipython3",
   "version": "3.6.8"
  }
 },
 "nbformat": 4,
 "nbformat_minor": 2
}
