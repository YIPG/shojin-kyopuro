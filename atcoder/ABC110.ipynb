{
 "cells": [
  {
   "cell_type": "markdown",
   "metadata": {},
   "source": [
    "# 下のシェル実行したらスタート"
   ]
  },
  {
   "cell_type": "code",
   "execution_count": 1,
   "metadata": {},
   "outputs": [
    {
     "data": {
      "text/plain": [
       "datetime.datetime(2019, 2, 16, 8, 23, 4, 485116)"
      ]
     },
     "execution_count": 1,
     "metadata": {},
     "output_type": "execute_result"
    }
   ],
   "source": [
    "from datetime import datetime\n",
    "start = datetime.now()\n",
    "start"
   ]
  },
  {
   "cell_type": "markdown",
   "metadata": {},
   "source": [
    "# C"
   ]
  },
  {
   "cell_type": "code",
   "execution_count": 17,
   "metadata": {},
   "outputs": [
    {
     "name": "stdout",
     "output_type": "stream",
     "text": [
      "chokudai\n",
      "redcoder\n",
      "No\n"
     ]
    }
   ],
   "source": [
    "from collections import Counter\n",
    " \n",
    "S = input()\n",
    "T = input()\n",
    " \n",
    "s = Counter(S)\n",
    "t = Counter(T)\n",
    " \n",
    "if sorted(s.values()) == sorted(t.values()):\n",
    "\tprint(\"Yes\")\n",
    "else:\n",
    "\tprint(\"No\")"
   ]
  },
  {
   "cell_type": "markdown",
   "metadata": {},
   "source": [
    "# D"
   ]
  },
  {
   "cell_type": "code",
   "execution_count": 18,
   "metadata": {},
   "outputs": [
    {
     "name": "stdin",
     "output_type": "stream",
     "text": [
      " 3 12\n"
     ]
    },
    {
     "name": "stdout",
     "output_type": "stream",
     "text": [
      "[12, 6, 4, 3, 2, 1]\n"
     ]
    }
   ],
   "source": [
    "N,M = map(int,input().split())\n",
    "div = []\n",
    "# Mの約数全列挙\n",
    "for i in range(int(M**0.5)):\n",
    "    if M%(i+1)==0:\n",
    "        div.append(i+1)\n",
    "        div.append(M//(i+1))\n",
    "print(sorted(div, reverse=True))"
   ]
  },
  {
   "cell_type": "code",
   "execution_count": 4,
   "metadata": {},
   "outputs": [
    {
     "data": {
      "text/plain": [
       "2.154434690031884"
      ]
     },
     "execution_count": 4,
     "metadata": {},
     "output_type": "execute_result"
    }
   ],
   "source": [
    "10**(1/3)"
   ]
  },
  {
   "cell_type": "markdown",
   "metadata": {},
   "source": [
    "# D"
   ]
  },
  {
   "cell_type": "code",
   "execution_count": 14,
   "metadata": {},
   "outputs": [
    {
     "name": "stdin",
     "output_type": "stream",
     "text": [
      " 2 6\n"
     ]
    },
    {
     "name": "stdout",
     "output_type": "stream",
     "text": [
      "4\n"
     ]
    }
   ],
   "source": [
    "from operator import mul\n",
    "from functools import reduce\n",
    "\n",
    "# 素因数分解して、重複組み合わせを数える。\n",
    "n,m = map(int,input().split())\n",
    "MOD = 10**9+7\n",
    "\n",
    "# 素因数分解\n",
    "def factorize(n):\n",
    "    fct = [] # Prime Factor\n",
    "    b, e = 2, 0\n",
    "    while b*b <= n:\n",
    "        while n % b == 0:\n",
    "            n //= b\n",
    "            e += 1\n",
    "        if e > 0:\n",
    "            fct.append((b,e))\n",
    "        b, e = b+1, 0\n",
    "    if n>1:\n",
    "        fct.append((n,1))\n",
    "    return fct\n",
    "\n",
    "# 組み合わせ計算(nCr)\n",
    "def nCr(n,r):\n",
    "    r = min(r,n-r)\n",
    "    if r == 0:\n",
    "        return 1\n",
    "    over = reduce(mul, range(n,n-r,-1))\n",
    "    under = reduce(mul,range(1,r+1))\n",
    "    return over // under\n",
    "\n",
    "f = factorize(m)\n",
    "ans=1\n",
    "for p,num in f:\n",
    "    ans *= nCr(num+n-1,num)\n",
    "    ans %= MOD\n",
    "    \n",
    "print(ans)"
   ]
  },
  {
   "cell_type": "markdown",
   "metadata": {},
   "source": [
    "# とき終わったら下のシェルを実行して修了"
   ]
  },
  {
   "cell_type": "code",
   "execution_count": 14,
   "metadata": {},
   "outputs": [
    {
     "name": "stdout",
     "output_type": "stream",
     "text": [
      "かかった時間は4分でした\n"
     ]
    }
   ],
   "source": [
    "end = datetime.now()\n",
    "print(\"かかった時間は{}分でした\".format((end-start).seconds // 60))"
   ]
  },
  {
   "cell_type": "code",
   "execution_count": null,
   "metadata": {},
   "outputs": [],
   "source": []
  }
 ],
 "metadata": {
  "kernelspec": {
   "display_name": "Python 3",
   "language": "python",
   "name": "python3"
  },
  "language_info": {
   "codemirror_mode": {
    "name": "ipython",
    "version": 3
   },
   "file_extension": ".py",
   "mimetype": "text/x-python",
   "name": "python",
   "nbconvert_exporter": "python",
   "pygments_lexer": "ipython3",
   "version": "3.7.1"
  }
 },
 "nbformat": 4,
 "nbformat_minor": 2
}
