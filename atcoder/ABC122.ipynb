{
 "cells": [
  {
   "cell_type": "markdown",
   "metadata": {},
   "source": [
    "# 下のシェル実行したらスタート"
   ]
  },
  {
   "cell_type": "code",
   "execution_count": 6,
   "metadata": {},
   "outputs": [
    {
     "data": {
      "text/plain": [
       "datetime.datetime(2019, 2, 7, 13, 36, 30, 320751)"
      ]
     },
     "execution_count": 6,
     "metadata": {},
     "output_type": "execute_result"
    }
   ],
   "source": [
    "from datetime import datetime\n",
    "start = datetime.now()\n",
    "start"
   ]
  },
  {
   "cell_type": "markdown",
   "metadata": {},
   "source": []
  },
  {
   "cell_type": "markdown",
   "metadata": {},
   "source": [
    "# C"
   ]
  },
  {
   "cell_type": "code",
   "execution_count": 4,
   "metadata": {},
   "outputs": [
    {
     "name": "stdin",
     "output_type": "stream",
     "text": [
      " 8 3\n",
      " ACACTACG\n",
      " 3 7\n"
     ]
    },
    {
     "name": "stdout",
     "output_type": "stream",
     "text": [
      "2\n"
     ]
    },
    {
     "name": "stdin",
     "output_type": "stream",
     "text": [
      " 2 3\n"
     ]
    },
    {
     "name": "stdout",
     "output_type": "stream",
     "text": [
      "0\n"
     ]
    },
    {
     "name": "stdin",
     "output_type": "stream",
     "text": [
      " 1 8\n"
     ]
    },
    {
     "name": "stdout",
     "output_type": "stream",
     "text": [
      "3\n"
     ]
    }
   ],
   "source": [
    "N,Q = map(int,input().split())\n",
    "S=input()\n",
    "ans_l = [0]*N\n",
    "for i in range(N-1):\n",
    "    if S[i]==\"A\" and S[i+1]==\"C\":\n",
    "        ans_l[i+1] = ans_l[i] + 1\n",
    "    else:\n",
    "        ans_l[i+1] = ans_l[i]\n",
    "for _ in range(Q):\n",
    "    l, r = map(int, input().split())\n",
    "    ans = ans_l[r-1] - ans_l[l-1]\n",
    "    print(ans)"
   ]
  },
  {
   "cell_type": "markdown",
   "metadata": {},
   "source": [
    "# D"
   ]
  },
  {
   "cell_type": "code",
   "execution_count": 2,
   "metadata": {},
   "outputs": [
    {
     "name": "stdin",
     "output_type": "stream",
     "text": [
      " 4\n"
     ]
    },
    {
     "name": "stdout",
     "output_type": "stream",
     "text": [
      "230\n",
      "[{'TTT': 230}, {'TTA': 50, 'TTC': 61, 'TTG': 58, 'TTT': 61}, {'TAA': 14, 'TAC': 12, 'TAG': 9, 'TAT': 15, 'TCA': 14, 'TCC': 16, 'TCG': 15, 'TCT': 16, 'TGA': 11, 'TGC': 16, 'TGG': 15, 'TGT': 16, 'TTA': 14, 'TTC': 16, 'TTG': 15, 'TTT': 16}, {'AAA': 4, 'AAC': 3, 'AAG': 3, 'AAT': 4, 'ACA': 4, 'ACC': 4, 'ACT': 4, 'AGA': 3, 'AGG': 3, 'AGT': 3, 'ATA': 4, 'ATC': 4, 'ATG': 3, 'ATT': 4, 'CAA': 4, 'CAC': 3, 'CAG': 3, 'CAT': 4, 'CCA': 4, 'CCC': 4, 'CCG': 4, 'CCT': 4, 'CGA': 3, 'CGC': 4, 'CGG': 4, 'CGT': 4, 'CTA': 4, 'CTC': 4, 'CTG': 4, 'CTT': 4, 'GAA': 4, 'GAG': 3, 'GAT': 4, 'GCA': 4, 'GCC': 4, 'GCG': 4, 'GCT': 4, 'GGA': 3, 'GGC': 4, 'GGG': 4, 'GGT': 4, 'GTA': 4, 'GTC': 4, 'GTG': 4, 'GTT': 4, 'TAA': 4, 'TAC': 3, 'TAG': 3, 'TAT': 4, 'TCA': 4, 'TCC': 4, 'TCG': 4, 'TCT': 4, 'TGA': 3, 'TGC': 4, 'TGG': 4, 'TGT': 4, 'TTA': 4, 'TTC': 4, 'TTG': 4, 'TTT': 4}, {}]\n"
     ]
    }
   ],
   "source": [
    "N = int(input())\n",
    "MOD = 10**9 + 7\n",
    "memo = [{} for i in range(N+1)]\n",
    "\n",
    "def ok(last4):\n",
    "    for i in range(4):\n",
    "        t = list(last4)\n",
    "        if i >= 1:\n",
    "            t[i-1], t[i] = t[i], t[i-1]\n",
    "        if \"\".join(t).count(\"AGC\"):\n",
    "            return False\n",
    "    return True\n",
    "\n",
    "def dfs(cur, last3):\n",
    "    if last3 in memo[cur]:\n",
    "        return memo[cur][last3]\n",
    "    if cur == N:\n",
    "        return 1\n",
    "    ret = 0\n",
    "    for c in 'ACGT':\n",
    "        if ok(last3 + c):\n",
    "            ret = (ret + dfs(cur + 1, last3[1:] + c)) % MOD\n",
    "        memo[cur][last3] = ret\n",
    "    return ret\n",
    "\n",
    "print(dfs(0, 'TTT'))\n",
    "print(memo)"
   ]
  },
  {
   "cell_type": "code",
   "execution_count": 6,
   "metadata": {},
   "outputs": [
    {
     "name": "stdin",
     "output_type": "stream",
     "text": [
      " 4\n"
     ]
    },
    {
     "name": "stdout",
     "output_type": "stream",
     "text": [
      "230\n"
     ]
    }
   ],
   "source": [
    "N = int(input())\n",
    "MOD = 10**9 + 7\n",
    "memo = [{} for i in range(N+1)]\n",
    "\n",
    "def ok(last4):\n",
    "    for i in range(4):\n",
    "        t = list(last4)\n",
    "        if i >= 1:\n",
    "            t[i-1], t[i] = t[i], t[i-1]\n",
    "        if \"\".join(t).count(\"AGC\"):\n",
    "            return False\n",
    "    return True\n",
    "\n",
    "def dfs(cur,last3):\n",
    "    if last3 in memo[cur]:\n",
    "        return memo[cur][last3]\n",
    "    if cur == N:\n",
    "        return 1\n",
    "    ret = 0\n",
    "    for c in \"ACGT\":\n",
    "        if ok(last3+c):\n",
    "            ret=ret+dfs(cur+1,last3[1:]+c)\n",
    "            ret%=MOD\n",
    "        memo[cur][last3] = ret\n",
    "    return ret\n",
    "print(dfs(0,\"TTT\"))"
   ]
  },
  {
   "cell_type": "markdown",
   "metadata": {},
   "source": [
    "# とき終わったら下のシェルを実行して修了"
   ]
  },
  {
   "cell_type": "code",
   "execution_count": 14,
   "metadata": {},
   "outputs": [
    {
     "name": "stdout",
     "output_type": "stream",
     "text": [
      "かかった時間は4分でした\n"
     ]
    }
   ],
   "source": [
    "end = datetime.now()\n",
    "print(\"かかった時間は{}分でした\".format((end-start).seconds // 60))"
   ]
  },
  {
   "cell_type": "code",
   "execution_count": null,
   "metadata": {},
   "outputs": [],
   "source": []
  }
 ],
 "metadata": {
  "kernelspec": {
   "display_name": "Python 3",
   "language": "python",
   "name": "python3"
  },
  "language_info": {
   "codemirror_mode": {
    "name": "ipython",
    "version": 3
   },
   "file_extension": ".py",
   "mimetype": "text/x-python",
   "name": "python",
   "nbconvert_exporter": "python",
   "pygments_lexer": "ipython3",
   "version": "3.7.1"
  }
 },
 "nbformat": 4,
 "nbformat_minor": 2
}
