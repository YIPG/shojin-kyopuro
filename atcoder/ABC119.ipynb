{
 "cells": [
  {
   "cell_type": "markdown",
   "metadata": {},
   "source": [
    "# 下のシェル実行したらスタート"
   ]
  },
  {
   "cell_type": "code",
   "execution_count": 1,
   "metadata": {},
   "outputs": [
    {
     "data": {
      "text/plain": [
       "datetime.datetime(2019, 3, 3, 12, 18, 25, 296222)"
      ]
     },
     "execution_count": 1,
     "metadata": {},
     "output_type": "execute_result"
    }
   ],
   "source": [
    "from datetime import datetime\n",
    "start = datetime.now()\n",
    "start"
   ]
  },
  {
   "cell_type": "markdown",
   "metadata": {},
   "source": [
    "# A"
   ]
  },
  {
   "cell_type": "code",
   "execution_count": 10,
   "metadata": {},
   "outputs": [
    {
     "name": "stdin",
     "output_type": "stream",
     "text": [
      " 2019/11/11\n"
     ]
    },
    {
     "name": "stdout",
     "output_type": "stream",
     "text": [
      "TBD\n"
     ]
    }
   ],
   "source": [
    "import datetime\n",
    "S = list(map(int,input().split(\"/\")))\n",
    "comp = datetime.datetime(2019,4,30)\n",
    "target = datetime.datetime(S[0],S[1],S[2])\n",
    "\n",
    "if comp >= target:\n",
    "    print(\"Heisei\")\n",
    "else:\n",
    "    print(\"TBD\")"
   ]
  },
  {
   "cell_type": "markdown",
   "metadata": {},
   "source": [
    "# B"
   ]
  },
  {
   "cell_type": "code",
   "execution_count": 7,
   "metadata": {},
   "outputs": [
    {
     "name": "stdin",
     "output_type": "stream",
     "text": [
      " 2\n",
      " 10000 JPY\n",
      " 0.1 BTC\n"
     ]
    },
    {
     "name": "stdout",
     "output_type": "stream",
     "text": [
      "10000.1\n"
     ]
    }
   ],
   "source": [
    "N = int(input())\n",
    "xn, un =[0]*N, [0]*N\n",
    "for i in range(N):\n",
    "    xn[i], un[i] = map(str,input().split())\n",
    "\n",
    "ans = 0\n",
    "for i in range(N):\n",
    "    if un[i] == \"JPY\":\n",
    "        ans += float(xn[i])\n",
    "    if un[i] == \"BTC\":\n",
    "        ans += float(xn[i])*380000\n",
    "print(ans)"
   ]
  },
  {
   "cell_type": "markdown",
   "metadata": {},
   "source": [
    "# C"
   ]
  },
  {
   "cell_type": "code",
   "execution_count": null,
   "metadata": {},
   "outputs": [],
   "source": [
    "N,A,B,C = map(int, input().split())\n",
    "l = [int(input()) for i in range(N)]\n",
    "INF = 10**9\n",
    "def dfs(cur,a,b,c):\n",
    "    if cur == N:\n",
    "        return abs(a-A) + abs(b-B) + abs(c-C) - 30 if min(a,b,c) > 0 else INF\n",
    "    ret0 = dfs(cur+1,a,b,c)\n",
    "    ret1 = dfs(cur+1,a+l[cur],b,c) + 10\n",
    "    ret2 = dfs(cur + 1, a, b + l[cur], c) + 10\n",
    "    ret3 = dfs(cur + 1, a, b, c + l[cur]) + 10\n",
    "    return min(ret0, ret1, ret2, ret3)\n",
    "print(dfs(0,0,0,0))"
   ]
  },
  {
   "cell_type": "markdown",
   "metadata": {},
   "source": [
    "# D"
   ]
  },
  {
   "cell_type": "code",
   "execution_count": null,
   "metadata": {},
   "outputs": [
    {
     "name": "stdin",
     "output_type": "stream",
     "text": [
      " 2 3 4\n"
     ]
    }
   ],
   "source": [
    "import bisect\n",
    "\n",
    "A,B,Q = map(int,input().split())\n",
    "INF = 10**18\n",
    "sa = [-INF] + [int(input()) for i in range(A)] + [INF]\n",
    "tb = [-INF] + [int(input()) for i in range(B)] + [INF]\n",
    "xq = [int(input()) for i in range(Q)]\n",
    "\n",
    "for x in xq:\n",
    "    ans = INF\n",
    "#     near_s = sa[np.argmin([abs(s-x) for s in sa])]\n",
    "#     near_t = tb[np.argmin([abs(near_s-t) for t in tb])]\n",
    "#     ans += abs(near_s-x)+abs(near_t-near_s)\n",
    "    \n",
    "#     ans2 = 0\n",
    "#     near_t_2 = tb[np.argmin([abs(t-x) for t in tb])]\n",
    "#     near_s_2 = sa[np.argmin([abs(near_t_2-s) for s in sa])]\n",
    "#     ans2 += abs(near_t_2-x) + abs(near_s_2 -near_t_2)\n",
    "\n",
    "    b, d = bisect.bisect_right(sa,x), bisect.bisect_right(tb,x)\n",
    "    for S in [sa[b],sa[b-1]]:\n",
    "        for T in [tb[d], tb[d-1]]:\n",
    "            d1, d2 = abs(S-x) + abs(T-S), abs(T-x) + abs(T-S)\n",
    "            ans = min(ans,d1,d2)\n",
    "    \n",
    "    print(ans)"
   ]
  },
  {
   "cell_type": "code",
   "execution_count": 25,
   "metadata": {},
   "outputs": [
    {
     "name": "stdout",
     "output_type": "stream",
     "text": [
      "[1, 3, 5, 7, 11, 60, 734, 1000, 20000] 2\n"
     ]
    }
   ],
   "source": [
    "import bisect\n",
    "a = [1,5,3,7,11,20000,1000,60,734]\n",
    "a.sort()\n",
    "\n",
    "b = bisect.bisect_left(a, 4)\n",
    "print(a,b)"
   ]
  },
  {
   "cell_type": "markdown",
   "metadata": {},
   "source": [
    "# とき終わったら下のシェルを実行して修了"
   ]
  },
  {
   "cell_type": "code",
   "execution_count": 12,
   "metadata": {},
   "outputs": [
    {
     "name": "stdout",
     "output_type": "stream",
     "text": [
      "かかった時間は25分でした\n"
     ]
    }
   ],
   "source": [
    "end = datetime.datetime.now()\n",
    "print(\"かかった時間は{}分でした\".format((end-start).seconds // 60))"
   ]
  },
  {
   "cell_type": "code",
   "execution_count": null,
   "metadata": {},
   "outputs": [],
   "source": []
  }
 ],
 "metadata": {
  "kernelspec": {
   "display_name": "Python 3",
   "language": "python",
   "name": "python3"
  },
  "language_info": {
   "codemirror_mode": {
    "name": "ipython",
    "version": 3
   },
   "file_extension": ".py",
   "mimetype": "text/x-python",
   "name": "python",
   "nbconvert_exporter": "python",
   "pygments_lexer": "ipython3",
   "version": "3.7.3"
  }
 },
 "nbformat": 4,
 "nbformat_minor": 2
}
