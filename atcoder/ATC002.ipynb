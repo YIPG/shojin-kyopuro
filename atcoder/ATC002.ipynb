{
 "cells": [
  {
   "cell_type": "markdown",
   "metadata": {},
   "source": [
    "# BFS(Bredth First Search)"
   ]
  },
  {
   "cell_type": "code",
   "execution_count": null,
   "metadata": {},
   "outputs": [],
   "source": [
    "from collections import deque\n",
    "\n",
    "(r, c), (sy, sx), (gy, gx) = (map(int, input().split()) for _ in range(3))\n",
    "maze =[input() for _ in[0]*r]\n",
    "count = [c*[-1] for _ in [0]*r]\n",
    "que = deque([(sx-1,sy-1)])\n",
    "\n",
    "count[sy-1][sx-1] = 0\n",
    "\n",
    "while len(que):\n",
    "    x, y = que.popleft()\n",
    "    for dx, dy in [(1,0), (-1,0), (0,1), (0,-1)]:\n",
    "        nx, ny = x + dx, y + dy\n",
    "        if maze[ny][nx] == '.' and count[ny][nx] == -1:\n",
    "            count[ny][nx] = count[y][x] + 1\n",
    "            que.append([nx,ny])\n",
    "\n",
    "print(count[gy-1][gx-1])"
   ]
  },
  {
   "cell_type": "markdown",
   "metadata": {},
   "source": [
    "# 繰り返し2乗法"
   ]
  },
  {
   "cell_type": "code",
   "execution_count": 55,
   "metadata": {},
   "outputs": [
    {
     "name": "stdin",
     "output_type": "stream",
     "text": [
      " 12 15 7\n"
     ]
    },
    {
     "name": "stdout",
     "output_type": "stream",
     "text": [
      "3\n"
     ]
    }
   ],
   "source": [
    "def pow_mod(n, p, m):\n",
    "    if p == 0:\n",
    "        return 1\n",
    "    if p % 2 == 0:\n",
    "        t = pow_mod(n, p // 2, m)\n",
    "        return t * t % m\n",
    "    return pow_mod(n, p - 1, m) * n % m\n",
    " \n",
    "n, m, p = map(int, input().split())\n",
    "print(pow_mod(n, p, m))"
   ]
  },
  {
   "cell_type": "markdown",
   "metadata": {},
   "source": [
    "## 以下速度比較\n",
    "powだと**組み込み=pow>ループ**で、pow_modだと**pow>>>組み込み>>>(超えられない壁)>>ループ**"
   ]
  },
  {
   "cell_type": "markdown",
   "metadata": {},
   "source": [
    "## 組み込み"
   ]
  },
  {
   "cell_type": "code",
   "execution_count": 52,
   "metadata": {},
   "outputs": [
    {
     "name": "stdout",
     "output_type": "stream",
     "text": [
      "かかった時間は3msでした\n"
     ]
    }
   ],
   "source": [
    "import time\n",
    "start = time.time()\n",
    "\n",
    "a = 3**100000%2\n",
    "\n",
    "end = time.time()\n",
    "print(\"かかった時間は{}msでした\".format(int(round((end-start)*1000))))"
   ]
  },
  {
   "cell_type": "markdown",
   "metadata": {},
   "source": [
    "## ループ"
   ]
  },
  {
   "cell_type": "code",
   "execution_count": 53,
   "metadata": {},
   "outputs": [
    {
     "name": "stdout",
     "output_type": "stream",
     "text": [
      "かかった時間は399msでした\n"
     ]
    }
   ],
   "source": [
    "import time\n",
    "start = time.time()\n",
    "\n",
    "a=1\n",
    "for i in range(100000):\n",
    "    a *= 3\n",
    "\n",
    "a %= 2\n",
    "end = time.time()\n",
    "print(\"かかった時間は{}msでした\".format(int(round((end-start)*1000))))"
   ]
  },
  {
   "cell_type": "markdown",
   "metadata": {},
   "source": [
    "## pow関数"
   ]
  },
  {
   "cell_type": "code",
   "execution_count": 54,
   "metadata": {},
   "outputs": [
    {
     "name": "stdout",
     "output_type": "stream",
     "text": [
      "かかった時間は0msでした\n"
     ]
    }
   ],
   "source": [
    "import time\n",
    "start = time.time()\n",
    "\n",
    "a = pow(3,100000,2)\n",
    "\n",
    "end = time.time()\n",
    "print(\"かかった時間は{}msでした\".format(int(round((end-start)*1000))))"
   ]
  },
  {
   "cell_type": "code",
   "execution_count": null,
   "metadata": {},
   "outputs": [],
   "source": []
  }
 ],
 "metadata": {
  "kernelspec": {
   "display_name": "Python 3",
   "language": "python",
   "name": "python3"
  },
  "language_info": {
   "codemirror_mode": {
    "name": "ipython",
    "version": 3
   },
   "file_extension": ".py",
   "mimetype": "text/x-python",
   "name": "python",
   "nbconvert_exporter": "python",
   "pygments_lexer": "ipython3",
   "version": "3.7.1"
  }
 },
 "nbformat": 4,
 "nbformat_minor": 2
}
