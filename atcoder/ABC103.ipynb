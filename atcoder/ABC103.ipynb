{
 "cells": [
  {
   "cell_type": "markdown",
   "metadata": {},
   "source": [
    "# C"
   ]
  },
  {
   "cell_type": "code",
   "execution_count": 6,
   "metadata": {},
   "outputs": [
    {
     "name": "stdin",
     "output_type": "stream",
     "text": [
      " 3\n",
      " 3 4 6\n"
     ]
    },
    {
     "name": "stdout",
     "output_type": "stream",
     "text": [
      "10\n"
     ]
    }
   ],
   "source": [
    "n = int(input())\n",
    "an = list(map(int,input().split()))\n",
    "print(sum(an)- n)"
   ]
  },
  {
   "cell_type": "markdown",
   "metadata": {},
   "source": [
    "# D"
   ]
  },
  {
   "cell_type": "markdown",
   "metadata": {},
   "source": [
    "はじまりソート"
   ]
  },
  {
   "cell_type": "code",
   "execution_count": 7,
   "metadata": {},
   "outputs": [
    {
     "name": "stdin",
     "output_type": "stream",
     "text": [
      " 5 2\n",
      " 1 4\n",
      "  2 5\n"
     ]
    },
    {
     "name": "stdout",
     "output_type": "stream",
     "text": [
      "[(0, 3), (1, 4)]\n"
     ]
    }
   ],
   "source": [
    "N,M = map(int,input().split())\n",
    "src = [tuple(map(lambda x:int(x)-1,input().split())) for i in range(M)]\n",
    "src.sort()\n",
    " \n",
    "ans = 0\n",
    "minb = N\n",
    "for a,b in src:\n",
    "    if a >= minb:\n",
    "        ans += 1\n",
    "        minb = b\n",
    "    else:\n",
    "        minb = min(minb,b)\n",
    "if src[-1][0] < minb:\n",
    "    ans += 1\n",
    "print(ans)"
   ]
  },
  {
   "cell_type": "code",
   "execution_count": 9,
   "metadata": {},
   "outputs": [
    {
     "name": "stdin",
     "output_type": "stream",
     "text": [
      " 9 5\n",
      " 1 8\n",
      " 2 7\n",
      " 3 5\n",
      " 4 6\n",
      " 7 9\n"
     ]
    },
    {
     "name": "stdout",
     "output_type": "stream",
     "text": [
      "[[3, 5], [4, 6], [2, 7], [1, 8], [7, 9]]\n",
      "3 0\n",
      "4 5\n",
      "2 5\n",
      "1 5\n",
      "7 5\n",
      "2\n"
     ]
    }
   ],
   "source": [
    "n, m = map(int, input().split())\n",
    "e = []\n",
    "for i in range(m):\n",
    "    e.append(list(map(int, input().split())))\n",
    "\n",
    "e.sort(key=lambda x:x[1])\n",
    "ret = 0\n",
    "\n",
    "\n",
    "l = 0\n",
    "for i in range(m):\n",
    "    if e[i][0] < l:\n",
    "        continue\n",
    "    else:\n",
    "        l = e[i][1]\n",
    "        ret += 1\n",
    "    \n",
    "print(ret)\n"
   ]
  },
  {
   "cell_type": "code",
   "execution_count": null,
   "metadata": {},
   "outputs": [],
   "source": []
  }
 ],
 "metadata": {
  "kernelspec": {
   "display_name": "Python 3",
   "language": "python",
   "name": "python3"
  },
  "language_info": {
   "codemirror_mode": {
    "name": "ipython",
    "version": 3
   },
   "file_extension": ".py",
   "mimetype": "text/x-python",
   "name": "python",
   "nbconvert_exporter": "python",
   "pygments_lexer": "ipython3",
   "version": "3.7.1"
  }
 },
 "nbformat": 4,
 "nbformat_minor": 2
}
