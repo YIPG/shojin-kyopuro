{
 "cells": [
  {
   "cell_type": "markdown",
   "metadata": {},
   "source": [
    "# C"
   ]
  },
  {
   "cell_type": "code",
   "execution_count": 1,
   "metadata": {},
   "outputs": [
    {
     "name": "stdin",
     "output_type": "stream",
     "text": [
      " 3 10\n"
     ]
    },
    {
     "name": "stdout",
     "output_type": "stream",
     "text": [
      "0.14583333333333334\n"
     ]
    }
   ],
   "source": [
    "n, k = list(map(int, input().split()))\n",
    "ans = 0\n",
    "for i in range(1,n+1):\n",
    "    tmp=1\n",
    "    while i * tmp < k:\n",
    "        tmp=tmp*2\n",
    "    ans+=1/tmp\n",
    "print(ans/n)"
   ]
  },
  {
   "cell_type": "markdown",
   "metadata": {},
   "source": [
    "# D"
   ]
  },
  {
   "cell_type": "code",
   "execution_count": 12,
   "metadata": {},
   "outputs": [
    {
     "name": "stdin",
     "output_type": "stream",
     "text": [
      " 3\n",
      " 1 2 2\n",
      " 2 3 1\n"
     ]
    },
    {
     "name": "stdout",
     "output_type": "stream",
     "text": [
      "0\n",
      "0\n",
      "1\n"
     ]
    }
   ],
   "source": [
    "N = int(input())\n",
    "G = [dict() for i in range(N)]\n",
    "# ここ天才過ぎん？てかグラフってそういうふうに表すんだ。\n",
    "# G = [{1: 2}, {0: 2, 2: 1}, {1: 1}]\n",
    "for i in range(N-1):\n",
    "    u,v,w = map(int,input().split())\n",
    "    G[u-1][v-1] = w\n",
    "    G[v-1][u-1] = w\n",
    "color = [-1 for i in range(N)]\n",
    "dist=[-1 for i in range(N)]\n",
    "dist[0]=0\n",
    "q=[0]\n",
    "\n",
    "while(len(q)>0):\n",
    "    r=q.pop()\n",
    "    for p in G[r]:\n",
    "        if dist[p]!=-1:\n",
    "            continue\n",
    "        dist[p]=dist[r]+G[r][p]\n",
    "        q.append(p)\n",
    "\n",
    "for i in range(N):\n",
    "    print(dist[i]%2)"
   ]
  },
  {
   "cell_type": "code",
   "execution_count": 13,
   "metadata": {},
   "outputs": [
    {
     "data": {
      "text/plain": [
       "[{1: 2}, {0: 2, 2: 1}, {1: 1}]"
      ]
     },
     "execution_count": 13,
     "metadata": {},
     "output_type": "execute_result"
    }
   ],
   "source": [
    "G"
   ]
  },
  {
   "cell_type": "code",
   "execution_count": 7,
   "metadata": {},
   "outputs": [],
   "source": [
    "a.append(3)"
   ]
  },
  {
   "cell_type": "code",
   "execution_count": 10,
   "metadata": {},
   "outputs": [
    {
     "name": "stdout",
     "output_type": "stream",
     "text": [
      "1\n",
      "3\n"
     ]
    }
   ],
   "source": [
    "d = {1:2,3:4}\n",
    "for i in d:\n",
    "    print(i)"
   ]
  },
  {
   "cell_type": "code",
   "execution_count": null,
   "metadata": {},
   "outputs": [],
   "source": []
  }
 ],
 "metadata": {
  "kernelspec": {
   "display_name": "Python 3",
   "language": "python",
   "name": "python3"
  },
  "language_info": {
   "codemirror_mode": {
    "name": "ipython",
    "version": 3
   },
   "file_extension": ".py",
   "mimetype": "text/x-python",
   "name": "python",
   "nbconvert_exporter": "python",
   "pygments_lexer": "ipython3",
   "version": "3.7.3"
  }
 },
 "nbformat": 4,
 "nbformat_minor": 2
}
