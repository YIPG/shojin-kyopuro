{
 "cells": [
  {
   "cell_type": "markdown",
   "metadata": {},
   "source": [
    "# C"
   ]
  },
  {
   "cell_type": "code",
   "execution_count": 1,
   "metadata": {},
   "outputs": [
    {
     "name": "stdin",
     "output_type": "stream",
     "text": [
      " 3 10\n"
     ]
    },
    {
     "name": "stdout",
     "output_type": "stream",
     "text": [
      "0.14583333333333334\n"
     ]
    }
   ],
   "source": [
    "n, k = list(map(int, input().split()))\n",
    "ans = 0\n",
    "for i in range(1,n+1):\n",
    "    tmp=1\n",
    "    while i * tmp < k:\n",
    "        tmp=tmp*2\n",
    "    ans+=1/tmp\n",
    "print(ans/n)"
   ]
  },
  {
   "cell_type": "markdown",
   "metadata": {},
   "source": [
    "# D(根付き木の根からの距離計算問題)"
   ]
  },
  {
   "cell_type": "markdown",
   "metadata": {},
   "source": [
    "面白い問題だったので補足。\n",
    "ポイントは2つあって\n",
    "1. グラフをプログラム上で表現できるか\n",
    "1. 任意の一点を根として、根からの距離を計算できるか\n",
    "\n",
    "の二点。下記の実装がキレイ。"
   ]
  },
  {
   "cell_type": "code",
   "execution_count": 11,
   "metadata": {},
   "outputs": [
    {
     "name": "stdin",
     "output_type": "stream",
     "text": [
      " 3\n",
      " 1 2 2\n",
      " 2 3 1\n"
     ]
    },
    {
     "name": "stdout",
     "output_type": "stream",
     "text": [
      "0\n",
      "0\n",
      "1\n"
     ]
    }
   ],
   "source": [
    "N = int(input())\n",
    "G = [dict() for i in range(N)]\n",
    "# グラフの表し方\n",
    "for i in range(N-1):\n",
    "    u,v,w = map(int,input().split())\n",
    "    G[u-1][v-1] = w\n",
    "    G[v-1][u-1] = w\n",
    "color = [-1 for i in range(N)]\n",
    "dist=[-1 for i in range(N)]\n",
    "# 頂点1を根に根付き木を考える。頂点１からの距離\n",
    "dist[0]=0\n",
    "q=[0]\n",
    "while(len(q)>0):\n",
    "    r=q.pop()\n",
    "    for p in G[r]:\n",
    "        if dist[p]!=-1:\n",
    "            continue\n",
    "        dist[p]=dist[r]+G[r][p]\n",
    "        q.append(p)\n",
    "\n",
    "for i in range(N):\n",
    "    print(dist[i]%2)"
   ]
  },
  {
   "cell_type": "markdown",
   "metadata": {},
   "source": [
    "# E"
   ]
  },
  {
   "cell_type": "markdown",
   "metadata": {},
   "source": [
    "Union-Find一発芸。グラフの連結成分抜き出したいときに有効ってことを。。。人はなぜ。。。"
   ]
  },
  {
   "cell_type": "code",
   "execution_count": 31,
   "metadata": {},
   "outputs": [
    {
     "name": "stdin",
     "output_type": "stream",
     "text": [
      " 100000 1\n",
      " 1 100000 100\n"
     ]
    },
    {
     "name": "stdout",
     "output_type": "stream",
     "text": [
      "99999\n"
     ]
    }
   ],
   "source": [
    "class UnionFind:\n",
    "    def __init__(self,size):\n",
    "        self.par = [i for i in range(size)]\n",
    "        self.rank = [0 for _ in range(size)]\n",
    "        \n",
    "    def find(self,x):\n",
    "        if self.par[x]==x:\n",
    "            return x\n",
    "        else:\n",
    "            self.par[x]=self.find(self.par[x])\n",
    "            return self.par[x]\n",
    "    \n",
    "    def union(self,x,y):\n",
    "        x = self.find(x)\n",
    "        y = self.find(y)\n",
    "        if self.rank[x]>self.rank[y]:\n",
    "            self.par[y]=x\n",
    "        else:\n",
    "            self.par[x]=y\n",
    "            if self.rank[x]==self.rank[y]:\n",
    "                self.rank[y]+=1\n",
    "    \n",
    "    def same(self,x,y):\n",
    "        x = self.find(x)\n",
    "        y = self.find(y)\n",
    "        return x==y\n",
    "    \n",
    "n,m = map(int,input().split())\n",
    "tree = UnionFind(n)\n",
    "for i in range(m):\n",
    "    x,y,z = map(int,input().split())\n",
    "    x -= 1\n",
    "    y -= 1\n",
    "    tree.union(x,y)\n",
    "\n",
    "tmp = [tree.find(i) for i in range(n)]\n",
    "print(len(set(tmp)))"
   ]
  },
  {
   "cell_type": "markdown",
   "metadata": {},
   "source": [
    "# F"
   ]
  },
  {
   "cell_type": "code",
   "execution_count": null,
   "metadata": {},
   "outputs": [],
   "source": []
  }
 ],
 "metadata": {
  "kernelspec": {
   "display_name": "Python 3",
   "language": "python",
   "name": "python3"
  },
  "language_info": {
   "codemirror_mode": {
    "name": "ipython",
    "version": 3
   },
   "file_extension": ".py",
   "mimetype": "text/x-python",
   "name": "python",
   "nbconvert_exporter": "python",
   "pygments_lexer": "ipython3",
   "version": "3.7.3"
  }
 },
 "nbformat": 4,
 "nbformat_minor": 2
}
