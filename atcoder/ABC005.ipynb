{
 "cells": [
  {
   "cell_type": "markdown",
   "metadata": {},
   "source": [
    "# D"
   ]
  },
  {
   "cell_type": "markdown",
   "metadata": {},
   "source": [
    "二次元累積和。参照渡しに注意"
   ]
  },
  {
   "cell_type": "code",
   "execution_count": 28,
   "metadata": {},
   "outputs": [
    {
     "name": "stdin",
     "output_type": "stream",
     "text": [
      " 3\n",
      " 1 1 1\n",
      " 1 1 1\n",
      " 9 9 9\n",
      " 1\n",
      " 4\n"
     ]
    },
    {
     "name": "stdout",
     "output_type": "stream",
     "text": [
      "27\n"
     ]
    }
   ],
   "source": [
    "n = int(input())\n",
    "D = []\n",
    "dp = [[0]*(n+1) for i in range(n+1)] \n",
    "# not [[0]*(n+1)]*(n+1)\n",
    "# はじめの[0,0,0,0]が全て同じ参照になってしまう。\n",
    "\n",
    "# dp[0][0]=1とすると\n",
    "# [[0,0,0,1],[0,0,0,1]...]\n",
    "# となる\n",
    "for i in range(n):\n",
    "    d = list(map(int,input().split()))\n",
    "    D.append(d)\n",
    "for i in range(n):\n",
    "    for j in range(n):\n",
    "        dp[i+1][j+1] = dp[i+1][j] + dp[i][j+1] - dp[i][j] + D[i][j]\n",
    "area = [0]*(n**2+1)\n",
    "for w1 in range(n+1):\n",
    "    for w2 in range(w1,n+1):\n",
    "        for h1 in range(n+1):\n",
    "            for h2 in range(h1,n+1):\n",
    "                v = dp[w2][h2] + dp[w1][h1] - dp[w2][h1] - dp[w1][h2]\n",
    "                area[(w2-w1)*(h2-h1)] = max(area[(w2-w1)*(h2-h1)], v)\n",
    "\n",
    "for i in range(1,n**2+1):\n",
    "    if area[i] < area[i-1]:\n",
    "        area[i] = area[i-1]\n",
    "Q = int(input())\n",
    "ans=[]\n",
    "for _ in range(Q):\n",
    "    p = int(input())\n",
    "    ans.append(area[p])\n",
    "print(\"\\n\".join(map(str,ans)))"
   ]
  },
  {
   "cell_type": "code",
   "execution_count": 29,
   "metadata": {},
   "outputs": [
    {
     "data": {
      "text/plain": [
       "[0, 9, 18, 27, 27, 27, 30, 30, 30, 33]"
      ]
     },
     "execution_count": 29,
     "metadata": {},
     "output_type": "execute_result"
    }
   ],
   "source": [
    "area"
   ]
  },
  {
   "cell_type": "code",
   "execution_count": 9,
   "metadata": {},
   "outputs": [
    {
     "data": {
      "text/plain": [
       "[[3, 2, 1], [2, 2, 1], [1, 1, 1]]"
      ]
     },
     "execution_count": 9,
     "metadata": {},
     "output_type": "execute_result"
    }
   ],
   "source": [
    "D"
   ]
  },
  {
   "cell_type": "code",
   "execution_count": 13,
   "metadata": {},
   "outputs": [
    {
     "data": {
      "text/plain": [
       "[[0, 0, 0, 0], [0, 3, 5, 6], [0, 5, 9, 11], [0, 6, 11, 14]]"
      ]
     },
     "execution_count": 13,
     "metadata": {},
     "output_type": "execute_result"
    }
   ],
   "source": [
    "S"
   ]
  },
  {
   "cell_type": "code",
   "execution_count": 17,
   "metadata": {},
   "outputs": [],
   "source": [
    "dp = [[0]*(n+1)] * (n+1)"
   ]
  },
  {
   "cell_type": "code",
   "execution_count": 18,
   "metadata": {},
   "outputs": [
    {
     "data": {
      "text/plain": [
       "[[0, 0, 0, 0], [0, 0, 0, 0], [0, 0, 0, 0], [0, 0, 0, 0]]"
      ]
     },
     "execution_count": 18,
     "metadata": {},
     "output_type": "execute_result"
    }
   ],
   "source": [
    "dp"
   ]
  },
  {
   "cell_type": "code",
   "execution_count": null,
   "metadata": {},
   "outputs": [],
   "source": []
  }
 ],
 "metadata": {
  "kernelspec": {
   "display_name": "Python 3",
   "language": "python",
   "name": "python3"
  },
  "language_info": {
   "codemirror_mode": {
    "name": "ipython",
    "version": 3
   },
   "file_extension": ".py",
   "mimetype": "text/x-python",
   "name": "python",
   "nbconvert_exporter": "python",
   "pygments_lexer": "ipython3",
   "version": "3.7.1"
  }
 },
 "nbformat": 4,
 "nbformat_minor": 2
}
