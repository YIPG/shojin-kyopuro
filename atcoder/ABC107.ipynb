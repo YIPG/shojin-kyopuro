{
 "cells": [
  {
   "cell_type": "markdown",
   "metadata": {},
   "source": [
    "# C"
   ]
  },
  {
   "cell_type": "code",
   "execution_count": 31,
   "metadata": {},
   "outputs": [
    {
     "name": "stdout",
     "output_type": "stream",
     "text": [
      "-9 -3\n",
      "[-9, -7, -4, -3, 1]\n",
      "始点 is 1, 終わり is 1, 始まり is -9\n",
      "tmp is 11\n",
      "-7 1\n",
      "[-7, -4, -3, 1, 2]\n",
      "始点 is 2, 終わり is 2, 始まり is -7\n",
      "tmp is 11\n",
      "-4 2\n",
      "[-4, -3, 1, 2, 3]\n",
      "始点 is 3, 終わり is 3, 始まり is -4\n",
      "tmp is 10\n",
      "-3 3\n",
      "[-3, 1, 2, 3, 4]\n",
      "始点 is 3, 終わり is 4, 始まり is -3\n",
      "tmp is 10\n",
      "10\n"
     ]
    }
   ],
   "source": [
    "n,k = map(int,input().split())\n",
    "# n,k = map(int,\"8 5\".split())\n",
    "xn = list(map(int,input().split()))\n",
    "# xn = list(map(int,\"-9 -7 -4 -3 1 2 3 4\".split()))\n",
    "\n",
    "ans = float(\"inf\")\n",
    "for i in range(n-k+1):\n",
    "#     print(xn[i],xn[n-k+i])\n",
    "#     print(xn[i:i+k])\n",
    "    tmp = min(abs(xn[i]),abs(xn[k+i-1])) + xn[k+i-1] - xn[i]\n",
    "#     print(\"始点 is {}, 終わり is {}, 始まり is {}\".format(min(abs(xn[i]),abs(xn[k+i-1])), xn[k+i-1],xn[i]))\n",
    "#     print(\"tmp is {}\".format(tmp))\n",
    "    if tmp < ans:\n",
    "        ans=tmp\n",
    "print(ans)"
   ]
  },
  {
   "cell_type": "code",
   "execution_count": 1,
   "metadata": {},
   "outputs": [
    {
     "data": {
      "text/plain": [
       "-1"
      ]
     },
     "execution_count": 1,
     "metadata": {},
     "output_type": "execute_result"
    }
   ],
   "source": []
  },
  {
   "cell_type": "code",
   "execution_count": null,
   "metadata": {},
   "outputs": [],
   "source": []
  }
 ],
 "metadata": {
  "kernelspec": {
   "display_name": "Python 3",
   "language": "python",
   "name": "python3"
  },
  "language_info": {
   "codemirror_mode": {
    "name": "ipython",
    "version": 3
   },
   "file_extension": ".py",
   "mimetype": "text/x-python",
   "name": "python",
   "nbconvert_exporter": "python",
   "pygments_lexer": "ipython3",
   "version": "3.7.1"
  }
 },
 "nbformat": 4,
 "nbformat_minor": 2
}
