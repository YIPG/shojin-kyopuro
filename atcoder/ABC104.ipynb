{
 "cells": [
  {
   "cell_type": "markdown",
   "metadata": {},
   "source": [
    "# C"
   ]
  },
  {
   "cell_type": "code",
   "execution_count": null,
   "metadata": {},
   "outputs": [],
   "source": [
    "from itertools import permutations\n",
    "D,G = map(int,input().split())\n",
    "PC = []\n",
    "for i in range(D):\n",
    "    p,c = map(int,input().split())\n",
    "    PC.append((p,c))\n",
    " "
   ]
  },
  {
   "cell_type": "markdown",
   "metadata": {},
   "source": [
    "# C(bit全探索)"
   ]
  },
  {
   "cell_type": "code",
   "execution_count": 8,
   "metadata": {},
   "outputs": [
    {
     "name": "stdin",
     "output_type": "stream",
     "text": [
      " 2 2000\n",
      " 3 500\n",
      " 5 800\n"
     ]
    },
    {
     "name": "stdout",
     "output_type": "stream",
     "text": [
      "7\n"
     ]
    }
   ],
   "source": [
    "D,G = map(int,input().split())\n",
    "src = [tuple(map(int,input().split())) for i in range(D)]\n",
    "\n",
    "ans = 10**9\n",
    "for b in range(1<<D):\n",
    "    score = 0\n",
    "    ac = 0\n",
    "    for k in range(D):\n",
    "        if b&(1<<k):\n",
    "            p,c = src[k]\n",
    "            score += c + p*100*(k+1)\n",
    "            ac += p\n",
    "    if score >= G:\n",
    "        ans = min(ans,ac)\n",
    "        continue\n",
    "    for k in range(D-1,-1,-1):\n",
    "        if b&(1<<k)==0:\n",
    "            p,c = src[k]\n",
    "            if score + p*(k+1)*100 < G:\n",
    "                score += p*(k+1)*100\n",
    "                ac += p\n",
    "            else:\n",
    "                rem = score- G\n",
    "                ac -= rem//((k+1)*100)\n",
    "                ans = min(ans,ac)\n",
    "print(ans)"
   ]
  },
  {
   "cell_type": "markdown",
   "metadata": {},
   "source": [
    "## 実はitertools.productを使っても解ける"
   ]
  },
  {
   "cell_type": "markdown",
   "metadata": {},
   "source": [
    "# D(DP)"
   ]
  },
  {
   "cell_type": "code",
   "execution_count": 15,
   "metadata": {},
   "outputs": [
    {
     "name": "stdin",
     "output_type": "stream",
     "text": [
      " A??C\n"
     ]
    },
    {
     "name": "stdout",
     "output_type": "stream",
     "text": [
      "8\n"
     ]
    }
   ],
   "source": [
    "MOD = 10**9 + 7\n",
    "S = input()\n",
    "\n",
    "s = [0]*4\n",
    "\n",
    "s[0] = 1\n",
    "\n",
    "for c in S:\n",
    "    if c == \"?\":\n",
    "        s = [s[0]*3,s[1]*3+s[0],s[2]*3+s[1],s[3]*3+s[2]]\n",
    "        for i in range(4):\n",
    "            s[i] %= MOD\n",
    "    else:\n",
    "        i = \"ABC\".find(c)\n",
    "        s[i+1] += s[i] % MOD\n",
    "print(s[3]%MOD)"
   ]
  },
  {
   "cell_type": "code",
   "execution_count": 14,
   "metadata": {},
   "outputs": [
    {
     "data": {
      "text/plain": [
       "0"
      ]
     },
     "execution_count": 14,
     "metadata": {},
     "output_type": "execute_result"
    }
   ],
   "source": [
    "\"ABC\".index(\"A\")"
   ]
  },
  {
   "cell_type": "code",
   "execution_count": null,
   "metadata": {},
   "outputs": [],
   "source": []
  }
 ],
 "metadata": {
  "kernelspec": {
   "display_name": "Python 3",
   "language": "python",
   "name": "python3"
  },
  "language_info": {
   "codemirror_mode": {
    "name": "ipython",
    "version": 3
   },
   "file_extension": ".py",
   "mimetype": "text/x-python",
   "name": "python",
   "nbconvert_exporter": "python",
   "pygments_lexer": "ipython3",
   "version": "3.7.1"
  }
 },
 "nbformat": 4,
 "nbformat_minor": 2
}
