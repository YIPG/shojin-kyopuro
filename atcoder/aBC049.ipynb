{
 "cells": [
  {
   "cell_type": "markdown",
   "metadata": {},
   "source": [
    "# D"
   ]
  },
  {
   "cell_type": "code",
   "execution_count": 5,
   "metadata": {},
   "outputs": [
    {
     "name": "stdin",
     "output_type": "stream",
     "text": [
      " 4 3 1\n",
      " 1 2\n",
      " 2 3\n",
      " 3 4\n",
      " 2 3\n"
     ]
    }
   ],
   "source": [
    "class UnionFind:\n",
    "    def __init__(self,size):\n",
    "        self.par = [i for i in range(size)]\n",
    "        self.rank = [0 for _ in range(size)]\n",
    "        \n",
    "    def find(self,x):\n",
    "        if self.par[x]==x:\n",
    "            return x\n",
    "        else:\n",
    "            self.par[x]=self.find(self.par[x])\n",
    "            return self.par[x]\n",
    "    \n",
    "    def union(self,x,y):\n",
    "        x = self.find(x)\n",
    "        y = self.find(y)\n",
    "        if self.rank[x]>self.rank[y]:\n",
    "            self.par[y]=x\n",
    "        else:\n",
    "            self.par[x]=y\n",
    "            if self.rank[x]==self.rank[y]:\n",
    "                self.rank[y]+=1\n",
    "    \n",
    "    def same(self,x,y):\n",
    "        x = self.find(x)\n",
    "        y = self.find(y)\n",
    "        return x==y\n",
    "    \n",
    "n,k,l = map(int,input().split())\n",
    "for i in range(k):\n",
    "    road_UF = UnionFind(n)\n",
    "    p,q = map(int,input().split())\n",
    "    road_UF.union(p-1,q-1)\n",
    "for i in range(l):\n",
    "    rail_UF = UnionFind(n)\n",
    "    p,q = map(int,input().split())\n",
    "    rail_UF.union(p-1,q-1)"
   ]
  },
  {
   "cell_type": "code",
   "execution_count": 14,
   "metadata": {},
   "outputs": [
    {
     "data": {
      "text/plain": [
       "False"
      ]
     },
     "execution_count": 14,
     "metadata": {},
     "output_type": "execute_result"
    }
   ],
   "source": [
    "road_UF.same(0,2)"
   ]
  },
  {
   "cell_type": "code",
   "execution_count": null,
   "metadata": {},
   "outputs": [],
   "source": []
  }
 ],
 "metadata": {
  "kernelspec": {
   "display_name": "Python 3",
   "language": "python",
   "name": "python3"
  },
  "language_info": {
   "codemirror_mode": {
    "name": "ipython",
    "version": 3
   },
   "file_extension": ".py",
   "mimetype": "text/x-python",
   "name": "python",
   "nbconvert_exporter": "python",
   "pygments_lexer": "ipython3",
   "version": "3.7.1"
  }
 },
 "nbformat": 4,
 "nbformat_minor": 2
}
