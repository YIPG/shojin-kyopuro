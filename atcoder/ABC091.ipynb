{
 "cells": [
  {
   "cell_type": "markdown",
   "metadata": {},
   "source": [
    "# C"
   ]
  },
  {
   "cell_type": "code",
   "execution_count": 18,
   "metadata": {},
   "outputs": [
    {
     "name": "stdin",
     "output_type": "stream",
     "text": [
      " 5\n",
      " 0 0\n",
      " 7 3\n",
      " 2 2\n",
      " 4 8\n",
      " 1 6\n",
      " 8 5\n",
      " 6 9\n",
      " 5 4\n",
      " 9 1\n",
      " 3 7\n"
     ]
    },
    {
     "name": "stdout",
     "output_type": "stream",
     "text": [
      "[[0, 0], [1, 6], [2, 2], [4, 8], [7, 3]]\n",
      "[[3, 7], [5, 4], [6, 9], [8, 5], [9, 1]]\n",
      "[7, 3] [8, 5]\n",
      "[4, 8] [6, 9]\n",
      "[2, 2] [3, 7]\n",
      "[0, 0] [5, 4]\n",
      "4\n"
     ]
    }
   ],
   "source": [
    "from operator import itemgetter\n",
    "N = int(input())\n",
    "AB = [list(map(int,input().split())) for i in range(N)]\n",
    "CD = [list(map(int,input().split())) for i in range(N)]\n",
    "\n",
    "AB = sorted(AB, key=itemgetter(1), reverse=True)\n",
    "CD = sorted(CD, key=itemgetter(0))\n",
    "\n",
    "print(AB)\n",
    "print(CD)\n",
    "\n",
    "red = 0\n",
    "ans = 0\n",
    "\n",
    "for ab in AB[::-1]:\n",
    "    x,y = ab[0],ab[1]\n",
    "    for i,b in enumerate(CD):\n",
    "        bx, by = b[0],b[1]\n",
    "        if x < bx and y < by:\n",
    "            print(ab,b)\n",
    "            del CD[i]\n",
    "            ans+=1\n",
    "            break\n",
    "    \n",
    "        \n",
    "print(ans)\n",
    "    "
   ]
  },
  {
   "cell_type": "code",
   "execution_count": null,
   "metadata": {},
   "outputs": [],
   "source": []
  }
 ],
 "metadata": {
  "kernelspec": {
   "display_name": "Python 3",
   "language": "python",
   "name": "python3"
  },
  "language_info": {
   "codemirror_mode": {
    "name": "ipython",
    "version": 3
   },
   "file_extension": ".py",
   "mimetype": "text/x-python",
   "name": "python",
   "nbconvert_exporter": "python",
   "pygments_lexer": "ipython3",
   "version": "3.7.1"
  }
 },
 "nbformat": 4,
 "nbformat_minor": 2
}
