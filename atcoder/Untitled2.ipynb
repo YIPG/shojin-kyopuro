{
 "cells": [
  {
   "cell_type": "markdown",
   "metadata": {},
   "source": [
    "# 天下一武道コンテスト"
   ]
  },
  {
   "cell_type": "markdown",
   "metadata": {},
   "source": [
    "# A"
   ]
  },
  {
   "cell_type": "code",
   "execution_count": 10,
   "metadata": {},
   "outputs": [
    {
     "name": "stdin",
     "output_type": "stream",
     "text": [
      " 10 4 2\n"
     ]
    },
    {
     "name": "stdout",
     "output_type": "stream",
     "text": [
      "No\n"
     ]
    }
   ],
   "source": [
    "a,b,c=map(int,input().split())\n",
    "if min(a,b) < c < max(a,b):\n",
    "    print(\"Yes\")\n",
    "else:\n",
    "    print(\"No\")"
   ]
  },
  {
   "cell_type": "markdown",
   "metadata": {},
   "source": [
    "# B"
   ]
  },
  {
   "cell_type": "code",
   "execution_count": 11,
   "metadata": {},
   "outputs": [
    {
     "name": "stdin",
     "output_type": "stream",
     "text": [
      " 5\n",
      " error\n",
      " 2\n"
     ]
    },
    {
     "name": "stdout",
     "output_type": "stream",
     "text": [
      "*rr*r\n"
     ]
    }
   ],
   "source": [
    "n=int(input())\n",
    "s=input()\n",
    "k=int(input())\n",
    "t=s[k-1]\n",
    "ans=\"\"\n",
    "for i in s:\n",
    "    if i!=t:\n",
    "        ans+=\"*\"\n",
    "    else:\n",
    "        ans+=t\n",
    "print(ans)"
   ]
  },
  {
   "cell_type": "markdown",
   "metadata": {},
   "source": [
    "# C"
   ]
  },
  {
   "cell_type": "code",
   "execution_count": 36,
   "metadata": {},
   "outputs": [
    {
     "name": "stdin",
     "output_type": "stream",
     "text": [
      " 9\n",
      " ......\n"
     ]
    },
    {
     "name": "stdout",
     "output_type": "stream",
     "text": [
      "0\n"
     ]
    }
   ],
   "source": [
    "import numpy as np\n",
    "n=int(input())\n",
    "s=input()\n",
    "ans = 0\n",
    "kuro = [0]*(n+1)\n",
    "siro = [0]*(n+1)\n",
    "if n==1:\n",
    "    ans=0\n",
    "if n ==2:\n",
    "    if s==\"#.\":\n",
    "        ans=1\n",
    "else: \n",
    "    for i,j in enumerate(s[::-1]):\n",
    "        if j==\".\":\n",
    "            kuro[i+1]=kuro[i]+1\n",
    "        else:\n",
    "            kuro[i+1]=kuro[i]\n",
    "    for i,j in enumerate(s):\n",
    "        if j == \"#\":\n",
    "            siro[i+1]=siro[i]+1\n",
    "        else:\n",
    "            siro[i+1]=siro[i]\n",
    "            \n",
    "    ku = np.array(kuro[::-1])\n",
    "    si = np.array(siro)\n",
    "    ans=np.min(ku+si)\n",
    "    \n",
    "print(ans)"
   ]
  },
  {
   "cell_type": "markdown",
   "metadata": {},
   "source": [
    "# D"
   ]
  },
  {
   "cell_type": "code",
   "execution_count": null,
   "metadata": {},
   "outputs": [],
   "source": []
  }
 ],
 "metadata": {
  "kernelspec": {
   "display_name": "Python 3",
   "language": "python",
   "name": "python3"
  },
  "language_info": {
   "codemirror_mode": {
    "name": "ipython",
    "version": 3
   },
   "file_extension": ".py",
   "mimetype": "text/x-python",
   "name": "python",
   "nbconvert_exporter": "python",
   "pygments_lexer": "ipython3",
   "version": "3.7.1"
  }
 },
 "nbformat": 4,
 "nbformat_minor": 2
}
