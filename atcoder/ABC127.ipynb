{
 "cells": [
  {
   "cell_type": "markdown",
   "metadata": {},
   "source": [
    "# C"
   ]
  },
  {
   "cell_type": "code",
   "execution_count": 35,
   "metadata": {},
   "outputs": [
    {
     "name": "stdin",
     "output_type": "stream",
     "text": [
      " 100000 1\n",
      " 1 100000\n"
     ]
    },
    {
     "name": "stdout",
     "output_type": "stream",
     "text": [
      "100000\n"
     ]
    }
   ],
   "source": [
    "n,m = map(int,input().split())\n",
    "card = [0]*n\n",
    "l,r = 1,n\n",
    "for i in range(m):\n",
    "    tmp_l,tmp_r = map(int,input().split())\n",
    "    if l < tmp_l:\n",
    "        l=tmp_l\n",
    "    if r > tmp_r:\n",
    "        r = tmp_r\n",
    "ans = 0\n",
    "if r-l>=0:\n",
    "    ans = r-l+1\n",
    "print(ans)"
   ]
  },
  {
   "cell_type": "markdown",
   "metadata": {},
   "source": [
    "# D"
   ]
  },
  {
   "cell_type": "code",
   "execution_count": 57,
   "metadata": {},
   "outputs": [
    {
     "name": "stdin",
     "output_type": "stream",
     "text": [
      " 10 3\n",
      " 1 8 5 7 100 4 52 33 13 5\n",
      " 3 10\n",
      " 4 30\n",
      " 1 4\n"
     ]
    },
    {
     "name": "stdout",
     "output_type": "stream",
     "text": [
      "[[1, 4], [3, 10], [4, 30]]\n",
      "327\n"
     ]
    }
   ],
   "source": [
    "from bisect import bisect\n",
    "\n",
    "n,m = map(int,input().split())\n",
    "an = list(map(int,input().split()))\n",
    "\n",
    "agaga = [0]*m\n",
    "\n",
    "for i in range(m):\n",
    "    unti,unti1=map(int,input().split())\n",
    "    agaga[i]=[unti,unti1]\n",
    "\n",
    "agaga.sort(key=lambda x:x[1], reverse=True)\n",
    "\n",
    "print(agaga)\n",
    "\n",
    "for unti in agaga:\n",
    "    b,c=unti[0],unti[1]\n",
    "    cnt = bisect(an,c)\n",
    "    if b <= cnt:\n",
    "        for j in range(b):\n",
    "            an[j]=c\n",
    "    else:\n",
    "        for j in range(cnt):\n",
    "            an[j]=c\n",
    "print(sum(an))\n",
    "#     for j in range(b):\n",
    "#         tmp_min = min(an)\n",
    "#         if c > tmp_min:\n",
    "#             an[an.index(tmp_min)] = c\n",
    "# print(sum(an))"
   ]
  },
  {
   "cell_type": "markdown",
   "metadata": {},
   "source": [
    "## TLE. 萎え"
   ]
  },
  {
   "cell_type": "markdown",
   "metadata": {},
   "source": [
    "# D(ans)"
   ]
  },
  {
   "cell_type": "code",
   "execution_count": 1,
   "metadata": {},
   "outputs": [
    {
     "name": "stdin",
     "output_type": "stream",
     "text": [
      " 3 2\n",
      " 5 1 4\n",
      " 2 3\n",
      " 1 5\n"
     ]
    },
    {
     "name": "stdout",
     "output_type": "stream",
     "text": [
      "[1, 4, 5] [(1, 5), (2, 3)]\n",
      "14\n"
     ]
    }
   ],
   "source": [
    "N, M = map(int, input().split())\n",
    "A = list(map(int, input().split()))\n",
    "D = []\n",
    "for i in range(M):\n",
    "    b, c = map(int, input().split())\n",
    "    D.append((b, c))\n",
    "A = sorted(A)\n",
    "D = sorted(D, key=lambda x: x[1], reverse=True)\n",
    "\n",
    "i = 0\n",
    "for j in range(M):\n",
    "    p, q = D[j]\n",
    "    while p > 0:\n",
    "        if i < N and q > A[i]:\n",
    "            A[i] = q\n",
    "            i += 1\n",
    "        else:\n",
    "            break\n",
    "        p -= 1\n",
    "print(sum(A))"
   ]
  },
  {
   "cell_type": "code",
   "execution_count": 4,
   "metadata": {},
   "outputs": [
    {
     "name": "stdout",
     "output_type": "stream",
     "text": [
      "yaho\n",
      "yaho\n",
      "break\n",
      "yaho\n",
      "yaho\n",
      "break\n",
      "yaho\n",
      "yaho\n",
      "break\n",
      "yaho\n",
      "yaho\n",
      "break\n",
      "yaho\n",
      "yaho\n",
      "break\n"
     ]
    }
   ],
   "source": [
    "for i in range(5):\n",
    "    for j in range(3):\n",
    "        if j > 1:\n",
    "            print(\"break\")\n",
    "            break\n",
    "        print(\"yaho\")\n",
    "    "
   ]
  },
  {
   "cell_type": "markdown",
   "metadata": {},
   "source": [
    "## "
   ]
  }
 ],
 "metadata": {
  "kernelspec": {
   "display_name": "Python 3",
   "language": "python",
   "name": "python3"
  },
  "language_info": {
   "codemirror_mode": {
    "name": "ipython",
    "version": 3
   },
   "file_extension": ".py",
   "mimetype": "text/x-python",
   "name": "python",
   "nbconvert_exporter": "python",
   "pygments_lexer": "ipython3",
   "version": "3.7.3"
  }
 },
 "nbformat": 4,
 "nbformat_minor": 2
}
