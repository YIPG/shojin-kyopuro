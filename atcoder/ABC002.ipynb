{
 "cells": [
  {
   "cell_type": "markdown",
   "metadata": {},
   "source": [
    "# D"
   ]
  },
  {
   "cell_type": "markdown",
   "metadata": {},
   "source": [
    "最大の派閥に属しているか否かで全探索かな？\n",
    "2^12だから間に合う"
   ]
  },
  {
   "cell_type": "code",
   "execution_count": null,
   "metadata": {},
   "outputs": [
    {
     "name": "stdin",
     "output_type": "stream",
     "text": [
      " 7 9\n",
      " 1 2\n",
      " 1 3\n",
      " 2 3\n",
      " 4 5\n",
      " 4 6\n",
      " 4 7\n",
      " 5 6\n"
     ]
    }
   ],
   "source": [
    "from itertools import product, combinations\n",
    "n,m = map(int,input().split())\n",
    "xy = [tuple(map(lambda x: int(x)-1,input().split())) for i in range(m)]\n",
    "ops = product([0,1], repeat=n)\n",
    "ans = 0\n",
    "for op in ops:\n",
    "#     print(op)\n",
    "    flag = True\n",
    "    tmp = []\n",
    "    for i in range(n):\n",
    "        if op[i]:\n",
    "            tmp.append(i)\n",
    "    combs = list(combinations(tmp,2))\n",
    "    for com in combs:\n",
    "        if com in xy:\n",
    "            continue\n",
    "        else:\n",
    "            flag=False\n",
    "    if flag:\n",
    "        ans = max(ans,len(tmp))\n",
    "print(ans)"
   ]
  },
  {
   "cell_type": "code",
   "execution_count": 7,
   "metadata": {},
   "outputs": [
    {
     "name": "stdout",
     "output_type": "stream",
     "text": [
      "[(0, 1, 2, 3), (0, 1, 2, 4), (0, 1, 3, 4), (0, 2, 3, 4), (1, 2, 3, 4)]\n"
     ]
    }
   ],
   "source": [
    "from itertools import combinations\n",
    "c = combinations([0,1,2,3,4], 4)\n",
    "print(list(c))"
   ]
  },
  {
   "cell_type": "code",
   "execution_count": 2,
   "metadata": {},
   "outputs": [
    {
     "data": {
      "text/plain": [
       "<itertools.combinations at 0x104a7c458>"
      ]
     },
     "execution_count": 2,
     "metadata": {},
     "output_type": "execute_result"
    }
   ],
   "source": []
  },
  {
   "cell_type": "code",
   "execution_count": null,
   "metadata": {},
   "outputs": [],
   "source": []
  }
 ],
 "metadata": {
  "kernelspec": {
   "display_name": "Python 3",
   "language": "python",
   "name": "python3"
  },
  "language_info": {
   "codemirror_mode": {
    "name": "ipython",
    "version": 3
   },
   "file_extension": ".py",
   "mimetype": "text/x-python",
   "name": "python",
   "nbconvert_exporter": "python",
   "pygments_lexer": "ipython3",
   "version": "3.7.3"
  }
 },
 "nbformat": 4,
 "nbformat_minor": 2
}
