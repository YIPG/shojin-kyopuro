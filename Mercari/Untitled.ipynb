{
 "cells": [
  {
   "cell_type": "code",
   "execution_count": 2,
   "metadata": {},
   "outputs": [
    {
     "name": "stdout",
     "output_type": "stream",
     "text": [
      "unko\n"
     ]
    }
   ],
   "source": [
    "print(\"unko\")"
   ]
  },
  {
   "cell_type": "code",
   "execution_count": 5,
   "metadata": {},
   "outputs": [
    {
     "name": "stdout",
     "output_type": "stream",
     "text": [
      "1\n",
      "2\n",
      "3\n",
      "4\n"
     ]
    }
   ],
   "source": [
    "for i in range(1,5):\n",
    "    print(i)"
   ]
  },
  {
   "cell_type": "code",
   "execution_count": 37,
   "metadata": {},
   "outputs": [],
   "source": [
    "arr = [3,5,6,1,3,2,6,8]\n",
    "arr.sort(reverse=True)\n",
    "s = sum(arr)"
   ]
  },
  {
   "cell_type": "code",
   "execution_count": 38,
   "metadata": {},
   "outputs": [
    {
     "data": {
      "text/plain": [
       "34"
      ]
     },
     "execution_count": 38,
     "metadata": {},
     "output_type": "execute_result"
    }
   ],
   "source": [
    "s"
   ]
  },
  {
   "cell_type": "code",
   "execution_count": 46,
   "metadata": {},
   "outputs": [
    {
     "name": "stdout",
     "output_type": "stream",
     "text": [
      "[6, 6, 8]\n"
     ]
    }
   ],
   "source": [
    "tmp = 0\n",
    "for i,v in enumerate(arr):\n",
    "    tmp += v\n",
    "    if 2*tmp>s:\n",
    "        print(arr[:i+1][::-1])\n",
    "        break"
   ]
  },
  {
   "cell_type": "code",
   "execution_count": 40,
   "metadata": {},
   "outputs": [
    {
     "data": {
      "text/plain": [
       "[8, 14, 20, 25, 28, 31, 33, 34]"
      ]
     },
     "execution_count": 40,
     "metadata": {},
     "output_type": "execute_result"
    }
   ],
   "source": [
    "ruiseki"
   ]
  },
  {
   "cell_type": "code",
   "execution_count": 44,
   "metadata": {},
   "outputs": [
    {
     "name": "stdout",
     "output_type": "stream",
     "text": [
      "[6, 6, 8]\n"
     ]
    }
   ],
   "source": [
    "for i,v in enumerate(ruiseki):\n",
    "    if 2*v > s:\n",
    "        print(arr[:i+1][::-1])\n",
    "        break"
   ]
  },
  {
   "cell_type": "code",
   "execution_count": 29,
   "metadata": {},
   "outputs": [
    {
     "data": {
      "text/plain": [
       "[1, 2, 3]"
      ]
     },
     "execution_count": 29,
     "metadata": {},
     "output_type": "execute_result"
    }
   ],
   "source": [
    "[3,2,1][::-1]"
   ]
  },
  {
   "cell_type": "code",
   "execution_count": 49,
   "metadata": {},
   "outputs": [
    {
     "name": "stdout",
     "output_type": "stream",
     "text": [
      "14\n"
     ]
    }
   ],
   "source": [
    "numbers = [3,4,5,3,3,7,5,8]\n",
    "ans=0\n",
    "m = min(numbers)\n",
    "for n in numbers:\n",
    "    ans += (n-m)\n",
    "print(ans)"
   ]
  },
  {
   "cell_type": "code",
   "execution_count": 116,
   "metadata": {},
   "outputs": [
    {
     "name": "stdout",
     "output_type": "stream",
     "text": [
      "max is  992\n",
      "min is  110\n",
      "882\n"
     ]
    }
   ],
   "source": [
    "num = 112\n",
    "s_num= str(num)\n",
    "max_flag, min_flag, min_first_flag = False, False, False\n",
    "max_s, min_s = \"9\", \"0\"\n",
    "\n",
    "for i,s in enumerate(s_num):\n",
    "    if i == 0 and s != \"1\":\n",
    "        min_s = s\n",
    "        min_flag, min_first_flag = True, True\n",
    "    else:\n",
    "        if max_flag and min_flag:\n",
    "            break\n",
    "        else:\n",
    "            if s != \"9\" and not max_flag:\n",
    "                max_s = s\n",
    "                max_flag = True\n",
    "            if s != \"0\" and s != \"1\" and not min_flag:\n",
    "                min_s = s\n",
    "                min_flag = True\n",
    "max_n = int(s_num.replace(max_s, \"9\"))\n",
    "if min_first_flag:\n",
    "    min_n = int(s_num.replace(min_s, \"1\"))\n",
    "else:\n",
    "    min_n = int(s_num.replace(min_s, \"0\"))\n",
    "print(\"max is \",max_n)\n",
    "print(\"min is \", min_n)\n",
    "print(max_n-min_n)"
   ]
  },
  {
   "cell_type": "code",
   "execution_count": 83,
   "metadata": {},
   "outputs": [],
   "source": [
    "def sum_digits(n):\n",
    "    r = 0\n",
    "    while n:\n",
    "        r, n = r + n % 10, n // 10\n",
    "    return r"
   ]
  },
  {
   "cell_type": "code",
   "execution_count": null,
   "metadata": {},
   "outputs": [],
   "source": []
  },
  {
   "cell_type": "code",
   "execution_count": 103,
   "metadata": {},
   "outputs": [
    {
     "name": "stdout",
     "output_type": "stream",
     "text": [
      "3\n"
     ]
    }
   ],
   "source": [
    "from collections import Counter\n",
    "\n",
    "n=3\n",
    "from collections import Counter\n",
    "c = Counter([sum_digits(i) for i in range(1,n+1)])\n",
    "c_freq = c.most_common()\n",
    "ans = 1\n",
    "for i, v in enumerate(c_freq[:-1]):\n",
    "    if v[1]!=c_freq[i+1][1]:\n",
    "        break\n",
    "    else:\n",
    "        ans += 1\n",
    "return ans"
   ]
  },
  {
   "cell_type": "code",
   "execution_count": null,
   "metadata": {},
   "outputs": [],
   "source": []
  },
  {
   "cell_type": "code",
   "execution_count": null,
   "metadata": {},
   "outputs": [],
   "source": []
  }
 ],
 "metadata": {
  "kernelspec": {
   "display_name": "Python 3",
   "language": "python",
   "name": "python3"
  },
  "language_info": {
   "codemirror_mode": {
    "name": "ipython",
    "version": 3
   },
   "file_extension": ".py",
   "mimetype": "text/x-python",
   "name": "python",
   "nbconvert_exporter": "python",
   "pygments_lexer": "ipython3",
   "version": "3.7.1"
  }
 },
 "nbformat": 4,
 "nbformat_minor": 2
}
