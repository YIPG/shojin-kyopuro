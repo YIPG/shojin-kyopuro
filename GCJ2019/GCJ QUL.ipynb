{
 "cells": [
  {
   "cell_type": "markdown",
   "metadata": {},
   "source": [
    "# A"
   ]
  },
  {
   "cell_type": "code",
   "execution_count": 46,
   "metadata": {},
   "outputs": [
    {
     "name": "stdin",
     "output_type": "stream",
     "text": [
      " 3\n",
      " 4\n"
     ]
    },
    {
     "name": "stdout",
     "output_type": "stream",
     "text": [
      "Case #1: 2 2\n"
     ]
    },
    {
     "name": "stdin",
     "output_type": "stream",
     "text": [
      " 79\n"
     ]
    },
    {
     "name": "stdout",
     "output_type": "stream",
     "text": [
      "Case #2: 29 50\n"
     ]
    },
    {
     "name": "stdin",
     "output_type": "stream",
     "text": [
      " 679\n"
     ]
    },
    {
     "name": "stdout",
     "output_type": "stream",
     "text": [
      "Case #3: 329 350\n"
     ]
    }
   ],
   "source": [
    "n = int(input())\n",
    "\n",
    "def ok(n):\n",
    "    a,b,c, cnt = 0, 0, 0, 1\n",
    "    # 偶数のとき\n",
    "    if n % 2 == 0:\n",
    "        a = b = n//2\n",
    "        while a:\n",
    "            if a % 10 == 4:\n",
    "                c += cnt\n",
    "            cnt *= 10\n",
    "            a //= 10\n",
    "        return b + c, b - c\n",
    "    # 奇数のとき\n",
    "    else:\n",
    "        a = n//2\n",
    "        b = a + 1\n",
    "        # 一桁目が3か4のときだけ👎\n",
    "        if a % 10 == 3:\n",
    "            c += cnt\n",
    "            cnt *= 10\n",
    "            a //= 10\n",
    "        while a:\n",
    "            if a % 10 == 4:\n",
    "                c += cnt\n",
    "            cnt *= 10\n",
    "            a //= 10\n",
    "        a, b, c, cnt = b - c - 1, b + c, 0, 1\n",
    "        while b:\n",
    "            if b % 10 == 4:\n",
    "                c += cnt\n",
    "            cnt *= 10\n",
    "            b //= 10\n",
    "        return a-c, n-a+c\n",
    "\n",
    "# for i in range(a,1000):\n",
    "#     x,y = ok(i)\n",
    "#     if not x + y == i:\n",
    "#         print(\"n is {}, 数が合っていません\".format(i))\n",
    "#     if (\"4\" in str(x)) or (\"4\" in str(y)):\n",
    "#         print(\"n is {}, x is {}, y is {}, 4が含まれています\".format(i,x,y))\n",
    "#     if x < 1 or y < 1:\n",
    "#         print(\"x is {}, y is {}, x,yが小さすぎます。\".format(x,y))\n",
    "\n",
    "for i in range(n):\n",
    "    a = int(input())\n",
    "    print(\"Case #{}: \".format(i+1) + \" \".join(map(str,ok(a))))"
   ]
  },
  {
   "cell_type": "markdown",
   "metadata": {},
   "source": [
    "# B"
   ]
  },
  {
   "cell_type": "code",
   "execution_count": 48,
   "metadata": {},
   "outputs": [
    {
     "name": "stdin",
     "output_type": "stream",
     "text": [
      " 2\n",
      " 2\n",
      " SE\n"
     ]
    },
    {
     "name": "stdout",
     "output_type": "stream",
     "text": [
      "Case #1: ES\n"
     ]
    },
    {
     "name": "stdin",
     "output_type": "stream",
     "text": [
      " 5\n",
      " EESSSESE\n"
     ]
    },
    {
     "name": "stdout",
     "output_type": "stream",
     "text": [
      "Case #2: SSEEESES\n"
     ]
    }
   ],
   "source": [
    "t = int(input())\n",
    "for i in range(t):\n",
    "    n = int(input())\n",
    "    Lydia = input()\n",
    "    ans = []\n",
    "    for s in Lydia:\n",
    "        ans.append(\"E\" if s==\"S\" else \"S\")\n",
    "    print(\"Case #{}: \".format(i+1) + \"\".join(ans))\n",
    "    "
   ]
  },
  {
   "cell_type": "markdown",
   "metadata": {},
   "source": [
    "# C"
   ]
  },
  {
   "cell_type": "code",
   "execution_count": 100,
   "metadata": {},
   "outputs": [
    {
     "name": "stdin",
     "output_type": "stream",
     "text": [
      " 1\n",
      " 10000 25\n",
      " 3292937 175597 18779 50429 375469 1651121 2102 3722 2376497 611683 489059 2328901 3150061 829981 421301 76409 38477 291931 730241 959821 1664197 3057407 4267589 4729181 5335543\n"
     ]
    },
    {
     "name": "stdout",
     "output_type": "stream",
     "text": [
      "Case #1: SUBDERMATOGLYPHICFJKNQVWXZ\n"
     ]
    }
   ],
   "source": [
    "t = int(input())\n",
    "\n",
    "# 素数２つに分解したい\n",
    "# エラトステネスの篩\n",
    "\n",
    "def primes(n):\n",
    "    is_prime = [True] * (n + 1)\n",
    "    is_prime[0] = False\n",
    "    is_prime[1] = False\n",
    "    for i in range(2, int(n**0.5) + 1):\n",
    "        if not is_prime[i]:\n",
    "            continue\n",
    "        for j in range(i * 2, n + 1, i):\n",
    "            is_prime[j] = False\n",
    "    return [i for i in range(n + 1) if is_prime[i]]\n",
    "\n",
    "prime_list = primes(10000)\n",
    "\n",
    "for i in range(t):\n",
    "    n,l = map(int,input().split())\n",
    "    cipher = list(map(int,input().split()))\n",
    "    \n",
    "    cipher_list = []\n",
    "    hukugen = []\n",
    "    \n",
    "    for index, ci in enumerate(cipher):\n",
    "        if index == 0:\n",
    "            for p in prime_list:\n",
    "                if ci % p == 0:\n",
    "                    if p not in cipher_list:\n",
    "                        cipher_list.append(p)\n",
    "                    if ci//p not in cipher_list:\n",
    "                        cipher_list.append(ci//p)\n",
    "                    hukugen.append((p,ci//p))\n",
    "                    break\n",
    "        else:\n",
    "            p, q = hukugen[index-1][0], hukugen[index-1][1]\n",
    "            if ci % p == 0:\n",
    "                hukugen.append((p, ci//p))\n",
    "                if p not in cipher_list:\n",
    "                    cipher_list.append(ci//p)\n",
    "                hukugen[index-1] = (q,p)\n",
    "            else:\n",
    "                hukugen.append((q, ci//q))\n",
    "                if ci//q not in cipher_list:\n",
    "                    cipher_list.append(ci//q)\n",
    "    cipher_list.sort()\n",
    "    \n",
    "#     alpha_map = {}\n",
    "#     for index, j in enumerate(cipher_list):\n",
    "#         alpha_map[j] = chr(65+index)\n",
    "        \n",
    "#     ans = []\n",
    "#     for first, second in hukugen:\n",
    "#         ans.append(alpha_map[first])\n",
    "#     ans.append(alpha_map[hukugen[-1][1]])\n",
    "    ans = \"\"\n",
    "\n",
    "    for first, second in hukugen:\n",
    "        ans += chr(cipher_list.index(first) + 65)\n",
    "    ans += chr(cipher_list.index(hukugen[-1][1]) + 65)\n",
    "    \n",
    "#     print(hukugen)\n",
    "#     print(cipher_list)\n",
    "    print(\"Case #{}: \".format(i+1) +  ans)\n",
    "    "
   ]
  },
  {
   "cell_type": "code",
   "execution_count": null,
   "metadata": {},
   "outputs": [],
   "source": []
  }
 ],
 "metadata": {
  "kernelspec": {
   "display_name": "Python 3",
   "language": "python",
   "name": "python3"
  },
  "language_info": {
   "codemirror_mode": {
    "name": "ipython",
    "version": 3
   },
   "file_extension": ".py",
   "mimetype": "text/x-python",
   "name": "python",
   "nbconvert_exporter": "python",
   "pygments_lexer": "ipython3",
   "version": "3.7.1"
  }
 },
 "nbformat": 4,
 "nbformat_minor": 2
}
