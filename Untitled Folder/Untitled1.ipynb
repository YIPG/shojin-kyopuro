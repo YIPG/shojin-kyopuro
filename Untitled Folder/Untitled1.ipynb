{
 "cells": [
  {
   "cell_type": "code",
   "execution_count": 11,
   "metadata": {},
   "outputs": [
    {
     "name": "stdin",
     "output_type": "stream",
     "text": [
      " 2\n",
      " fced\n"
     ]
    },
    {
     "name": "stdout",
     "output_type": "stream",
     "text": [
      "Yes\n"
     ]
    },
    {
     "name": "stdin",
     "output_type": "stream",
     "text": [
      " babd\n"
     ]
    },
    {
     "name": "stdout",
     "output_type": "stream",
     "text": [
      "No\n"
     ]
    }
   ],
   "source": [
    "n = int(input())\n",
    "\n",
    "alphabet='abcdefghijklmnopqrstuvwxyz'\n",
    "\n",
    "def is_diverse(s):\n",
    "    s=list(s)\n",
    "    s.sort()\n",
    "    s=\"\".join(s)\n",
    "    if s in alphabet:\n",
    "        return True\n",
    "    else:\n",
    "        return False\n",
    "    \n",
    "for i in range(n):\n",
    "    a = input()\n",
    "    if is_diverse(a):\n",
    "        print(\"Yes\")\n",
    "    else:\n",
    "        print(\"No\")"
   ]
  },
  {
   "cell_type": "code",
   "execution_count": 14,
   "metadata": {},
   "outputs": [
    {
     "name": "stdin",
     "output_type": "stream",
     "text": [
      " 2\n",
      " 1000 1000\n"
     ]
    },
    {
     "name": "stdout",
     "output_type": "stream",
     "text": [
      "1000\n"
     ]
    }
   ],
   "source": [
    "n = int(input())\n",
    "numl = list(map(int,input().split()))\n",
    "numl.sort()\n",
    "\n",
    "even, odd = [],[]\n",
    "for i in numl:\n",
    "    if i%2==0:\n",
    "        even.append(i)\n",
    "    else:\n",
    "        odd.append(i)\n",
    "le=len(even)\n",
    "lo = len(odd)\n",
    "if abs(le-lo) <2:\n",
    "    print(0)\n",
    "elif le>lo:\n",
    "    print(sum(even[:le-lo-1]))\n",
    "else:\n",
    "    print(sum(odd[:lo-le-1]))"
   ]
  },
  {
   "cell_type": "code",
   "execution_count": 31,
   "metadata": {},
   "outputs": [
    {
     "name": "stdin",
     "output_type": "stream",
     "text": [
      " 5\n",
      " 1 1 1 2 1\n"
     ]
    },
    {
     "name": "stdout",
     "output_type": "stream",
     "text": [
      "Counter({1: 4, 2: 1})\n",
      "NO\n"
     ]
    }
   ],
   "source": [
    "from collections import Counter\n",
    "n = int(input())\n",
    "numl = list(map(int,input().split()))\n",
    "\n",
    "decrese, increse = [],[]\n",
    "\n",
    "c = Counter(numl)\n",
    "if c.most_common(1)[0][1] > 2:\n",
    "    print(\"NO\")\n",
    "else:\n",
    "    for cnt in c.items():\n",
    "        if cnt[1]==2:\n",
    "            decrese.append(int(cnt[0]))\n",
    "    for i in c.keys():\n",
    "        increse.append(int(i))\n",
    "    increse.sort()\n",
    "    decrese.sort(reverse=True)\n",
    "    print(\"YES\")\n",
    "    print(len(increse))\n",
    "    print(\" \".join(map(str,increse)))\n",
    "    print(len(decrese))\n",
    "    print(\" \".join(map(str,decrese)))\n"
   ]
  },
  {
   "cell_type": "code",
   "execution_count": 50,
   "metadata": {},
   "outputs": [
    {
     "name": "stdin",
     "output_type": "stream",
     "text": [
      " 5\n",
      " 2 4 6 6 6\n"
     ]
    },
    {
     "name": "stdout",
     "output_type": "stream",
     "text": [
      "2\n",
      "[2, 4, 6, 6, 6]\n",
      "1 2 3\n",
      "1 3 4\n",
      "[6, 6]\n",
      "[6]\n",
      "[]\n"
     ]
    }
   ],
   "source": [
    "from collections import Counter\n",
    "import bisect\n",
    "\n",
    "n = int(input())\n",
    "numl = list(map(int,input().split()))\n",
    "\n",
    "c = Counter(numl)\n",
    "freq, freq_cnt = c.most_common(1)[0]\n",
    "freq = int(freq)\n",
    "freq_cnt = int(freq_cnt)\n",
    "\n",
    "print(n - freq_cnt)\n",
    "\n",
    "globaltmp = 0\n",
    "\n",
    "def saiki(l):\n",
    "    global globaltmp\n",
    "    if freq not in l:\n",
    "        print(l)\n",
    "        for index,i in enumerate(l):\n",
    "            print(\"{} {} {}\".format(2 if i > freq else 1, index+globaltmp,index+1+globaltmp))\n",
    "        return\n",
    "    right_index = bisect.bisect_left(l,freq)\n",
    "    print(l)\n",
    "    for index,i in enumerate(l[:right_index][::-1]):\n",
    "        if i == freq:\n",
    "            continue\n",
    "        print(\"{} {} {}\".format(2 if i > freq else 1, right_index+index+globaltmp,right_index+index+1+globaltmp))\n",
    "    globaltmp += right_index+1\n",
    "    saiki(l[right_index+1:])\n",
    "saiki(numl)"
   ]
  },
  {
   "cell_type": "code",
   "execution_count": 38,
   "metadata": {},
   "outputs": [
    {
     "name": "stdout",
     "output_type": "stream",
     "text": [
      "1\n"
     ]
    }
   ],
   "source": [
    "k = int(input())\n",
    "a = reversed(input())\n",
    "b = reversed(input())\n",
    "\n",
    "aa = [0] * (k + 1)\n",
    "bb = [0] * (k + 1)\n",
    "for i, x in enumerate(a):\n",
    "    aa[i] = ord(x) - 97\n",
    "for i, x in enumerate(b):\n",
    "    bb[i] = ord(x) - 97\n",
    "\n",
    "cc = [0]*(k+1)\n",
    "carry=0\n",
    "for i in range(k+1):\n",
    "    cc[i] = aa[i]+bb[i]+carry\n",
    "    if cc[i]>=26:\n",
    "        carry=1\n",
    "        cc[i]-=26\n",
    "    else:\n",
    "        carry=0\n",
    "    "
   ]
  },
  {
   "cell_type": "code",
   "execution_count": 3,
   "metadata": {},
   "outputs": [
    {
     "name": "stdout",
     "output_type": "stream",
     "text": [
      "25\n"
     ]
    }
   ],
   "source": [
    "print(ord(\"z\")-ord(\"a\"))"
   ]
  },
  {
   "cell_type": "code",
   "execution_count": null,
   "metadata": {},
   "outputs": [],
   "source": []
  }
 ],
 "metadata": {
  "kernelspec": {
   "display_name": "Python 3",
   "language": "python",
   "name": "python3"
  },
  "language_info": {
   "codemirror_mode": {
    "name": "ipython",
    "version": 3
   },
   "file_extension": ".py",
   "mimetype": "text/x-python",
   "name": "python",
   "nbconvert_exporter": "python",
   "pygments_lexer": "ipython3",
   "version": "3.7.1"
  }
 },
 "nbformat": 4,
 "nbformat_minor": 2
}
